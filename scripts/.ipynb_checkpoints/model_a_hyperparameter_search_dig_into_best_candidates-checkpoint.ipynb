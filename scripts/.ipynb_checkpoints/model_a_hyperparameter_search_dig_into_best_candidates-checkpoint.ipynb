{
 "cells": [
  {
   "cell_type": "code",
   "execution_count": 24,
   "id": "4106c744-5a93-43c7-ae2c-fb55f0531ccc",
   "metadata": {},
   "outputs": [],
   "source": [
    "import lightgbm as lgb\n",
    "import numpy as np\n",
    "import pandas as pd\n",
    "\n",
    "from sklearn.metrics import accuracy_score, roc_auc_score, precision_score, recall_score, log_loss\n",
    "from tqdm.notebook import tqdm\n",
    "import itertools\n",
    "import matplotlib.pyplot as plt\n",
    "\n",
    "\n",
    "# import dask\n",
    "# from ray import train, tune\n",
    "# from ray.tune.search.optuna import OptunaSearch\n",
    "# from ray.tune.s|chedulers import ASHAScheduler\n",
    "# from ray.tune.search import ConcurrencyLimiter\n",
    "# from optuna.samplers import TPESampler"
   ]
  },
  {
   "cell_type": "code",
   "execution_count": 11,
   "id": "725cdf07-49ce-4616-bd14-c9b5712563c2",
   "metadata": {},
   "outputs": [],
   "source": [
    "fn_train_x = '/Volumes/Extreme SSD/rematch_eia_ferc1_docker/working_data/model_a/train/train_x.parquet'\n",
    "fn_train_y = '/Volumes/Extreme SSD/rematch_eia_ferc1_docker/working_data/model_a/train/train_y.parquet'\n",
    "\n",
    "fn_test_x = '/Volumes/Extreme SSD/rematch_eia_ferc1_docker/working_data/model_a/train/test_x.parquet'\n",
    "fn_test_y = '/Volumes/Extreme SSD/rematch_eia_ferc1_docker/working_data/model_a/train/test_y.parquet'\n",
    "\n",
    "fn_train_id = '/Volumes/Extreme SSD/rematch_eia_ferc1_docker/working_data/model_a/train/train_id.parquet'\n",
    "fn_test_id = '/Volumes/Extreme SSD/rematch_eia_ferc1_docker/working_data/model_a/train/test_id.parquet'\n",
    "\n",
    "fn_grid = '/Volumes/Extreme SSD/rematch_eia_ferc1_docker/working_data/model_a/train/gb_ray_tune/grid_search.csv'\n",
    "fn_out = '/Volumes/Extreme SSD/rematch_eia_ferc1_docker/working_data/model_a/train/gb_ray_tune/cross_validation_of_best_candidates.csv'"
   ]
  },
  {
   "cell_type": "code",
   "execution_count": 3,
   "id": "5d98222c-0a30-4993-8f5e-769f0a944d6a",
   "metadata": {},
   "outputs": [],
   "source": [
    "TrainX = pd.read_parquet(fn_train_x)\n",
    "TrainY = pd.read_parquet(fn_train_y)\n",
    "TestX = pd.read_parquet(fn_test_x)\n",
    "TestY = pd.read_parquet(fn_test_y)\n",
    "TrainID = pd.read_parquet(fn_train_id)\n",
    "TestID = pd.read_parquet(fn_test_id)"
   ]
  },
  {
   "cell_type": "code",
   "execution_count": 4,
   "id": "23cb7515-ae11-42b4-8f34-170219e22678",
   "metadata": {},
   "outputs": [],
   "source": [
    "X = pd.concat([TrainX, TestX])\n",
    "Y = pd.concat([TrainY, TestY])\n",
    "ID = pd.concat([TrainID, TestID])"
   ]
  },
  {
   "cell_type": "code",
   "execution_count": 5,
   "id": "d39c5999-4d71-43cc-b2a9-9be29c4849c7",
   "metadata": {},
   "outputs": [
    {
     "data": {
      "text/plain": [
       "{'num_trees': 437,\n",
       " 'learning_rate': 0.0076861305642603,\n",
       " 'min_data_in_leaf': 76,\n",
       " 'objective': 'binary',\n",
       " 'early_stopping_round': -1}"
      ]
     },
     "execution_count": 5,
     "metadata": {},
     "output_type": "execute_result"
    }
   ],
   "source": [
    "rename_dict = {'config/num_trees':'num_trees', 'config/learning_rate':'learning_rate', 'config/min_data_in_leaf':'min_data_in_leaf', 'config/objective':'objective', 'config/early_stopping_round':'early_stopping_round'} #, 'config/metrics':'metrics'}\n",
    "\n",
    "Grid = pd.read_csv(fn_grid, index_col='rank')\n",
    "Grid = Grid.rename(columns=rename_dict)[list(rename_dict.values())]\n",
    "\n",
    "# Create a dictionary: punch in the rank of the model we want to use, and get the parameters back, as a dictionary\n",
    "param_dict = {i:Grid.loc[i].to_dict() for i in Grid.index}\n",
    "param_dict[0]"
   ]
  },
  {
   "cell_type": "code",
   "execution_count": 6,
   "id": "f41c5098-537b-438e-9668-b8ecc7a0090f",
   "metadata": {},
   "outputs": [
    {
     "data": {
      "text/plain": [
       "[('f1_steam_2005_12_108_0_1', 2),\n",
       " ('f1_steam_2005_12_108_0_2', 2),\n",
       " ('f1_steam_2005_12_108_0_4', 3),\n",
       " ('f1_steam_2005_12_108_0_5', 0),\n",
       " ('f1_steam_2005_12_108_1_1', 0)]"
      ]
     },
     "execution_count": 6,
     "metadata": {},
     "output_type": "execute_result"
    }
   ],
   "source": [
    "# Assign a number, 0-4, for each unique ferc id\n",
    "\n",
    "unique_ferc_ids = ID['record_id_ferc1'].unique()\n",
    "num_folds = 5\n",
    "fold_list = np.random.choice(a=range(num_folds), size=len(unique_ferc_ids))\n",
    "id_to_fold_dict = dict(zip(unique_ferc_ids.tolist(), fold_list))\n",
    "\n",
    "list(id_to_fold_dict.items())[:5]"
   ]
  },
  {
   "cell_type": "markdown",
   "id": "4f1cc802-2b32-4ee2-b369-064ec6e06b0e",
   "metadata": {},
   "source": [
    "Each record_id_ferc1 is mapped to a number, 0:num_folds. \n",
    "\n",
    "This means that for any fold, we can say that any record_id_ferc1 that corresponds to that number is testing data, and all others are training data"
   ]
  },
  {
   "cell_type": "code",
   "execution_count": 7,
   "id": "4f044d86-2d54-4524-bee1-cb181a8c742d",
   "metadata": {},
   "outputs": [
    {
     "data": {
      "application/vnd.jupyter.widget-view+json": {
       "model_id": "10aa0e4aee154145bf882415186f7e77",
       "version_major": 2,
       "version_minor": 0
      },
      "text/plain": [
       "  0%|          | 0/50 [00:00<?, ?it/s]"
      ]
     },
     "metadata": {},
     "output_type": "display_data"
    },
    {
     "name": "stderr",
     "output_type": "stream",
     "text": [
      "/opt/miniconda3/lib/python3.12/site-packages/lightgbm/engine.py:204: UserWarning: Found `num_trees` in params. Will use it instead of argument\n",
      "  _log_warning(f\"Found `{alias}` in params. Will use it instead of argument\")\n"
     ]
    },
    {
     "name": "stdout",
     "output_type": "stream",
     "text": [
      "[LightGBM] [Info] Number of positive: 5089, number of negative: 10178000\n",
      "[LightGBM] [Info] Auto-choosing row-wise multi-threading, the overhead of testing was 0.626845 seconds.\n",
      "You can set `force_row_wise=true` to remove the overhead.\n",
      "And if memory is not enough, you can set `force_col_wise=true`.\n",
      "[LightGBM] [Info] Total Bins 2908\n",
      "[LightGBM] [Info] Number of data points in the train set: 10183089, number of used features: 57\n",
      "[LightGBM] [Info] [binary:BoostFromScore]: pavg=0.000500 -> initscore=-7.600902\n",
      "[LightGBM] [Info] Start training from score -7.600902\n"
     ]
    },
    {
     "name": "stderr",
     "output_type": "stream",
     "text": [
      "/opt/miniconda3/lib/python3.12/site-packages/lightgbm/engine.py:204: UserWarning: Found `num_trees` in params. Will use it instead of argument\n",
      "  _log_warning(f\"Found `{alias}` in params. Will use it instead of argument\")\n"
     ]
    },
    {
     "name": "stdout",
     "output_type": "stream",
     "text": [
      "[LightGBM] [Info] Number of positive: 5170, number of negative: 10340000\n",
      "[LightGBM] [Info] Auto-choosing row-wise multi-threading, the overhead of testing was 0.620468 seconds.\n",
      "You can set `force_row_wise=true` to remove the overhead.\n",
      "And if memory is not enough, you can set `force_col_wise=true`.\n",
      "[LightGBM] [Info] Total Bins 2911\n",
      "[LightGBM] [Info] Number of data points in the train set: 10345170, number of used features: 57\n",
      "[LightGBM] [Info] [binary:BoostFromScore]: pavg=0.000500 -> initscore=-7.600902\n",
      "[LightGBM] [Info] Start training from score -7.600902\n"
     ]
    },
    {
     "name": "stderr",
     "output_type": "stream",
     "text": [
      "/opt/miniconda3/lib/python3.12/site-packages/lightgbm/engine.py:204: UserWarning: Found `num_trees` in params. Will use it instead of argument\n",
      "  _log_warning(f\"Found `{alias}` in params. Will use it instead of argument\")\n"
     ]
    },
    {
     "name": "stdout",
     "output_type": "stream",
     "text": [
      "[LightGBM] [Info] Number of positive: 5108, number of negative: 10216000\n",
      "[LightGBM] [Info] Auto-choosing row-wise multi-threading, the overhead of testing was 0.602555 seconds.\n",
      "You can set `force_row_wise=true` to remove the overhead.\n",
      "And if memory is not enough, you can set `force_col_wise=true`.\n",
      "[LightGBM] [Info] Total Bins 2901\n",
      "[LightGBM] [Info] Number of data points in the train set: 10221108, number of used features: 57\n",
      "[LightGBM] [Info] [binary:BoostFromScore]: pavg=0.000500 -> initscore=-7.600902\n",
      "[LightGBM] [Info] Start training from score -7.600902\n"
     ]
    },
    {
     "name": "stderr",
     "output_type": "stream",
     "text": [
      "/opt/miniconda3/lib/python3.12/site-packages/lightgbm/engine.py:204: UserWarning: Found `num_trees` in params. Will use it instead of argument\n",
      "  _log_warning(f\"Found `{alias}` in params. Will use it instead of argument\")\n"
     ]
    },
    {
     "name": "stdout",
     "output_type": "stream",
     "text": [
      "[LightGBM] [Info] Number of positive: 5043, number of negative: 10086000\n",
      "[LightGBM] [Info] Auto-choosing row-wise multi-threading, the overhead of testing was 0.572203 seconds.\n",
      "You can set `force_row_wise=true` to remove the overhead.\n",
      "And if memory is not enough, you can set `force_col_wise=true`.\n",
      "[LightGBM] [Info] Total Bins 2909\n",
      "[LightGBM] [Info] Number of data points in the train set: 10091043, number of used features: 57\n",
      "[LightGBM] [Info] [binary:BoostFromScore]: pavg=0.000500 -> initscore=-7.600902\n",
      "[LightGBM] [Info] Start training from score -7.600902\n"
     ]
    },
    {
     "name": "stderr",
     "output_type": "stream",
     "text": [
      "/opt/miniconda3/lib/python3.12/site-packages/lightgbm/engine.py:204: UserWarning: Found `num_trees` in params. Will use it instead of argument\n",
      "  _log_warning(f\"Found `{alias}` in params. Will use it instead of argument\")\n"
     ]
    },
    {
     "name": "stdout",
     "output_type": "stream",
     "text": [
      "[LightGBM] [Info] Number of positive: 5062, number of negative: 10124000\n",
      "[LightGBM] [Info] Auto-choosing row-wise multi-threading, the overhead of testing was 0.681424 seconds.\n",
      "You can set `force_row_wise=true` to remove the overhead.\n",
      "And if memory is not enough, you can set `force_col_wise=true`.\n",
      "[LightGBM] [Info] Total Bins 2915\n",
      "[LightGBM] [Info] Number of data points in the train set: 10129062, number of used features: 57\n",
      "[LightGBM] [Info] [binary:BoostFromScore]: pavg=0.000500 -> initscore=-7.600902\n",
      "[LightGBM] [Info] Start training from score -7.600902\n"
     ]
    },
    {
     "name": "stderr",
     "output_type": "stream",
     "text": [
      "/opt/miniconda3/lib/python3.12/site-packages/lightgbm/engine.py:204: UserWarning: Found `num_trees` in params. Will use it instead of argument\n",
      "  _log_warning(f\"Found `{alias}` in params. Will use it instead of argument\")\n"
     ]
    },
    {
     "name": "stdout",
     "output_type": "stream",
     "text": [
      "[LightGBM] [Info] Number of positive: 5089, number of negative: 10178000\n",
      "[LightGBM] [Info] Auto-choosing row-wise multi-threading, the overhead of testing was 0.598833 seconds.\n",
      "You can set `force_row_wise=true` to remove the overhead.\n",
      "And if memory is not enough, you can set `force_col_wise=true`.\n",
      "[LightGBM] [Info] Total Bins 2908\n",
      "[LightGBM] [Info] Number of data points in the train set: 10183089, number of used features: 57\n",
      "[LightGBM] [Info] [binary:BoostFromScore]: pavg=0.000500 -> initscore=-7.600902\n",
      "[LightGBM] [Info] Start training from score -7.600902\n"
     ]
    },
    {
     "name": "stderr",
     "output_type": "stream",
     "text": [
      "/opt/miniconda3/lib/python3.12/site-packages/lightgbm/engine.py:204: UserWarning: Found `num_trees` in params. Will use it instead of argument\n",
      "  _log_warning(f\"Found `{alias}` in params. Will use it instead of argument\")\n"
     ]
    },
    {
     "name": "stdout",
     "output_type": "stream",
     "text": [
      "[LightGBM] [Info] Number of positive: 5170, number of negative: 10340000\n",
      "[LightGBM] [Info] Auto-choosing row-wise multi-threading, the overhead of testing was 0.691981 seconds.\n",
      "You can set `force_row_wise=true` to remove the overhead.\n",
      "And if memory is not enough, you can set `force_col_wise=true`.\n",
      "[LightGBM] [Info] Total Bins 2911\n",
      "[LightGBM] [Info] Number of data points in the train set: 10345170, number of used features: 57\n",
      "[LightGBM] [Info] [binary:BoostFromScore]: pavg=0.000500 -> initscore=-7.600902\n",
      "[LightGBM] [Info] Start training from score -7.600902\n"
     ]
    },
    {
     "name": "stderr",
     "output_type": "stream",
     "text": [
      "/opt/miniconda3/lib/python3.12/site-packages/lightgbm/engine.py:204: UserWarning: Found `num_trees` in params. Will use it instead of argument\n",
      "  _log_warning(f\"Found `{alias}` in params. Will use it instead of argument\")\n"
     ]
    },
    {
     "name": "stdout",
     "output_type": "stream",
     "text": [
      "[LightGBM] [Info] Number of positive: 5108, number of negative: 10216000\n",
      "[LightGBM] [Info] Auto-choosing row-wise multi-threading, the overhead of testing was 0.639016 seconds.\n",
      "You can set `force_row_wise=true` to remove the overhead.\n",
      "And if memory is not enough, you can set `force_col_wise=true`.\n",
      "[LightGBM] [Info] Total Bins 2901\n",
      "[LightGBM] [Info] Number of data points in the train set: 10221108, number of used features: 57\n",
      "[LightGBM] [Info] [binary:BoostFromScore]: pavg=0.000500 -> initscore=-7.600902\n",
      "[LightGBM] [Info] Start training from score -7.600902\n"
     ]
    },
    {
     "name": "stderr",
     "output_type": "stream",
     "text": [
      "/opt/miniconda3/lib/python3.12/site-packages/lightgbm/engine.py:204: UserWarning: Found `num_trees` in params. Will use it instead of argument\n",
      "  _log_warning(f\"Found `{alias}` in params. Will use it instead of argument\")\n"
     ]
    },
    {
     "name": "stdout",
     "output_type": "stream",
     "text": [
      "[LightGBM] [Info] Number of positive: 5043, number of negative: 10086000\n",
      "[LightGBM] [Info] Auto-choosing row-wise multi-threading, the overhead of testing was 0.531377 seconds.\n",
      "You can set `force_row_wise=true` to remove the overhead.\n",
      "And if memory is not enough, you can set `force_col_wise=true`.\n",
      "[LightGBM] [Info] Total Bins 2909\n",
      "[LightGBM] [Info] Number of data points in the train set: 10091043, number of used features: 57\n",
      "[LightGBM] [Info] [binary:BoostFromScore]: pavg=0.000500 -> initscore=-7.600902\n",
      "[LightGBM] [Info] Start training from score -7.600902\n"
     ]
    },
    {
     "name": "stderr",
     "output_type": "stream",
     "text": [
      "/opt/miniconda3/lib/python3.12/site-packages/lightgbm/engine.py:204: UserWarning: Found `num_trees` in params. Will use it instead of argument\n",
      "  _log_warning(f\"Found `{alias}` in params. Will use it instead of argument\")\n"
     ]
    },
    {
     "name": "stdout",
     "output_type": "stream",
     "text": [
      "[LightGBM] [Info] Number of positive: 5062, number of negative: 10124000\n",
      "[LightGBM] [Info] Auto-choosing row-wise multi-threading, the overhead of testing was 0.532011 seconds.\n",
      "You can set `force_row_wise=true` to remove the overhead.\n",
      "And if memory is not enough, you can set `force_col_wise=true`.\n",
      "[LightGBM] [Info] Total Bins 2915\n",
      "[LightGBM] [Info] Number of data points in the train set: 10129062, number of used features: 57\n",
      "[LightGBM] [Info] [binary:BoostFromScore]: pavg=0.000500 -> initscore=-7.600902\n",
      "[LightGBM] [Info] Start training from score -7.600902\n"
     ]
    },
    {
     "name": "stderr",
     "output_type": "stream",
     "text": [
      "/opt/miniconda3/lib/python3.12/site-packages/lightgbm/engine.py:204: UserWarning: Found `num_trees` in params. Will use it instead of argument\n",
      "  _log_warning(f\"Found `{alias}` in params. Will use it instead of argument\")\n"
     ]
    },
    {
     "name": "stdout",
     "output_type": "stream",
     "text": [
      "[LightGBM] [Info] Number of positive: 5089, number of negative: 10178000\n",
      "[LightGBM] [Info] Auto-choosing row-wise multi-threading, the overhead of testing was 0.543406 seconds.\n",
      "You can set `force_row_wise=true` to remove the overhead.\n",
      "And if memory is not enough, you can set `force_col_wise=true`.\n",
      "[LightGBM] [Info] Total Bins 2908\n",
      "[LightGBM] [Info] Number of data points in the train set: 10183089, number of used features: 57\n",
      "[LightGBM] [Info] [binary:BoostFromScore]: pavg=0.000500 -> initscore=-7.600902\n",
      "[LightGBM] [Info] Start training from score -7.600902\n"
     ]
    },
    {
     "name": "stderr",
     "output_type": "stream",
     "text": [
      "/opt/miniconda3/lib/python3.12/site-packages/lightgbm/engine.py:204: UserWarning: Found `num_trees` in params. Will use it instead of argument\n",
      "  _log_warning(f\"Found `{alias}` in params. Will use it instead of argument\")\n"
     ]
    },
    {
     "name": "stdout",
     "output_type": "stream",
     "text": [
      "[LightGBM] [Info] Number of positive: 5170, number of negative: 10340000\n",
      "[LightGBM] [Info] Auto-choosing row-wise multi-threading, the overhead of testing was 0.592105 seconds.\n",
      "You can set `force_row_wise=true` to remove the overhead.\n",
      "And if memory is not enough, you can set `force_col_wise=true`.\n",
      "[LightGBM] [Info] Total Bins 2911\n",
      "[LightGBM] [Info] Number of data points in the train set: 10345170, number of used features: 57\n",
      "[LightGBM] [Info] [binary:BoostFromScore]: pavg=0.000500 -> initscore=-7.600902\n",
      "[LightGBM] [Info] Start training from score -7.600902\n"
     ]
    },
    {
     "name": "stderr",
     "output_type": "stream",
     "text": [
      "/opt/miniconda3/lib/python3.12/site-packages/lightgbm/engine.py:204: UserWarning: Found `num_trees` in params. Will use it instead of argument\n",
      "  _log_warning(f\"Found `{alias}` in params. Will use it instead of argument\")\n"
     ]
    },
    {
     "name": "stdout",
     "output_type": "stream",
     "text": [
      "[LightGBM] [Info] Number of positive: 5108, number of negative: 10216000\n",
      "[LightGBM] [Info] Auto-choosing row-wise multi-threading, the overhead of testing was 0.554427 seconds.\n",
      "You can set `force_row_wise=true` to remove the overhead.\n",
      "And if memory is not enough, you can set `force_col_wise=true`.\n",
      "[LightGBM] [Info] Total Bins 2901\n",
      "[LightGBM] [Info] Number of data points in the train set: 10221108, number of used features: 57\n",
      "[LightGBM] [Info] [binary:BoostFromScore]: pavg=0.000500 -> initscore=-7.600902\n",
      "[LightGBM] [Info] Start training from score -7.600902\n"
     ]
    },
    {
     "name": "stderr",
     "output_type": "stream",
     "text": [
      "/opt/miniconda3/lib/python3.12/site-packages/lightgbm/engine.py:204: UserWarning: Found `num_trees` in params. Will use it instead of argument\n",
      "  _log_warning(f\"Found `{alias}` in params. Will use it instead of argument\")\n"
     ]
    },
    {
     "name": "stdout",
     "output_type": "stream",
     "text": [
      "[LightGBM] [Info] Number of positive: 5043, number of negative: 10086000\n",
      "[LightGBM] [Info] Auto-choosing row-wise multi-threading, the overhead of testing was 0.549938 seconds.\n",
      "You can set `force_row_wise=true` to remove the overhead.\n",
      "And if memory is not enough, you can set `force_col_wise=true`.\n",
      "[LightGBM] [Info] Total Bins 2909\n",
      "[LightGBM] [Info] Number of data points in the train set: 10091043, number of used features: 57\n",
      "[LightGBM] [Info] [binary:BoostFromScore]: pavg=0.000500 -> initscore=-7.600902\n",
      "[LightGBM] [Info] Start training from score -7.600902\n"
     ]
    },
    {
     "name": "stderr",
     "output_type": "stream",
     "text": [
      "/opt/miniconda3/lib/python3.12/site-packages/lightgbm/engine.py:204: UserWarning: Found `num_trees` in params. Will use it instead of argument\n",
      "  _log_warning(f\"Found `{alias}` in params. Will use it instead of argument\")\n"
     ]
    },
    {
     "name": "stdout",
     "output_type": "stream",
     "text": [
      "[LightGBM] [Info] Number of positive: 5062, number of negative: 10124000\n",
      "[LightGBM] [Info] Auto-choosing row-wise multi-threading, the overhead of testing was 0.530635 seconds.\n",
      "You can set `force_row_wise=true` to remove the overhead.\n",
      "And if memory is not enough, you can set `force_col_wise=true`.\n",
      "[LightGBM] [Info] Total Bins 2915\n",
      "[LightGBM] [Info] Number of data points in the train set: 10129062, number of used features: 57\n",
      "[LightGBM] [Info] [binary:BoostFromScore]: pavg=0.000500 -> initscore=-7.600902\n",
      "[LightGBM] [Info] Start training from score -7.600902\n"
     ]
    },
    {
     "name": "stderr",
     "output_type": "stream",
     "text": [
      "/opt/miniconda3/lib/python3.12/site-packages/lightgbm/engine.py:204: UserWarning: Found `num_trees` in params. Will use it instead of argument\n",
      "  _log_warning(f\"Found `{alias}` in params. Will use it instead of argument\")\n"
     ]
    },
    {
     "name": "stdout",
     "output_type": "stream",
     "text": [
      "[LightGBM] [Info] Number of positive: 5089, number of negative: 10178000\n",
      "[LightGBM] [Info] Auto-choosing row-wise multi-threading, the overhead of testing was 0.536478 seconds.\n",
      "You can set `force_row_wise=true` to remove the overhead.\n",
      "And if memory is not enough, you can set `force_col_wise=true`.\n",
      "[LightGBM] [Info] Total Bins 2908\n",
      "[LightGBM] [Info] Number of data points in the train set: 10183089, number of used features: 57\n",
      "[LightGBM] [Info] [binary:BoostFromScore]: pavg=0.000500 -> initscore=-7.600902\n",
      "[LightGBM] [Info] Start training from score -7.600902\n"
     ]
    },
    {
     "name": "stderr",
     "output_type": "stream",
     "text": [
      "/opt/miniconda3/lib/python3.12/site-packages/lightgbm/engine.py:204: UserWarning: Found `num_trees` in params. Will use it instead of argument\n",
      "  _log_warning(f\"Found `{alias}` in params. Will use it instead of argument\")\n"
     ]
    },
    {
     "name": "stdout",
     "output_type": "stream",
     "text": [
      "[LightGBM] [Info] Number of positive: 5170, number of negative: 10340000\n",
      "[LightGBM] [Info] Auto-choosing row-wise multi-threading, the overhead of testing was 0.579083 seconds.\n",
      "You can set `force_row_wise=true` to remove the overhead.\n",
      "And if memory is not enough, you can set `force_col_wise=true`.\n",
      "[LightGBM] [Info] Total Bins 2911\n",
      "[LightGBM] [Info] Number of data points in the train set: 10345170, number of used features: 57\n",
      "[LightGBM] [Info] [binary:BoostFromScore]: pavg=0.000500 -> initscore=-7.600902\n",
      "[LightGBM] [Info] Start training from score -7.600902\n"
     ]
    },
    {
     "name": "stderr",
     "output_type": "stream",
     "text": [
      "/opt/miniconda3/lib/python3.12/site-packages/lightgbm/engine.py:204: UserWarning: Found `num_trees` in params. Will use it instead of argument\n",
      "  _log_warning(f\"Found `{alias}` in params. Will use it instead of argument\")\n"
     ]
    },
    {
     "name": "stdout",
     "output_type": "stream",
     "text": [
      "[LightGBM] [Info] Number of positive: 5108, number of negative: 10216000\n",
      "[LightGBM] [Info] Auto-choosing row-wise multi-threading, the overhead of testing was 0.585598 seconds.\n",
      "You can set `force_row_wise=true` to remove the overhead.\n",
      "And if memory is not enough, you can set `force_col_wise=true`.\n",
      "[LightGBM] [Info] Total Bins 2901\n",
      "[LightGBM] [Info] Number of data points in the train set: 10221108, number of used features: 57\n",
      "[LightGBM] [Info] [binary:BoostFromScore]: pavg=0.000500 -> initscore=-7.600902\n",
      "[LightGBM] [Info] Start training from score -7.600902\n"
     ]
    },
    {
     "name": "stderr",
     "output_type": "stream",
     "text": [
      "/opt/miniconda3/lib/python3.12/site-packages/lightgbm/engine.py:204: UserWarning: Found `num_trees` in params. Will use it instead of argument\n",
      "  _log_warning(f\"Found `{alias}` in params. Will use it instead of argument\")\n"
     ]
    },
    {
     "name": "stdout",
     "output_type": "stream",
     "text": [
      "[LightGBM] [Info] Number of positive: 5043, number of negative: 10086000\n",
      "[LightGBM] [Info] Auto-choosing row-wise multi-threading, the overhead of testing was 0.554464 seconds.\n",
      "You can set `force_row_wise=true` to remove the overhead.\n",
      "And if memory is not enough, you can set `force_col_wise=true`.\n",
      "[LightGBM] [Info] Total Bins 2909\n",
      "[LightGBM] [Info] Number of data points in the train set: 10091043, number of used features: 57\n",
      "[LightGBM] [Info] [binary:BoostFromScore]: pavg=0.000500 -> initscore=-7.600902\n",
      "[LightGBM] [Info] Start training from score -7.600902\n"
     ]
    },
    {
     "name": "stderr",
     "output_type": "stream",
     "text": [
      "/opt/miniconda3/lib/python3.12/site-packages/lightgbm/engine.py:204: UserWarning: Found `num_trees` in params. Will use it instead of argument\n",
      "  _log_warning(f\"Found `{alias}` in params. Will use it instead of argument\")\n"
     ]
    },
    {
     "name": "stdout",
     "output_type": "stream",
     "text": [
      "[LightGBM] [Info] Number of positive: 5062, number of negative: 10124000\n",
      "[LightGBM] [Info] Auto-choosing row-wise multi-threading, the overhead of testing was 0.703301 seconds.\n",
      "You can set `force_row_wise=true` to remove the overhead.\n",
      "And if memory is not enough, you can set `force_col_wise=true`.\n",
      "[LightGBM] [Info] Total Bins 2915\n",
      "[LightGBM] [Info] Number of data points in the train set: 10129062, number of used features: 57\n",
      "[LightGBM] [Info] [binary:BoostFromScore]: pavg=0.000500 -> initscore=-7.600902\n",
      "[LightGBM] [Info] Start training from score -7.600902\n"
     ]
    },
    {
     "name": "stderr",
     "output_type": "stream",
     "text": [
      "/opt/miniconda3/lib/python3.12/site-packages/lightgbm/engine.py:204: UserWarning: Found `num_trees` in params. Will use it instead of argument\n",
      "  _log_warning(f\"Found `{alias}` in params. Will use it instead of argument\")\n"
     ]
    },
    {
     "name": "stdout",
     "output_type": "stream",
     "text": [
      "[LightGBM] [Info] Number of positive: 5089, number of negative: 10178000\n",
      "[LightGBM] [Info] Auto-choosing row-wise multi-threading, the overhead of testing was 0.541558 seconds.\n",
      "You can set `force_row_wise=true` to remove the overhead.\n",
      "And if memory is not enough, you can set `force_col_wise=true`.\n",
      "[LightGBM] [Info] Total Bins 2908\n",
      "[LightGBM] [Info] Number of data points in the train set: 10183089, number of used features: 57\n",
      "[LightGBM] [Info] [binary:BoostFromScore]: pavg=0.000500 -> initscore=-7.600902\n",
      "[LightGBM] [Info] Start training from score -7.600902\n"
     ]
    },
    {
     "name": "stderr",
     "output_type": "stream",
     "text": [
      "/opt/miniconda3/lib/python3.12/site-packages/lightgbm/engine.py:204: UserWarning: Found `num_trees` in params. Will use it instead of argument\n",
      "  _log_warning(f\"Found `{alias}` in params. Will use it instead of argument\")\n"
     ]
    },
    {
     "name": "stdout",
     "output_type": "stream",
     "text": [
      "[LightGBM] [Info] Number of positive: 5170, number of negative: 10340000\n",
      "[LightGBM] [Info] Auto-choosing row-wise multi-threading, the overhead of testing was 0.557854 seconds.\n",
      "You can set `force_row_wise=true` to remove the overhead.\n",
      "And if memory is not enough, you can set `force_col_wise=true`.\n",
      "[LightGBM] [Info] Total Bins 2911\n",
      "[LightGBM] [Info] Number of data points in the train set: 10345170, number of used features: 57\n",
      "[LightGBM] [Info] [binary:BoostFromScore]: pavg=0.000500 -> initscore=-7.600902\n",
      "[LightGBM] [Info] Start training from score -7.600902\n"
     ]
    },
    {
     "name": "stderr",
     "output_type": "stream",
     "text": [
      "/opt/miniconda3/lib/python3.12/site-packages/lightgbm/engine.py:204: UserWarning: Found `num_trees` in params. Will use it instead of argument\n",
      "  _log_warning(f\"Found `{alias}` in params. Will use it instead of argument\")\n"
     ]
    },
    {
     "name": "stdout",
     "output_type": "stream",
     "text": [
      "[LightGBM] [Info] Number of positive: 5108, number of negative: 10216000\n",
      "[LightGBM] [Info] Auto-choosing row-wise multi-threading, the overhead of testing was 0.518850 seconds.\n",
      "You can set `force_row_wise=true` to remove the overhead.\n",
      "And if memory is not enough, you can set `force_col_wise=true`.\n",
      "[LightGBM] [Info] Total Bins 2901\n",
      "[LightGBM] [Info] Number of data points in the train set: 10221108, number of used features: 57\n",
      "[LightGBM] [Info] [binary:BoostFromScore]: pavg=0.000500 -> initscore=-7.600902\n",
      "[LightGBM] [Info] Start training from score -7.600902\n"
     ]
    },
    {
     "name": "stderr",
     "output_type": "stream",
     "text": [
      "/opt/miniconda3/lib/python3.12/site-packages/lightgbm/engine.py:204: UserWarning: Found `num_trees` in params. Will use it instead of argument\n",
      "  _log_warning(f\"Found `{alias}` in params. Will use it instead of argument\")\n"
     ]
    },
    {
     "name": "stdout",
     "output_type": "stream",
     "text": [
      "[LightGBM] [Info] Number of positive: 5043, number of negative: 10086000\n",
      "[LightGBM] [Info] Auto-choosing row-wise multi-threading, the overhead of testing was 0.511518 seconds.\n",
      "You can set `force_row_wise=true` to remove the overhead.\n",
      "And if memory is not enough, you can set `force_col_wise=true`.\n",
      "[LightGBM] [Info] Total Bins 2909\n",
      "[LightGBM] [Info] Number of data points in the train set: 10091043, number of used features: 57\n",
      "[LightGBM] [Info] [binary:BoostFromScore]: pavg=0.000500 -> initscore=-7.600902\n",
      "[LightGBM] [Info] Start training from score -7.600902\n"
     ]
    },
    {
     "name": "stderr",
     "output_type": "stream",
     "text": [
      "/opt/miniconda3/lib/python3.12/site-packages/lightgbm/engine.py:204: UserWarning: Found `num_trees` in params. Will use it instead of argument\n",
      "  _log_warning(f\"Found `{alias}` in params. Will use it instead of argument\")\n"
     ]
    },
    {
     "name": "stdout",
     "output_type": "stream",
     "text": [
      "[LightGBM] [Info] Number of positive: 5062, number of negative: 10124000\n",
      "[LightGBM] [Info] Auto-choosing row-wise multi-threading, the overhead of testing was 0.561935 seconds.\n",
      "You can set `force_row_wise=true` to remove the overhead.\n",
      "And if memory is not enough, you can set `force_col_wise=true`.\n",
      "[LightGBM] [Info] Total Bins 2915\n",
      "[LightGBM] [Info] Number of data points in the train set: 10129062, number of used features: 57\n",
      "[LightGBM] [Info] [binary:BoostFromScore]: pavg=0.000500 -> initscore=-7.600902\n",
      "[LightGBM] [Info] Start training from score -7.600902\n"
     ]
    },
    {
     "name": "stderr",
     "output_type": "stream",
     "text": [
      "/opt/miniconda3/lib/python3.12/site-packages/lightgbm/engine.py:204: UserWarning: Found `num_trees` in params. Will use it instead of argument\n",
      "  _log_warning(f\"Found `{alias}` in params. Will use it instead of argument\")\n"
     ]
    },
    {
     "name": "stdout",
     "output_type": "stream",
     "text": [
      "[LightGBM] [Info] Number of positive: 5089, number of negative: 10178000\n",
      "[LightGBM] [Info] Auto-choosing row-wise multi-threading, the overhead of testing was 0.571818 seconds.\n",
      "You can set `force_row_wise=true` to remove the overhead.\n",
      "And if memory is not enough, you can set `force_col_wise=true`.\n",
      "[LightGBM] [Info] Total Bins 2908\n",
      "[LightGBM] [Info] Number of data points in the train set: 10183089, number of used features: 57\n",
      "[LightGBM] [Info] [binary:BoostFromScore]: pavg=0.000500 -> initscore=-7.600902\n",
      "[LightGBM] [Info] Start training from score -7.600902\n"
     ]
    },
    {
     "name": "stderr",
     "output_type": "stream",
     "text": [
      "/opt/miniconda3/lib/python3.12/site-packages/lightgbm/engine.py:204: UserWarning: Found `num_trees` in params. Will use it instead of argument\n",
      "  _log_warning(f\"Found `{alias}` in params. Will use it instead of argument\")\n"
     ]
    },
    {
     "name": "stdout",
     "output_type": "stream",
     "text": [
      "[LightGBM] [Info] Number of positive: 5170, number of negative: 10340000\n",
      "[LightGBM] [Info] Auto-choosing row-wise multi-threading, the overhead of testing was 0.574961 seconds.\n",
      "You can set `force_row_wise=true` to remove the overhead.\n",
      "And if memory is not enough, you can set `force_col_wise=true`.\n",
      "[LightGBM] [Info] Total Bins 2911\n",
      "[LightGBM] [Info] Number of data points in the train set: 10345170, number of used features: 57\n",
      "[LightGBM] [Info] [binary:BoostFromScore]: pavg=0.000500 -> initscore=-7.600902\n",
      "[LightGBM] [Info] Start training from score -7.600902\n"
     ]
    },
    {
     "name": "stderr",
     "output_type": "stream",
     "text": [
      "/opt/miniconda3/lib/python3.12/site-packages/lightgbm/engine.py:204: UserWarning: Found `num_trees` in params. Will use it instead of argument\n",
      "  _log_warning(f\"Found `{alias}` in params. Will use it instead of argument\")\n"
     ]
    },
    {
     "name": "stdout",
     "output_type": "stream",
     "text": [
      "[LightGBM] [Info] Number of positive: 5108, number of negative: 10216000\n",
      "[LightGBM] [Info] Auto-choosing row-wise multi-threading, the overhead of testing was 0.691021 seconds.\n",
      "You can set `force_row_wise=true` to remove the overhead.\n",
      "And if memory is not enough, you can set `force_col_wise=true`.\n",
      "[LightGBM] [Info] Total Bins 2901\n",
      "[LightGBM] [Info] Number of data points in the train set: 10221108, number of used features: 57\n",
      "[LightGBM] [Info] [binary:BoostFromScore]: pavg=0.000500 -> initscore=-7.600902\n",
      "[LightGBM] [Info] Start training from score -7.600902\n"
     ]
    },
    {
     "name": "stderr",
     "output_type": "stream",
     "text": [
      "/opt/miniconda3/lib/python3.12/site-packages/lightgbm/engine.py:204: UserWarning: Found `num_trees` in params. Will use it instead of argument\n",
      "  _log_warning(f\"Found `{alias}` in params. Will use it instead of argument\")\n"
     ]
    },
    {
     "name": "stdout",
     "output_type": "stream",
     "text": [
      "[LightGBM] [Info] Number of positive: 5043, number of negative: 10086000\n",
      "[LightGBM] [Info] Auto-choosing row-wise multi-threading, the overhead of testing was 0.511375 seconds.\n",
      "You can set `force_row_wise=true` to remove the overhead.\n",
      "And if memory is not enough, you can set `force_col_wise=true`.\n",
      "[LightGBM] [Info] Total Bins 2909\n",
      "[LightGBM] [Info] Number of data points in the train set: 10091043, number of used features: 57\n",
      "[LightGBM] [Info] [binary:BoostFromScore]: pavg=0.000500 -> initscore=-7.600902\n",
      "[LightGBM] [Info] Start training from score -7.600902\n"
     ]
    },
    {
     "name": "stderr",
     "output_type": "stream",
     "text": [
      "/opt/miniconda3/lib/python3.12/site-packages/lightgbm/engine.py:204: UserWarning: Found `num_trees` in params. Will use it instead of argument\n",
      "  _log_warning(f\"Found `{alias}` in params. Will use it instead of argument\")\n"
     ]
    },
    {
     "name": "stdout",
     "output_type": "stream",
     "text": [
      "[LightGBM] [Info] Number of positive: 5062, number of negative: 10124000\n",
      "[LightGBM] [Info] Auto-choosing row-wise multi-threading, the overhead of testing was 0.521951 seconds.\n",
      "You can set `force_row_wise=true` to remove the overhead.\n",
      "And if memory is not enough, you can set `force_col_wise=true`.\n",
      "[LightGBM] [Info] Total Bins 2915\n",
      "[LightGBM] [Info] Number of data points in the train set: 10129062, number of used features: 57\n",
      "[LightGBM] [Info] [binary:BoostFromScore]: pavg=0.000500 -> initscore=-7.600902\n",
      "[LightGBM] [Info] Start training from score -7.600902\n"
     ]
    },
    {
     "name": "stderr",
     "output_type": "stream",
     "text": [
      "/opt/miniconda3/lib/python3.12/site-packages/lightgbm/engine.py:204: UserWarning: Found `num_trees` in params. Will use it instead of argument\n",
      "  _log_warning(f\"Found `{alias}` in params. Will use it instead of argument\")\n"
     ]
    },
    {
     "name": "stdout",
     "output_type": "stream",
     "text": [
      "[LightGBM] [Info] Number of positive: 5089, number of negative: 10178000\n",
      "[LightGBM] [Info] Auto-choosing row-wise multi-threading, the overhead of testing was 0.561969 seconds.\n",
      "You can set `force_row_wise=true` to remove the overhead.\n",
      "And if memory is not enough, you can set `force_col_wise=true`.\n",
      "[LightGBM] [Info] Total Bins 2908\n",
      "[LightGBM] [Info] Number of data points in the train set: 10183089, number of used features: 57\n",
      "[LightGBM] [Info] [binary:BoostFromScore]: pavg=0.000500 -> initscore=-7.600902\n",
      "[LightGBM] [Info] Start training from score -7.600902\n"
     ]
    },
    {
     "name": "stderr",
     "output_type": "stream",
     "text": [
      "/opt/miniconda3/lib/python3.12/site-packages/lightgbm/engine.py:204: UserWarning: Found `num_trees` in params. Will use it instead of argument\n",
      "  _log_warning(f\"Found `{alias}` in params. Will use it instead of argument\")\n"
     ]
    },
    {
     "name": "stdout",
     "output_type": "stream",
     "text": [
      "[LightGBM] [Info] Number of positive: 5170, number of negative: 10340000\n",
      "[LightGBM] [Info] Auto-choosing row-wise multi-threading, the overhead of testing was 0.672303 seconds.\n",
      "You can set `force_row_wise=true` to remove the overhead.\n",
      "And if memory is not enough, you can set `force_col_wise=true`.\n",
      "[LightGBM] [Info] Total Bins 2911\n",
      "[LightGBM] [Info] Number of data points in the train set: 10345170, number of used features: 57\n",
      "[LightGBM] [Info] [binary:BoostFromScore]: pavg=0.000500 -> initscore=-7.600902\n",
      "[LightGBM] [Info] Start training from score -7.600902\n"
     ]
    },
    {
     "name": "stderr",
     "output_type": "stream",
     "text": [
      "/opt/miniconda3/lib/python3.12/site-packages/lightgbm/engine.py:204: UserWarning: Found `num_trees` in params. Will use it instead of argument\n",
      "  _log_warning(f\"Found `{alias}` in params. Will use it instead of argument\")\n"
     ]
    },
    {
     "name": "stdout",
     "output_type": "stream",
     "text": [
      "[LightGBM] [Info] Number of positive: 5108, number of negative: 10216000\n",
      "[LightGBM] [Info] Auto-choosing row-wise multi-threading, the overhead of testing was 0.540610 seconds.\n",
      "You can set `force_row_wise=true` to remove the overhead.\n",
      "And if memory is not enough, you can set `force_col_wise=true`.\n",
      "[LightGBM] [Info] Total Bins 2901\n",
      "[LightGBM] [Info] Number of data points in the train set: 10221108, number of used features: 57\n",
      "[LightGBM] [Info] [binary:BoostFromScore]: pavg=0.000500 -> initscore=-7.600902\n",
      "[LightGBM] [Info] Start training from score -7.600902\n"
     ]
    },
    {
     "name": "stderr",
     "output_type": "stream",
     "text": [
      "/opt/miniconda3/lib/python3.12/site-packages/lightgbm/engine.py:204: UserWarning: Found `num_trees` in params. Will use it instead of argument\n",
      "  _log_warning(f\"Found `{alias}` in params. Will use it instead of argument\")\n"
     ]
    },
    {
     "name": "stdout",
     "output_type": "stream",
     "text": [
      "[LightGBM] [Info] Number of positive: 5043, number of negative: 10086000\n",
      "[LightGBM] [Info] Auto-choosing row-wise multi-threading, the overhead of testing was 0.512878 seconds.\n",
      "You can set `force_row_wise=true` to remove the overhead.\n",
      "And if memory is not enough, you can set `force_col_wise=true`.\n",
      "[LightGBM] [Info] Total Bins 2909\n",
      "[LightGBM] [Info] Number of data points in the train set: 10091043, number of used features: 57\n",
      "[LightGBM] [Info] [binary:BoostFromScore]: pavg=0.000500 -> initscore=-7.600902\n",
      "[LightGBM] [Info] Start training from score -7.600902\n"
     ]
    },
    {
     "name": "stderr",
     "output_type": "stream",
     "text": [
      "/opt/miniconda3/lib/python3.12/site-packages/lightgbm/engine.py:204: UserWarning: Found `num_trees` in params. Will use it instead of argument\n",
      "  _log_warning(f\"Found `{alias}` in params. Will use it instead of argument\")\n"
     ]
    },
    {
     "name": "stdout",
     "output_type": "stream",
     "text": [
      "[LightGBM] [Info] Number of positive: 5062, number of negative: 10124000\n",
      "[LightGBM] [Info] Auto-choosing row-wise multi-threading, the overhead of testing was 0.523178 seconds.\n",
      "You can set `force_row_wise=true` to remove the overhead.\n",
      "And if memory is not enough, you can set `force_col_wise=true`.\n",
      "[LightGBM] [Info] Total Bins 2915\n",
      "[LightGBM] [Info] Number of data points in the train set: 10129062, number of used features: 57\n",
      "[LightGBM] [Info] [binary:BoostFromScore]: pavg=0.000500 -> initscore=-7.600902\n",
      "[LightGBM] [Info] Start training from score -7.600902\n"
     ]
    },
    {
     "name": "stderr",
     "output_type": "stream",
     "text": [
      "/opt/miniconda3/lib/python3.12/site-packages/lightgbm/engine.py:204: UserWarning: Found `num_trees` in params. Will use it instead of argument\n",
      "  _log_warning(f\"Found `{alias}` in params. Will use it instead of argument\")\n"
     ]
    },
    {
     "name": "stdout",
     "output_type": "stream",
     "text": [
      "[LightGBM] [Info] Number of positive: 5089, number of negative: 10178000\n",
      "[LightGBM] [Info] Auto-choosing row-wise multi-threading, the overhead of testing was 0.567580 seconds.\n",
      "You can set `force_row_wise=true` to remove the overhead.\n",
      "And if memory is not enough, you can set `force_col_wise=true`.\n",
      "[LightGBM] [Info] Total Bins 2908\n",
      "[LightGBM] [Info] Number of data points in the train set: 10183089, number of used features: 57\n",
      "[LightGBM] [Info] [binary:BoostFromScore]: pavg=0.000500 -> initscore=-7.600902\n",
      "[LightGBM] [Info] Start training from score -7.600902\n"
     ]
    },
    {
     "name": "stderr",
     "output_type": "stream",
     "text": [
      "/opt/miniconda3/lib/python3.12/site-packages/lightgbm/engine.py:204: UserWarning: Found `num_trees` in params. Will use it instead of argument\n",
      "  _log_warning(f\"Found `{alias}` in params. Will use it instead of argument\")\n"
     ]
    },
    {
     "name": "stdout",
     "output_type": "stream",
     "text": [
      "[LightGBM] [Info] Number of positive: 5170, number of negative: 10340000\n",
      "[LightGBM] [Info] Auto-choosing row-wise multi-threading, the overhead of testing was 0.573265 seconds.\n",
      "You can set `force_row_wise=true` to remove the overhead.\n",
      "And if memory is not enough, you can set `force_col_wise=true`.\n",
      "[LightGBM] [Info] Total Bins 2911\n",
      "[LightGBM] [Info] Number of data points in the train set: 10345170, number of used features: 57\n",
      "[LightGBM] [Info] [binary:BoostFromScore]: pavg=0.000500 -> initscore=-7.600902\n",
      "[LightGBM] [Info] Start training from score -7.600902\n"
     ]
    },
    {
     "name": "stderr",
     "output_type": "stream",
     "text": [
      "/opt/miniconda3/lib/python3.12/site-packages/lightgbm/engine.py:204: UserWarning: Found `num_trees` in params. Will use it instead of argument\n",
      "  _log_warning(f\"Found `{alias}` in params. Will use it instead of argument\")\n"
     ]
    },
    {
     "name": "stdout",
     "output_type": "stream",
     "text": [
      "[LightGBM] [Info] Number of positive: 5108, number of negative: 10216000\n",
      "[LightGBM] [Info] Auto-choosing row-wise multi-threading, the overhead of testing was 0.583562 seconds.\n",
      "You can set `force_row_wise=true` to remove the overhead.\n",
      "And if memory is not enough, you can set `force_col_wise=true`.\n",
      "[LightGBM] [Info] Total Bins 2901\n",
      "[LightGBM] [Info] Number of data points in the train set: 10221108, number of used features: 57\n",
      "[LightGBM] [Info] [binary:BoostFromScore]: pavg=0.000500 -> initscore=-7.600902\n",
      "[LightGBM] [Info] Start training from score -7.600902\n"
     ]
    },
    {
     "name": "stderr",
     "output_type": "stream",
     "text": [
      "/opt/miniconda3/lib/python3.12/site-packages/lightgbm/engine.py:204: UserWarning: Found `num_trees` in params. Will use it instead of argument\n",
      "  _log_warning(f\"Found `{alias}` in params. Will use it instead of argument\")\n"
     ]
    },
    {
     "name": "stdout",
     "output_type": "stream",
     "text": [
      "[LightGBM] [Info] Number of positive: 5043, number of negative: 10086000\n",
      "[LightGBM] [Info] Auto-choosing row-wise multi-threading, the overhead of testing was 0.599742 seconds.\n",
      "You can set `force_row_wise=true` to remove the overhead.\n",
      "And if memory is not enough, you can set `force_col_wise=true`.\n",
      "[LightGBM] [Info] Total Bins 2909\n",
      "[LightGBM] [Info] Number of data points in the train set: 10091043, number of used features: 57\n",
      "[LightGBM] [Info] [binary:BoostFromScore]: pavg=0.000500 -> initscore=-7.600902\n",
      "[LightGBM] [Info] Start training from score -7.600902\n"
     ]
    },
    {
     "name": "stderr",
     "output_type": "stream",
     "text": [
      "/opt/miniconda3/lib/python3.12/site-packages/lightgbm/engine.py:204: UserWarning: Found `num_trees` in params. Will use it instead of argument\n",
      "  _log_warning(f\"Found `{alias}` in params. Will use it instead of argument\")\n"
     ]
    },
    {
     "name": "stdout",
     "output_type": "stream",
     "text": [
      "[LightGBM] [Info] Number of positive: 5062, number of negative: 10124000\n",
      "[LightGBM] [Info] Auto-choosing row-wise multi-threading, the overhead of testing was 0.516769 seconds.\n",
      "You can set `force_row_wise=true` to remove the overhead.\n",
      "And if memory is not enough, you can set `force_col_wise=true`.\n",
      "[LightGBM] [Info] Total Bins 2915\n",
      "[LightGBM] [Info] Number of data points in the train set: 10129062, number of used features: 57\n",
      "[LightGBM] [Info] [binary:BoostFromScore]: pavg=0.000500 -> initscore=-7.600902\n",
      "[LightGBM] [Info] Start training from score -7.600902\n"
     ]
    },
    {
     "name": "stderr",
     "output_type": "stream",
     "text": [
      "/opt/miniconda3/lib/python3.12/site-packages/lightgbm/engine.py:204: UserWarning: Found `num_trees` in params. Will use it instead of argument\n",
      "  _log_warning(f\"Found `{alias}` in params. Will use it instead of argument\")\n"
     ]
    },
    {
     "name": "stdout",
     "output_type": "stream",
     "text": [
      "[LightGBM] [Info] Number of positive: 5089, number of negative: 10178000\n",
      "[LightGBM] [Info] Auto-choosing row-wise multi-threading, the overhead of testing was 0.541713 seconds.\n",
      "You can set `force_row_wise=true` to remove the overhead.\n",
      "And if memory is not enough, you can set `force_col_wise=true`.\n",
      "[LightGBM] [Info] Total Bins 2908\n",
      "[LightGBM] [Info] Number of data points in the train set: 10183089, number of used features: 57\n",
      "[LightGBM] [Info] [binary:BoostFromScore]: pavg=0.000500 -> initscore=-7.600902\n",
      "[LightGBM] [Info] Start training from score -7.600902\n"
     ]
    },
    {
     "name": "stderr",
     "output_type": "stream",
     "text": [
      "/opt/miniconda3/lib/python3.12/site-packages/lightgbm/engine.py:204: UserWarning: Found `num_trees` in params. Will use it instead of argument\n",
      "  _log_warning(f\"Found `{alias}` in params. Will use it instead of argument\")\n"
     ]
    },
    {
     "name": "stdout",
     "output_type": "stream",
     "text": [
      "[LightGBM] [Info] Number of positive: 5170, number of negative: 10340000\n",
      "[LightGBM] [Info] Auto-choosing row-wise multi-threading, the overhead of testing was 0.617815 seconds.\n",
      "You can set `force_row_wise=true` to remove the overhead.\n",
      "And if memory is not enough, you can set `force_col_wise=true`.\n",
      "[LightGBM] [Info] Total Bins 2911\n",
      "[LightGBM] [Info] Number of data points in the train set: 10345170, number of used features: 57\n",
      "[LightGBM] [Info] [binary:BoostFromScore]: pavg=0.000500 -> initscore=-7.600902\n",
      "[LightGBM] [Info] Start training from score -7.600902\n"
     ]
    },
    {
     "name": "stderr",
     "output_type": "stream",
     "text": [
      "/opt/miniconda3/lib/python3.12/site-packages/lightgbm/engine.py:204: UserWarning: Found `num_trees` in params. Will use it instead of argument\n",
      "  _log_warning(f\"Found `{alias}` in params. Will use it instead of argument\")\n"
     ]
    },
    {
     "name": "stdout",
     "output_type": "stream",
     "text": [
      "[LightGBM] [Info] Number of positive: 5108, number of negative: 10216000\n",
      "[LightGBM] [Info] Auto-choosing row-wise multi-threading, the overhead of testing was 0.544048 seconds.\n",
      "You can set `force_row_wise=true` to remove the overhead.\n",
      "And if memory is not enough, you can set `force_col_wise=true`.\n",
      "[LightGBM] [Info] Total Bins 2901\n",
      "[LightGBM] [Info] Number of data points in the train set: 10221108, number of used features: 57\n",
      "[LightGBM] [Info] [binary:BoostFromScore]: pavg=0.000500 -> initscore=-7.600902\n",
      "[LightGBM] [Info] Start training from score -7.600902\n"
     ]
    },
    {
     "name": "stderr",
     "output_type": "stream",
     "text": [
      "/opt/miniconda3/lib/python3.12/site-packages/lightgbm/engine.py:204: UserWarning: Found `num_trees` in params. Will use it instead of argument\n",
      "  _log_warning(f\"Found `{alias}` in params. Will use it instead of argument\")\n"
     ]
    },
    {
     "name": "stdout",
     "output_type": "stream",
     "text": [
      "[LightGBM] [Info] Number of positive: 5043, number of negative: 10086000\n",
      "[LightGBM] [Info] Auto-choosing row-wise multi-threading, the overhead of testing was 0.540730 seconds.\n",
      "You can set `force_row_wise=true` to remove the overhead.\n",
      "And if memory is not enough, you can set `force_col_wise=true`.\n",
      "[LightGBM] [Info] Total Bins 2909\n",
      "[LightGBM] [Info] Number of data points in the train set: 10091043, number of used features: 57\n",
      "[LightGBM] [Info] [binary:BoostFromScore]: pavg=0.000500 -> initscore=-7.600902\n",
      "[LightGBM] [Info] Start training from score -7.600902\n"
     ]
    },
    {
     "name": "stderr",
     "output_type": "stream",
     "text": [
      "/opt/miniconda3/lib/python3.12/site-packages/lightgbm/engine.py:204: UserWarning: Found `num_trees` in params. Will use it instead of argument\n",
      "  _log_warning(f\"Found `{alias}` in params. Will use it instead of argument\")\n"
     ]
    },
    {
     "name": "stdout",
     "output_type": "stream",
     "text": [
      "[LightGBM] [Info] Number of positive: 5062, number of negative: 10124000\n",
      "[LightGBM] [Info] Auto-choosing row-wise multi-threading, the overhead of testing was 0.569532 seconds.\n",
      "You can set `force_row_wise=true` to remove the overhead.\n",
      "And if memory is not enough, you can set `force_col_wise=true`.\n",
      "[LightGBM] [Info] Total Bins 2915\n",
      "[LightGBM] [Info] Number of data points in the train set: 10129062, number of used features: 57\n",
      "[LightGBM] [Info] [binary:BoostFromScore]: pavg=0.000500 -> initscore=-7.600902\n",
      "[LightGBM] [Info] Start training from score -7.600902\n"
     ]
    },
    {
     "name": "stderr",
     "output_type": "stream",
     "text": [
      "/opt/miniconda3/lib/python3.12/site-packages/lightgbm/engine.py:204: UserWarning: Found `num_trees` in params. Will use it instead of argument\n",
      "  _log_warning(f\"Found `{alias}` in params. Will use it instead of argument\")\n"
     ]
    },
    {
     "name": "stdout",
     "output_type": "stream",
     "text": [
      "[LightGBM] [Info] Number of positive: 5089, number of negative: 10178000\n",
      "[LightGBM] [Info] Auto-choosing row-wise multi-threading, the overhead of testing was 0.548087 seconds.\n",
      "You can set `force_row_wise=true` to remove the overhead.\n",
      "And if memory is not enough, you can set `force_col_wise=true`.\n",
      "[LightGBM] [Info] Total Bins 2908\n",
      "[LightGBM] [Info] Number of data points in the train set: 10183089, number of used features: 57\n",
      "[LightGBM] [Info] [binary:BoostFromScore]: pavg=0.000500 -> initscore=-7.600902\n",
      "[LightGBM] [Info] Start training from score -7.600902\n"
     ]
    },
    {
     "name": "stderr",
     "output_type": "stream",
     "text": [
      "/opt/miniconda3/lib/python3.12/site-packages/lightgbm/engine.py:204: UserWarning: Found `num_trees` in params. Will use it instead of argument\n",
      "  _log_warning(f\"Found `{alias}` in params. Will use it instead of argument\")\n"
     ]
    },
    {
     "name": "stdout",
     "output_type": "stream",
     "text": [
      "[LightGBM] [Info] Number of positive: 5170, number of negative: 10340000\n",
      "[LightGBM] [Info] Auto-choosing row-wise multi-threading, the overhead of testing was 0.958062 seconds.\n",
      "You can set `force_row_wise=true` to remove the overhead.\n",
      "And if memory is not enough, you can set `force_col_wise=true`.\n",
      "[LightGBM] [Info] Total Bins 2911\n",
      "[LightGBM] [Info] Number of data points in the train set: 10345170, number of used features: 57\n",
      "[LightGBM] [Info] [binary:BoostFromScore]: pavg=0.000500 -> initscore=-7.600902\n",
      "[LightGBM] [Info] Start training from score -7.600902\n"
     ]
    },
    {
     "name": "stderr",
     "output_type": "stream",
     "text": [
      "/opt/miniconda3/lib/python3.12/site-packages/lightgbm/engine.py:204: UserWarning: Found `num_trees` in params. Will use it instead of argument\n",
      "  _log_warning(f\"Found `{alias}` in params. Will use it instead of argument\")\n"
     ]
    },
    {
     "name": "stdout",
     "output_type": "stream",
     "text": [
      "[LightGBM] [Info] Number of positive: 5108, number of negative: 10216000\n",
      "[LightGBM] [Info] Auto-choosing row-wise multi-threading, the overhead of testing was 0.523754 seconds.\n",
      "You can set `force_row_wise=true` to remove the overhead.\n",
      "And if memory is not enough, you can set `force_col_wise=true`.\n",
      "[LightGBM] [Info] Total Bins 2901\n",
      "[LightGBM] [Info] Number of data points in the train set: 10221108, number of used features: 57\n",
      "[LightGBM] [Info] [binary:BoostFromScore]: pavg=0.000500 -> initscore=-7.600902\n",
      "[LightGBM] [Info] Start training from score -7.600902\n"
     ]
    },
    {
     "name": "stderr",
     "output_type": "stream",
     "text": [
      "/opt/miniconda3/lib/python3.12/site-packages/lightgbm/engine.py:204: UserWarning: Found `num_trees` in params. Will use it instead of argument\n",
      "  _log_warning(f\"Found `{alias}` in params. Will use it instead of argument\")\n"
     ]
    },
    {
     "name": "stdout",
     "output_type": "stream",
     "text": [
      "[LightGBM] [Info] Number of positive: 5043, number of negative: 10086000\n",
      "[LightGBM] [Info] Auto-choosing row-wise multi-threading, the overhead of testing was 0.500190 seconds.\n",
      "You can set `force_row_wise=true` to remove the overhead.\n",
      "And if memory is not enough, you can set `force_col_wise=true`.\n",
      "[LightGBM] [Info] Total Bins 2909\n",
      "[LightGBM] [Info] Number of data points in the train set: 10091043, number of used features: 57\n",
      "[LightGBM] [Info] [binary:BoostFromScore]: pavg=0.000500 -> initscore=-7.600902\n",
      "[LightGBM] [Info] Start training from score -7.600902\n"
     ]
    },
    {
     "name": "stderr",
     "output_type": "stream",
     "text": [
      "/opt/miniconda3/lib/python3.12/site-packages/lightgbm/engine.py:204: UserWarning: Found `num_trees` in params. Will use it instead of argument\n",
      "  _log_warning(f\"Found `{alias}` in params. Will use it instead of argument\")\n"
     ]
    },
    {
     "name": "stdout",
     "output_type": "stream",
     "text": [
      "[LightGBM] [Info] Number of positive: 5062, number of negative: 10124000\n",
      "[LightGBM] [Info] Auto-choosing row-wise multi-threading, the overhead of testing was 0.539207 seconds.\n",
      "You can set `force_row_wise=true` to remove the overhead.\n",
      "And if memory is not enough, you can set `force_col_wise=true`.\n",
      "[LightGBM] [Info] Total Bins 2915\n",
      "[LightGBM] [Info] Number of data points in the train set: 10129062, number of used features: 57\n",
      "[LightGBM] [Info] [binary:BoostFromScore]: pavg=0.000500 -> initscore=-7.600902\n",
      "[LightGBM] [Info] Start training from score -7.600902\n"
     ]
    }
   ],
   "source": [
    "variables = [\n",
    "    range(10),  # num hyperparameters to test\n",
    "    range(num_folds)\n",
    "    # range(num_folds)  # number of folds per test\n",
    "]\n",
    "\n",
    "metrics_list = []\n",
    "for (hp_rank, fold) in tqdm(list(itertools.product(*variables))):\n",
    "\n",
    "    # Split into training and test sets, based on the id_to_fold_dict mapping to the ID array\n",
    "    is_training_data_mask = [ id_to_fold_dict[id]!=fold for id in ID['record_id_ferc1'] ]\n",
    "    is_training_data_mask = np.array(is_training_data_mask)\n",
    "    \n",
    "    train_set = lgb.Dataset(X.loc[is_training_data_mask], Y.loc[is_training_data_mask])\n",
    "    XTest = X.loc[~is_training_data_mask]\n",
    "    YTest = Y.loc[~is_training_data_mask]\n",
    "\n",
    "    # Fit the model, get probabilities (ie y_fit)\n",
    "    mod_fit = lgb.train(params=param_dict[hp_rank], train_set=train_set)\n",
    "    y_fit = mod_fit.predict(XTest)\n",
    "\n",
    "    # Pull together y_fit along with the record_id_ferc1, which allows us to see which y_fit is the \n",
    "    # highest per record_id_ferc1\n",
    "    Framework = ID[~is_training_data_mask].copy()\n",
    "    Framework['y_true'] = YTest['is_match']\n",
    "    Framework['y_fit'] = y_fit\n",
    "    Framework = Framework[['record_id_ferc1', 'y_fit', 'y_true']]\n",
    "\n",
    "    # groupwise best prediction, for each record_id_ferc1\n",
    "    Framework['groupwise_max_y_fit'] = Framework.groupby('record_id_ferc1')['y_fit'].transform('max')\n",
    "    Framework['y_fit_adj'] = Framework['y_fit'] == Framework['groupwise_max_y_fit']\n",
    "\n",
    "    y_true = Framework['y_true'].astype(bool).values\n",
    "    y_fit_adj = Framework['y_fit_adj'].values\n",
    "\n",
    "    # compute metrics\n",
    "    metric_dict = {'hp_rank':hp_rank,\n",
    "        'fold':fold,\n",
    "        'accuracy':accuracy_score(y_true, y_fit_adj),\n",
    "        'roc_auc':roc_auc_score(y_true, y_fit_adj),\n",
    "        'log_loss':log_loss(y_true, y_fit_adj),\n",
    "        'precision':precision_score(y_true, y_fit_adj),\n",
    "        'recall':recall_score(y_true, y_fit_adj)\n",
    "    }\n",
    "    Metrics = pd.DataFrame(metric_dict, index=range(1))\n",
    "    metrics_list.append(Metrics)"
   ]
  },
  {
   "cell_type": "code",
   "execution_count": 21,
   "id": "7e2d527c-a72c-4d55-9e72-165111baeac9",
   "metadata": {},
   "outputs": [],
   "source": [
    "CollectedMetrics = pd.concat(metrics_list).reset_index()\n",
    "CollectedMetrics.drop('index',axis=1, inplace=True)\n",
    "CollectedMetrics.to_csv(fn_out, index=False)"
   ]
  },
  {
   "cell_type": "code",
   "execution_count": 46,
   "id": "6ea98b35-983a-4165-9230-c9154464be36",
   "metadata": {},
   "outputs": [
    {
     "data": {
      "text/plain": [
       "array([[<Axes: title={'center': 'accuracy'}, xlabel='[hp_rank]'>,\n",
       "        <Axes: title={'center': 'log_loss'}, xlabel='[hp_rank]'>],\n",
       "       [<Axes: title={'center': 'precision'}, xlabel='[hp_rank]'>,\n",
       "        <Axes: title={'center': 'recall'}, xlabel='[hp_rank]'>],\n",
       "       [<Axes: title={'center': 'roc_auc'}, xlabel='[hp_rank]'>,\n",
       "        <Axes: >]], dtype=object)"
      ]
     },
     "execution_count": 46,
     "metadata": {},
     "output_type": "execute_result"
    },
    {
     "data": {
      "image/png": "[encoded data removed]",
      "text/plain": [
       "<Figure size 1000x600 with 6 Axes>"
      ]
     },
     "metadata": {},
     "output_type": "display_data"
    }
   ],
   "source": [
    "CollectedMetrics.drop('fold', axis=1).boxplot(by='hp_rank', sharey=False, grid=False, figsize=(10, 6))"
   ]
  }
 ],
 "metadata": {
  "kernelspec": {
   "display_name": "Python 3 (ipykernel)",
   "language": "python",
   "name": "python3"
  },
  "language_info": {
   "codemirror_mode": {
    "name": "ipython",
    "version": 3
   },
   "file_extension": ".py",
   "mimetype": "text/x-python",
   "name": "python",
   "nbconvert_exporter": "python",
   "pygments_lexer": "ipython3",
   "version": "3.12.2"
  }
 },
 "nbformat": 4,
 "nbformat_minor": 5
}
