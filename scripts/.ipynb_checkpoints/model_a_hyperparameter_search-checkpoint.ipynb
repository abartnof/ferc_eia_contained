{
 "cells": [
  {
   "cell_type": "code",
   "execution_count": 8,
   "id": "4106c744-5a93-43c7-ae2c-fb55f0531ccc",
   "metadata": {},
   "outputs": [],
   "source": [
    "import lightgbm as lgb\n",
    "import numpy as np\n",
    "import pandas as pd\n",
    "import dask\n",
    "from ray import train, tune\n",
    "from ray.tune.search.optuna import OptunaSearch\n",
    "# from ray.tune.s|chedulers import ASHAScheduler\n",
    "from ray.tune.search import ConcurrencyLimiter"
   ]
  },
  {
   "cell_type": "code",
   "execution_count": 2,
   "id": "725cdf07-49ce-4616-bd14-c9b5712563c2",
   "metadata": {},
   "outputs": [],
   "source": [
    "fn_train_x = '/Volumes/Extreme SSD/rematch_eia_ferc1_docker/working_data/model_a/train/train_x.parquet'\n",
    "fn_train_y = '/Volumes/Extreme SSD/rematch_eia_ferc1_docker/working_data/model_a/train/train_y.parquet'\n",
    "dir_hyperparameters = '/Volumes/Extreme SSD/rematch_eia_ferc1_docker/working_data/model_a/train'"
   ]
  },
  {
   "cell_type": "code",
   "execution_count": 3,
   "id": "bbe7ee40-8d8e-4f21-9477-69795210dd7e",
   "metadata": {},
   "outputs": [],
   "source": [
    "def fit_mod(space):\n",
    "\n",
    "    # ELT\n",
    "    X = pd.read_parquet(fn_train_x)\n",
    "    Y = pd.read_parquet(fn_train_y)\n",
    "    # X = pd.read_parquet('/Volumes/Extreme SSD/rematch1_predictor/full_training_data/train_x.parquet')\n",
    "    # Y = pd.read_parquet('/Volumes/Extreme SSD/rematch1_predictor/full_training_data/full_data_y.parquet')\n",
    "    \n",
    "    size_of_train_set = round(0.8 * X.shape[0])\n",
    "    rows_for_train_set = np.random.choice(a=X.index, size=size_of_train_set, replace=False)\n",
    "    rows_for_val_set = np.setdiff1d(X.index, rows_for_train_set)\n",
    "    \n",
    "    train_set = lgb.Dataset(X.loc[rows_for_train_set], Y.loc[rows_for_train_set])\n",
    "    val_set = lgb.Dataset(X.loc[rows_for_val_set], Y.loc[rows_for_val_set])\n",
    "\n",
    "    # Model\n",
    "    gbm = lgb.train(\n",
    "        space,\n",
    "        train_set,\n",
    "        valid_sets=[val_set],\n",
    "    )\n",
    "    binary_logloss = gbm.best_score['valid_0']['binary_logloss']\n",
    "    auc = gbm.best_score['valid_0']['auc']\n",
    "    train.report(\n",
    "        {\n",
    "            \"binary_logloss\": binary_logloss,\n",
    "            \"auc\": auc\n",
    "        }\n",
    "    )"
   ]
  },
  {
   "cell_type": "code",
   "execution_count": 4,
   "id": "8c205b97-589d-4eac-a8a5-78e63fbdfd9e",
   "metadata": {},
   "outputs": [],
   "source": [
    "space = {\n",
    "    'num_iterations': tune.randint(1, 1000),\n",
    "    # 'num_rounds': tune.randint(1, 500),\n",
    "    'learning_rate': tune.uniform(0.0001, 1),\n",
    "    'min_data_in_leaf': tune.randint(1, 200),\n",
    "    'objective':'binary', \n",
    "    # 'early_stopping_round':2,\n",
    "    'metrics':['binary_logloss', 'auc']\n",
    "    }"
   ]
  },
  {
   "cell_type": "code",
   "execution_count": 9,
   "id": "874491e2-bdab-4591-8651-ec4635185a90",
   "metadata": {},
   "outputs": [],
   "source": [
    "# asha_scheduler = ASHAScheduler(\n",
    "#     time_attr='training_iteration',\n",
    "#     metric='binary_logloss',\n",
    "#     mode='min',\n",
    "#     max_t=1000,\n",
    "#     grace_period=50,\n",
    "#     reduction_factor=3,\n",
    "#     brackets=1,\n",
    "# )\n",
    "\n",
    "search_alg = OptunaSearch(metric=\"binary_logloss\", mode=\"min\")\n",
    "search_alg = ConcurrencyLimiter(search_alg, max_concurrent=2)"
   ]
  },
  {
   "cell_type": "code",
   "execution_count": 6,
   "id": "a258cd81-5cb2-4fae-bc80-0fdcd4225b25",
   "metadata": {},
   "outputs": [
    {
     "data": {
      "text/html": [
       "<div class=\"tuneStatus\">\n",
       "  <div style=\"display: flex;flex-direction: row\">\n",
       "    <div style=\"display: flex;flex-direction: column;\">\n",
       "      <h3>Tune Status</h3>\n",
       "      <table>\n",
       "<tbody>\n",
       "<tr><td>Current time:</td><td>2024-12-23 15:44:01</td></tr>\n",
       "<tr><td>Running for: </td><td>00:00:14.94        </td></tr>\n",
       "<tr><td>Memory:      </td><td>6.7/8.0 GiB        </td></tr>\n",
       "</tbody>\n",
       "</table>\n",
       "    </div>\n",
       "    <div class=\"vDivider\"></div>\n",
       "    <div class=\"systemInfo\">\n",
       "      <h3>System Info</h3>\n",
       "      Using FIFO scheduling algorithm.<br>Logical resource usage: 1.0/8 CPUs, 0/0 GPUs\n",
       "    </div>\n",
       "    \n",
       "  </div>\n",
       "  <div class=\"hDivider\"></div>\n",
       "  <div class=\"trialStatus\">\n",
       "    <h3>Trial Status</h3>\n",
       "    <table>\n",
       "<thead>\n",
       "<tr><th>Trial name      </th><th>status  </th><th>loc          </th><th style=\"text-align: right;\">  learning_rate</th><th style=\"text-align: right;\">  min_data_in_leaf</th><th style=\"text-align: right;\">  num_iterations</th></tr>\n",
       "</thead>\n",
       "<tbody>\n",
       "<tr><td>fit_mod_7b3fe8e6</td><td>RUNNING </td><td>127.0.0.1:657</td><td style=\"text-align: right;\">       0.721522</td><td style=\"text-align: right;\">               155</td><td style=\"text-align: right;\">             811</td></tr>\n",
       "</tbody>\n",
       "</table>\n",
       "  </div>\n",
       "</div>\n",
       "<style>\n",
       ".tuneStatus {\n",
       "  color: var(--jp-ui-font-color1);\n",
       "}\n",
       ".tuneStatus .systemInfo {\n",
       "  display: flex;\n",
       "  flex-direction: column;\n",
       "}\n",
       ".tuneStatus td {\n",
       "  white-space: nowrap;\n",
       "}\n",
       ".tuneStatus .trialStatus {\n",
       "  display: flex;\n",
       "  flex-direction: column;\n",
       "}\n",
       ".tuneStatus h3 {\n",
       "  font-weight: bold;\n",
       "}\n",
       ".tuneStatus .hDivider {\n",
       "  border-bottom-width: var(--jp-border-width);\n",
       "  border-bottom-color: var(--jp-border-color0);\n",
       "  border-bottom-style: solid;\n",
       "}\n",
       ".tuneStatus .vDivider {\n",
       "  border-left-width: var(--jp-border-width);\n",
       "  border-left-color: var(--jp-border-color0);\n",
       "  border-left-style: solid;\n",
       "  margin: 0.5em 1em 0.5em 1em;\n",
       "}\n",
       "</style>\n"
      ],
      "text/plain": [
       "<IPython.core.display.HTML object>"
      ]
     },
     "metadata": {},
     "output_type": "display_data"
    },
    {
     "name": "stderr",
     "output_type": "stream",
     "text": [
      "\u001b[36m(pid=657)\u001b[0m /opt/miniconda3/lib/python3.12/site-packages/dask/dataframe/__init__.py:31: FutureWarning: \n",
      "\u001b[36m(pid=657)\u001b[0m Dask dataframe query planning is disabled because dask-expr is not installed.\n",
      "\u001b[36m(pid=657)\u001b[0m \n",
      "\u001b[36m(pid=657)\u001b[0m You can install it with `pip install dask[dataframe]` or `conda install dask`.\n",
      "\u001b[36m(pid=657)\u001b[0m This will raise in a future version.\n",
      "\u001b[36m(pid=657)\u001b[0m \n",
      "\u001b[36m(pid=657)\u001b[0m   warnings.warn(msg, FutureWarning)\n",
      "\u001b[36m(fit_mod pid=657)\u001b[0m /opt/miniconda3/lib/python3.12/site-packages/lightgbm/engine.py:204: UserWarning: Found `num_iterations` in params. Will use it instead of argument\n",
      "\u001b[36m(fit_mod pid=657)\u001b[0m   _log_warning(f\"Found `{alias}` in params. Will use it instead of argument\")\n",
      "2024-12-23 15:44:01,032\tWARNING tune.py:219 -- Stop signal received (e.g. via SIGINT/Ctrl+C), ending Ray Tune run. This will try to checkpoint the experiment state one last time. Press CTRL+C (or send SIGINT/SIGKILL/SIGTERM) to skip. \n",
      "2024-12-23 15:44:01,074\tINFO tune.py:1009 -- Wrote the latest version of all result files and experiment state to '/Volumes/Extreme SSD/rematch_eia_ferc1_docker/working_data/model_a/train/gb_ray_tune' in 0.0268s.\n",
      "2024-12-23 15:44:11,150\tINFO tune.py:1041 -- Total run time: 25.04 seconds (14.91 seconds for the tuning loop).\n",
      "2024-12-23 15:44:11,154\tWARNING tune.py:1056 -- Experiment has been interrupted, but the most recent state was saved.\n",
      "Resume experiment with: Tuner.restore(path=\"/Volumes/Extreme SSD/rematch_eia_ferc1_docker/working_data/model_a/train/gb_ray_tune\", trainable=...)\n"
     ]
    }
   ],
   "source": [
    "tuner = tune.Tuner(\n",
    "    fit_mod,\n",
    "    tune_config=tune.TuneConfig(\n",
    "        # scheduler=asha_scheduler,\n",
    "        search_alg=search_alg,\n",
    "        num_samples=1000\n",
    "    ),\n",
    "    param_space=space,\n",
    "    run_config=train.RunConfig(\n",
    "        storage_path=dir_hyperparameters, \n",
    "        name=\"gb_ray_tune\"\n",
    "    )\n",
    ")\n",
    "results = tuner.fit()"
   ]
  },
  {
   "cell_type": "code",
   "execution_count": null,
   "id": "0530a636-edca-466d-bd97-2cc743cafdc7",
   "metadata": {},
   "outputs": [],
   "source": [
    "# experiment_path = \"/Users/andrewbartnof/Documents/rmi/rematch_ferc_eia1/clean_data/model_full_gradient_boost/ray_tune/gb_ray_tune\"\n",
    "# restored_tuner = tune.Tuner.restore(experiment_path, trainable=fit_mod)"
   ]
  },
  {
   "cell_type": "code",
   "execution_count": null,
   "id": "0c865454-c5f1-452f-a4eb-a0b46be8f113",
   "metadata": {},
   "outputs": [],
   "source": [
    "# fn_results = '/Users/andrewbartnof/Documents/rmi/rematch_ferc_eia1/clean_data/model_full_gradient_boost/ray_tune/ray_tune_dataframe.csv'\n",
    "# restored_tuner.get_results().get_dataframe().to_csv(fn_results)"
   ]
  },
  {
   "cell_type": "code",
   "execution_count": 2,
   "id": "87caa34e-16e8-4b41-9a34-64cf0773ab49",
   "metadata": {},
   "outputs": [
    {
     "name": "stdout",
     "output_type": "stream",
     "text": [
      "[NbConvertApp] Converting notebook model_a_hyperparameter_search.ipynb to script\n",
      "[NbConvertApp] Writing 3141 bytes to model_a_hyperparameter_search.py\n"
     ]
    }
   ],
   "source": [
    "# !jupyter nbconvert --to script model_a_hyperparameter_search.ipynb"
   ]
  }
 ],
 "metadata": {
  "kernelspec": {
   "display_name": "Python 3 (ipykernel)",
   "language": "python",
   "name": "python3"
  },
  "language_info": {
   "codemirror_mode": {
    "name": "ipython",
    "version": 3
   },
   "file_extension": ".py",
   "mimetype": "text/x-python",
   "name": "python",
   "nbconvert_exporter": "python",
   "pygments_lexer": "ipython3",
   "version": "3.12.2"
  }
 },
 "nbformat": 4,
 "nbformat_minor": 5
}
