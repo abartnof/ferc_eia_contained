{
 "cells": [
  {
   "cell_type": "code",
   "execution_count": 38,
   "id": "c1314772-f552-4cc6-9c2a-a2b6b56c284b",
   "metadata": {},
   "outputs": [],
   "source": [
    "import pandas as pd\n",
    "import numpy as np\n",
    "import os\n",
    "\n",
    "from keras import models, layers, regularizers, optimizers, callbacks, utils, losses, metrics, saving\n",
    "# from keras.metrics import BinaryAccuracy, AUC, BinaryCrossentropy\n",
    "from tensorflow.keras.backend import clear_session\n",
    "from tensorflow import convert_to_tensor\n",
    "from glob import glob\n",
    "\n",
    "# from sklearn.preprocessing import StandardScaler\n",
    "from tqdm.notebook import tqdm\n",
    "# utils.set_random_seed(1)"
   ]
  },
  {
   "cell_type": "code",
   "execution_count": 24,
   "id": "97cf9ac4-36af-4575-baf6-6fb382429fce",
   "metadata": {},
   "outputs": [],
   "source": [
    "# Create a common location for filenames, X and y_fit\n",
    "data_dir = '/Volumes/Extreme SSD/rematch_eia_ferc1_docker'\n",
    "dir_x = os.path.join(data_dir, 'working_data/model_a/model_a_x')\n",
    "dir_y_fit = os.path.join(data_dir, 'working_data/model_a/model_a_ann_y_fit')\n",
    "\n",
    "fn_list_x = glob(os.path.join(dir_x, '*.parquet'))\n",
    "FN = pd.DataFrame({'dir_fn_x':fn_list_x})\n",
    "FN['file_suffix'] = FN['dir_fn_x'].str.extract('(?<=x__)(.*)')\n",
    "\n",
    "joinme_y_fit = os.path.join(dir_y_fit, 'y_fit__')\n",
    "FN['dir_fn_y_fit'] = pd.Series([joinme_y_fit + f for f in FN['file_suffix'].values])"
   ]
  },
  {
   "cell_type": "code",
   "execution_count": 25,
   "id": "b0256714-d5e0-446f-ad0e-eed57eea252f",
   "metadata": {},
   "outputs": [],
   "source": [
    "# Load model\n",
    "fn_model = os.path.join(data_dir, 'working_data/model_a/model_a_training/model_a_ann.keras')\n",
    "model = saving.load_model(fn_model)"
   ]
  },
  {
   "cell_type": "code",
   "execution_count": 31,
   "id": "45cae67e-0c9b-4f79-974d-6ba97b10e62b",
   "metadata": {},
   "outputs": [
    {
     "name": "stdout",
     "output_type": "stream",
     "text": [
      "\u001b[1m19005/19005\u001b[0m \u001b[32m━━━━━━━━━━━━━━━━━━━━\u001b[0m\u001b[37m\u001b[0m \u001b[1m4s\u001b[0m 196us/step\n"
     ]
    }
   ],
   "source": [
    "for i in tqdm(FN.index):\n",
    "    X = pd.read_parquet(FN['dir_fn_x'][i])\n",
    "    y_fit = model.predict(X)\n",
    "    YFit = pd.DataFrame(y_fit).rename(columns={0:'y_fit'})\n",
    "    YFit.to_parquet(FN['dir_fn_y_fit'][i])"
   ]
  },
  {
   "cell_type": "code",
   "execution_count": 36,
   "id": "818a7c19-0f16-49b9-b29d-3fd319e21747",
   "metadata": {},
   "outputs": [],
   "source": []
  },
  {
   "cell_type": "code",
   "execution_count": 1,
   "id": "fe44c436-afcb-4e85-8495-7d385b92010e",
   "metadata": {},
   "outputs": [
    {
     "name": "stdout",
     "output_type": "stream",
     "text": [
      "[NbConvertApp] Converting notebook model_a_ann_predict.ipynb to script\n",
      "[NbConvertApp] Writing 1527 bytes to model_a_ann_predict.py\n"
     ]
    }
   ],
   "source": [
    "!jupyter nbconvert --to script model_a_ann_predict.ipynb"
   ]
  }
 ],
 "metadata": {
  "kernelspec": {
   "display_name": "Python 3 (ipykernel)",
   "language": "python",
   "name": "python3"
  },
  "language_info": {
   "codemirror_mode": {
    "name": "ipython",
    "version": 3
   },
   "file_extension": ".py",
   "mimetype": "text/x-python",
   "name": "python",
   "nbconvert_exporter": "python",
   "pygments_lexer": "ipython3",
   "version": "3.12.2"
  }
 },
 "nbformat": 4,
 "nbformat_minor": 5
}
