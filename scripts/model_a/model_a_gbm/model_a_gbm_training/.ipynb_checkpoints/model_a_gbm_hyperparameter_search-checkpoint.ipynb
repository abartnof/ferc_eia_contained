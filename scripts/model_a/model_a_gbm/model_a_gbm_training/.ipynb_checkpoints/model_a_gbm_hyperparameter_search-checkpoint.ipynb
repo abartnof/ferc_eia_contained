{
 "cells": [
  {
   "cell_type": "code",
   "execution_count": 1,
   "id": "4106c744-5a93-43c7-ae2c-fb55f0531ccc",
   "metadata": {},
   "outputs": [],
   "source": [
    "import lightgbm as lgb\n",
    "import numpy as np\n",
    "import pandas as pd\n",
    "import dask\n",
    "import os \n",
    "\n",
    "from ray import train, tune\n",
    "from ray.tune.search.optuna import OptunaSearch\n",
    "# from ray.tune.schedulers import ASHAScheduler\n",
    "from ray.tune.search import ConcurrencyLimiter\n",
    "from sklearn.model_selection import train_test_split\n",
    "from sklearn.preprocessing import StandardScaler\n",
    "# from optuna.samplers import TPESampler"
   ]
  },
  {
   "cell_type": "code",
   "execution_count": 5,
   "id": "6050b9ea-b35e-490e-906a-64e24aac85f7",
   "metadata": {},
   "outputs": [
    {
     "data": {
      "text/plain": [
       "'/Volumes/Extreme SSD/rematch_eia_ferc1_docker/working_data/model_a/model_a_training'"
      ]
     },
     "execution_count": 5,
     "metadata": {},
     "output_type": "execute_result"
    }
   ],
   "source": [
    "data_dir = '/Volumes/Extreme SSD/rematch_eia_ferc1_docker'\n",
    "dir_working_model_a_training = os.path.join(data_dir, 'working_data/model_a/model_a_training')\n",
    "dir_working_model_a_training"
   ]
  },
  {
   "cell_type": "code",
   "execution_count": 9,
   "id": "725cdf07-49ce-4616-bd14-c9b5712563c2",
   "metadata": {},
   "outputs": [],
   "source": [
    "fn_x = os.path.join(dir_working_model_a_training, 'x.parquet')\n",
    "fn_y = os.path.join(dir_working_model_a_training, 'y.parquet')\n",
    "fn_id = os.path.join(dir_working_model_a_training, 'id.parquet')\n",
    "\n",
    "dir_hyperparameters = dir_working_model_a_training\n",
    "fn_out = os.path.join(dir_working_model_a_training, 'gb_ray_tune/model_a_ann_hp_search.csv')\n",
    "\n",
    "# dir_hyperparameters = '/Volumes/Extreme SSD/rematch_eia_ferc1_docker/working_data/model_a/train'\n",
    "# fn_out = '/Volumes/Extreme SSD/rematch_eia_ferc1_docker/working_data/model_a/train/gb_ray_tune/grid_search.csv'"
   ]
  },
  {
   "cell_type": "code",
   "execution_count": 10,
   "id": "20fb90fd-594f-4e63-ba70-7edba9cd96f6",
   "metadata": {},
   "outputs": [],
   "source": [
    "def np_cleaning(X):\n",
    "    X = np.clip(X, a_min=-3, a_max=3)\n",
    "    X = np.nan_to_num(X, nan=0.0, posinf=0.0, neginf=0.0)\n",
    "    return X"
   ]
  },
  {
   "cell_type": "code",
   "execution_count": 41,
   "id": "bbe7ee40-8d8e-4f21-9477-69795210dd7e",
   "metadata": {},
   "outputs": [],
   "source": [
    "def fit_mod(space):\n",
    "    \n",
    "    # Read data\n",
    "    X = pd.read_parquet(fn_x)\n",
    "    Y = pd.read_parquet(fn_y)\n",
    "    ID = pd.read_parquet(fn_id)\n",
    "    \n",
    "    # Split data into testing and training\n",
    "    fold_array = np.arange(5)\n",
    "    fold_variable = np.random.choice(fold_array, size=1)[0]\n",
    "    \n",
    "    is_train_mask = (ID['fold'] != fold_variable).values\n",
    "    XTrain = X.loc[is_train_mask]\n",
    "    XTest = X.loc[~is_train_mask]\n",
    "    \n",
    "    # Scale numeric values\n",
    "    standard_scaler = StandardScaler()\n",
    "    \n",
    "    standard_scaler.fit(XTrain)\n",
    "    XTrain = standard_scaler.transform(XTrain)\n",
    "    XTest  = standard_scaler.transform(XTest)\n",
    "    \n",
    "    XTrain = np_cleaning(XTrain)\n",
    "    XTest  = np_cleaning(XTest)\n",
    "    \n",
    "    # Package in training and testing objects\n",
    "    train_set = lgb.Dataset(XTrain, Y.loc[is_train_mask])\n",
    "    test_set  = lgb.Dataset(XTest,  Y.loc[~is_train_mask])\n",
    "\n",
    "    # Model\n",
    "    gbm = lgb.train(\n",
    "        space,\n",
    "        train_set,\n",
    "        valid_sets=[test_set]    \n",
    "    )\n",
    "    binary_logloss = gbm.best_score['valid_0']['binary_logloss']\n",
    "    auc = gbm.best_score['valid_0']['auc']\n",
    "    train.report(\n",
    "        {\n",
    "            \"binary_logloss\": binary_logloss,\n",
    "            \"auc\": auc\n",
    "        }\n",
    "    )"
   ]
  },
  {
   "cell_type": "code",
   "execution_count": 42,
   "id": "8c205b97-589d-4eac-a8a5-78e63fbdfd9e",
   "metadata": {},
   "outputs": [],
   "source": [
    "space = {\n",
    "    # 'num_iterations': tune.randint(1, 1000),\n",
    "    'verbose':-1,\n",
    "    'num_trees': tune.randint(1, 500),\n",
    "    'learning_rate': tune.uniform(0.0001, 0.75),\n",
    "    'min_data_in_leaf': tune.randint(1, 200),\n",
    "    'objective':'binary', \n",
    "    # 'early_stopping_round':2,\n",
    "    'early_stopping_round':-1,\n",
    "    'metrics':['binary_logloss', 'auc']\n",
    "    }"
   ]
  },
  {
   "cell_type": "code",
   "execution_count": 48,
   "id": "874491e2-bdab-4591-8651-ec4635185a90",
   "metadata": {},
   "outputs": [],
   "source": [
    "# asha = ASHAScheduler(metric='binary_logloss', mode='min')\n",
    "\n",
    "search_alg = OptunaSearch(metric=\"binary_logloss\", mode=\"min\")\n",
    "search_alg = ConcurrencyLimiter(search_alg, max_concurrent=2)"
   ]
  },
  {
   "cell_type": "code",
   "execution_count": null,
   "id": "a258cd81-5cb2-4fae-bc80-0fdcd4225b25",
   "metadata": {},
   "outputs": [],
   "source": [
    "tuner = tune.Tuner(\n",
    "    fit_mod,\n",
    "    tune_config=tune.TuneConfig(\n",
    "        # scheduler=asha,\n",
    "        num_samples=250,\n",
    "        search_alg=search_alg,\n",
    "    ),\n",
    "    param_space=space,\n",
    "    run_config=train.RunConfig(\n",
    "        storage_path=dir_hyperparameters, \n",
    "        name=\"gb_ray_tune\"\n",
    "    )\n",
    ")\n",
    "results = tuner.fit()"
   ]
  },
  {
   "cell_type": "code",
   "execution_count": 50,
   "id": "238a82d2-be35-42db-ba6a-1fc6f55e139b",
   "metadata": {},
   "outputs": [],
   "source": [
    "Grid = results.get_dataframe().copy()"
   ]
  },
  {
   "cell_type": "code",
   "execution_count": 53,
   "id": "12c87cf1-dcf0-4e40-89cd-856f5bedfcd1",
   "metadata": {},
   "outputs": [],
   "source": [
    "Grid.index.name = 'order'\n",
    "RankedGrid = Grid.sort_values(['binary_logloss', 'auc'], ascending=[True, False]).reset_index()\n",
    "RankedGrid.index.name = 'rank'\n",
    "RankedGrid.to_csv(fn_out)"
   ]
  },
  {
   "cell_type": "code",
   "execution_count": 60,
   "id": "d99d11d8-6a0b-47df-b2f0-2429c03054b2",
   "metadata": {},
   "outputs": [
    {
     "data": {
      "text/html": [
       "<div>\n",
       "<style scoped>\n",
       "    .dataframe tbody tr th:only-of-type {\n",
       "        vertical-align: middle;\n",
       "    }\n",
       "\n",
       "    .dataframe tbody tr th {\n",
       "        vertical-align: top;\n",
       "    }\n",
       "\n",
       "    .dataframe thead th {\n",
       "        text-align: right;\n",
       "    }\n",
       "</style>\n",
       "<table border=\"1\" class=\"dataframe\">\n",
       "  <thead>\n",
       "    <tr style=\"text-align: right;\">\n",
       "      <th></th>\n",
       "      <th>binary_logloss</th>\n",
       "      <th>auc</th>\n",
       "      <th>config/num_trees</th>\n",
       "      <th>config/learning_rate</th>\n",
       "      <th>config/min_data_in_leaf</th>\n",
       "    </tr>\n",
       "    <tr>\n",
       "      <th>rank</th>\n",
       "      <th></th>\n",
       "      <th></th>\n",
       "      <th></th>\n",
       "      <th></th>\n",
       "      <th></th>\n",
       "    </tr>\n",
       "  </thead>\n",
       "  <tbody>\n",
       "    <tr>\n",
       "      <th>0</th>\n",
       "      <td>0.000121</td>\n",
       "      <td>0.999996</td>\n",
       "      <td>431</td>\n",
       "      <td>0.014076</td>\n",
       "      <td>74</td>\n",
       "    </tr>\n",
       "    <tr>\n",
       "      <th>1</th>\n",
       "      <td>0.000129</td>\n",
       "      <td>0.999996</td>\n",
       "      <td>462</td>\n",
       "      <td>0.011583</td>\n",
       "      <td>71</td>\n",
       "    </tr>\n",
       "    <tr>\n",
       "      <th>2</th>\n",
       "      <td>0.000129</td>\n",
       "      <td>0.999996</td>\n",
       "      <td>425</td>\n",
       "      <td>0.013871</td>\n",
       "      <td>67</td>\n",
       "    </tr>\n",
       "    <tr>\n",
       "      <th>3</th>\n",
       "      <td>0.000131</td>\n",
       "      <td>0.999996</td>\n",
       "      <td>451</td>\n",
       "      <td>0.013701</td>\n",
       "      <td>67</td>\n",
       "    </tr>\n",
       "    <tr>\n",
       "      <th>4</th>\n",
       "      <td>0.000138</td>\n",
       "      <td>0.999996</td>\n",
       "      <td>465</td>\n",
       "      <td>0.010777</td>\n",
       "      <td>64</td>\n",
       "    </tr>\n",
       "    <tr>\n",
       "      <th>5</th>\n",
       "      <td>0.000143</td>\n",
       "      <td>0.999996</td>\n",
       "      <td>495</td>\n",
       "      <td>0.012896</td>\n",
       "      <td>92</td>\n",
       "    </tr>\n",
       "    <tr>\n",
       "      <th>6</th>\n",
       "      <td>0.000149</td>\n",
       "      <td>0.999996</td>\n",
       "      <td>467</td>\n",
       "      <td>0.010824</td>\n",
       "      <td>69</td>\n",
       "    </tr>\n",
       "    <tr>\n",
       "      <th>7</th>\n",
       "      <td>0.000156</td>\n",
       "      <td>0.999995</td>\n",
       "      <td>444</td>\n",
       "      <td>0.012849</td>\n",
       "      <td>36</td>\n",
       "    </tr>\n",
       "    <tr>\n",
       "      <th>8</th>\n",
       "      <td>0.000158</td>\n",
       "      <td>0.999995</td>\n",
       "      <td>482</td>\n",
       "      <td>0.013417</td>\n",
       "      <td>85</td>\n",
       "    </tr>\n",
       "    <tr>\n",
       "      <th>9</th>\n",
       "      <td>0.000163</td>\n",
       "      <td>0.999994</td>\n",
       "      <td>486</td>\n",
       "      <td>0.012769</td>\n",
       "      <td>70</td>\n",
       "    </tr>\n",
       "  </tbody>\n",
       "</table>\n",
       "</div>"
      ],
      "text/plain": [
       "      binary_logloss       auc  config/num_trees  config/learning_rate  \\\n",
       "rank                                                                     \n",
       "0           0.000121  0.999996               431              0.014076   \n",
       "1           0.000129  0.999996               462              0.011583   \n",
       "2           0.000129  0.999996               425              0.013871   \n",
       "3           0.000131  0.999996               451              0.013701   \n",
       "4           0.000138  0.999996               465              0.010777   \n",
       "5           0.000143  0.999996               495              0.012896   \n",
       "6           0.000149  0.999996               467              0.010824   \n",
       "7           0.000156  0.999995               444              0.012849   \n",
       "8           0.000158  0.999995               482              0.013417   \n",
       "9           0.000163  0.999994               486              0.012769   \n",
       "\n",
       "      config/min_data_in_leaf  \n",
       "rank                           \n",
       "0                          74  \n",
       "1                          71  \n",
       "2                          67  \n",
       "3                          67  \n",
       "4                          64  \n",
       "5                          92  \n",
       "6                          69  \n",
       "7                          36  \n",
       "8                          85  \n",
       "9                          70  "
      ]
     },
     "execution_count": 60,
     "metadata": {},
     "output_type": "execute_result"
    }
   ],
   "source": [
    "RankedGrid.sort_values('binary_logloss').head(10)[['binary_logloss', 'auc', 'config/num_trees', 'config/learning_rate', 'config/min_data_in_leaf']]"
   ]
  },
  {
   "cell_type": "code",
   "execution_count": 8,
   "id": "0530a636-edca-466d-bd97-2cc743cafdc7",
   "metadata": {},
   "outputs": [],
   "source": [
    "# experiment_path = \"/Users/andrewbartnof/Documents/rmi/rematch_ferc_eia1/clean_data/model_full_gradient_boost/ray_tune/gb_ray_tune\"\n",
    "# restored_tuner = tune.Tuner.restore(experiment_path, trainable=fit_mod)"
   ]
  },
  {
   "cell_type": "code",
   "execution_count": 9,
   "id": "0c865454-c5f1-452f-a4eb-a0b46be8f113",
   "metadata": {},
   "outputs": [],
   "source": [
    "# fn_results = '/Users/andrewbartnof/Documents/rmi/rematch_ferc_eia1/clean_data/model_full_gradient_boost/ray_tune/ray_tune_dataframe.csv'\n",
    "# restored_tuner.get_results().get_dataframe().to_csv(fn_results)"
   ]
  },
  {
   "cell_type": "code",
   "execution_count": 10,
   "id": "87caa34e-16e8-4b41-9a34-64cf0773ab49",
   "metadata": {},
   "outputs": [],
   "source": [
    "# !jupyter nbconvert --to script model_a_hyperparameter_search.ipynb"
   ]
  }
 ],
 "metadata": {
  "kernelspec": {
   "display_name": "Python 3 (ipykernel)",
   "language": "python",
   "name": "python3"
  },
  "language_info": {
   "codemirror_mode": {
    "name": "ipython",
    "version": 3
   },
   "file_extension": ".py",
   "mimetype": "text/x-python",
   "name": "python",
   "nbconvert_exporter": "python",
   "pygments_lexer": "ipython3",
   "version": "3.12.2"
  }
 },
 "nbformat": 4,
 "nbformat_minor": 5
}
