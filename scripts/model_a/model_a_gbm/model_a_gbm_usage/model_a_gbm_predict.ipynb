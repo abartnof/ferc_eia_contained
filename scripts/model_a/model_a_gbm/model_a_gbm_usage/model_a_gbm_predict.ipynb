{
 "cells": [
  {
   "cell_type": "markdown",
   "id": "d4a7a3ed-ded1-462a-84f9-5cddc8e21e0d",
   "metadata": {},
   "source": [
    "# Iterate through the tranches’ X files, and return a y_fit for each row, using the model A GBM\n",
    "\n",
    "__author__: Andrew Bartnof\n",
    "\n",
    "__copyright__: Copyright 2025, Rocky Mountain Institute\n",
    "\n",
    "__credits__: Alex Engel, Andrew Bartnof"
   ]
  },
  {
   "cell_type": "code",
   "execution_count": 11,
   "id": "4106c744-5a93-43c7-ae2c-fb55f0531ccc",
   "metadata": {},
   "outputs": [],
   "source": [
    "import lightgbm as lgb\n",
    "import numpy as np\n",
    "import pandas as pd\n",
    "import os \n",
    "\n",
    "from glob import glob\n",
    "\n",
    "# from sklearn.preprocessing import StandardScaler\n",
    "from tqdm.notebook import tqdm\n",
    "# utils.set_random_seed(1)"
   ]
  },
  {
   "cell_type": "code",
   "execution_count": 8,
   "id": "725cdf07-49ce-4616-bd14-c9b5712563c2",
   "metadata": {},
   "outputs": [],
   "source": [
    "# Create a common location for filenames, X and y_fit\n",
    "data_dir = '/Volumes/Extreme SSD/rematch_eia_ferc1_docker'\n",
    "dir_x = os.path.join(data_dir, 'working_data/model_a/model_a_x')\n",
    "dir_y_fit = os.path.join(data_dir, 'working_data/model_a/model_a_gbm_y_fit')\n",
    "\n",
    "fn_list_x = glob(os.path.join(dir_x, '*.parquet'))\n",
    "FN = pd.DataFrame({'dir_fn_x':fn_list_x})\n",
    "FN['file_suffix'] = FN['dir_fn_x'].str.extract('(?<=x__)(.*)')\n",
    "\n",
    "joinme_y_fit = os.path.join(dir_y_fit, 'y_fit__')\n",
    "FN['dir_fn_y_fit'] = pd.Series([joinme_y_fit + f for f in FN['file_suffix'].values])"
   ]
  },
  {
   "cell_type": "code",
   "execution_count": 9,
   "id": "032b3ea7-bf83-4b9f-a3ee-916db2f38ca4",
   "metadata": {},
   "outputs": [],
   "source": [
    "# Load model\n",
    "fn_model = os.path.join(data_dir, 'working_data/model_a/model_a_training/model_a_gbm.txt')\n",
    "model = lgb.Booster(model_file=fn_model)"
   ]
  },
  {
   "cell_type": "code",
   "execution_count": 12,
   "id": "882eded5-3c04-4aa5-a5c9-6f06efc49fd6",
   "metadata": {},
   "outputs": [
    {
     "data": {
      "application/vnd.jupyter.widget-view+json": {
       "model_id": "18176205465c434d8d05f242be5968a4",
       "version_major": 2,
       "version_minor": 0
      },
      "text/plain": [
       "  0%|          | 0/1128 [00:00<?, ?it/s]"
      ]
     },
     "metadata": {},
     "output_type": "display_data"
    }
   ],
   "source": [
    "for i in tqdm(FN.index):\n",
    "    X = pd.read_parquet(FN['dir_fn_x'][i])\n",
    "    y_fit = model.predict(X)\n",
    "    YFit = pd.DataFrame(y_fit).rename(columns={0:'y_fit'})\n",
    "    YFit.to_parquet(FN['dir_fn_y_fit'][i])"
   ]
  },
  {
   "cell_type": "code",
   "execution_count": 13,
   "id": "87caa34e-16e8-4b41-9a34-64cf0773ab49",
   "metadata": {},
   "outputs": [
    {
     "name": "stdout",
     "output_type": "stream",
     "text": [
      "[NbConvertApp] Converting notebook model_a_gbm_predict.ipynb to script\n",
      "[NbConvertApp] Writing 1283 bytes to model_a_gbm_predict.py\n"
     ]
    }
   ],
   "source": [
    "!jupyter nbconvert --to script model_a_gbm_predict.ipynb"
   ]
  }
 ],
 "metadata": {
  "kernelspec": {
   "display_name": "Python 3 (ipykernel)",
   "language": "python",
   "name": "python3"
  },
  "language_info": {
   "codemirror_mode": {
    "name": "ipython",
    "version": 3
   },
   "file_extension": ".py",
   "mimetype": "text/x-python",
   "name": "python",
   "nbconvert_exporter": "python",
   "pygments_lexer": "ipython3",
   "version": "3.12.2"
  }
 },
 "nbformat": 4,
 "nbformat_minor": 5
}
