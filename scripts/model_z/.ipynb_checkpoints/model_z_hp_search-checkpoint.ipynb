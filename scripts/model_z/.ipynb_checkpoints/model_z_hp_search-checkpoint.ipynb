{
 "cells": [
  {
   "cell_type": "code",
   "execution_count": 1,
   "id": "79914034-c10b-4187-beb9-ce2e83bb2482",
   "metadata": {},
   "outputs": [],
   "source": [
    "import pandas as pd\n",
    "import numpy as np\n",
    "import os\n",
    "\n",
    "import lightgbm as lgb\n",
    "\n",
    "from sklearn.preprocessing import StandardScaler\n",
    "\n",
    "from ray import train, tune\n",
    "from ray.tune.search.optuna import OptunaSearch\n",
    "from ray.tune.schedulers import ASHAScheduler\n",
    "from ray.tune.search import ConcurrencyLimiter"
   ]
  },
  {
   "cell_type": "code",
   "execution_count": 2,
   "id": "b068ecf5-2e40-487e-af62-785784c764ee",
   "metadata": {},
   "outputs": [],
   "source": [
    "data_dir = '/Volumes/Extreme SSD/rematch_eia_ferc1_docker'"
   ]
  },
  {
   "cell_type": "code",
   "execution_count": 8,
   "id": "c87b3274-1c4f-4199-b0aa-8c356f6da91a",
   "metadata": {},
   "outputs": [],
   "source": [
    "dir_hyperparameters = os.path.join(data_dir, 'working_data/model_second_stage/model_second_stage_training/gbm_raytune_2025_02_21')\n",
    "fn_hyperparameters = os.path.join(dir_hyperparameter, 'gbm_grid_2025_02_21.csv')\n",
    "\n",
    "dir_temp = os.path.join(data_dir, 'working_data/model_second_stage/model_second_stage_training/gbm_raytune_2025_02_21/temp_folder')\n",
    "\n",
    "fn_x_train = os.path.join(dir_temp, 'x_train.parquet')\n",
    "fn_x_test  = os.path.join(dir_temp, 'x_test.parquet')\n",
    "fn_y_train = os.path.join(dir_temp, 'y_train.parquet')\n",
    "fn_y_test  = os.path.join(dir_temp, 'y_test.parquet')"
   ]
  },
  {
   "cell_type": "code",
   "execution_count": 4,
   "id": "e8631957-dd72-45fe-9762-1f92f8e4dfc6",
   "metadata": {},
   "outputs": [],
   "source": [
    "space = {\n",
    "    'verbose':-1,\n",
    "    'num_trees': tune.randint(1, 500),\n",
    "    'learning_rate': tune.uniform(0.0001, 0.75),\n",
    "    'min_data_in_leaf': tune.randint(1, 200),\n",
    "    'objective':'binary', \n",
    "    # 'early_stopping_round':2,\n",
    "    'early_stopping_round':-1,\n",
    "    'metrics':['binary_logloss', 'auc']\n",
    "    }"
   ]
  },
  {
   "cell_type": "code",
   "execution_count": 10,
   "id": "6af905fe-8d4d-403a-b5c1-2f3d536cb46a",
   "metadata": {},
   "outputs": [],
   "source": [
    "search_alg = OptunaSearch(metric=\"binary_logloss\", mode=\"min\")\n",
    "search_alg = ConcurrencyLimiter(search_alg, max_concurrent=1)"
   ]
  },
  {
   "cell_type": "code",
   "execution_count": 11,
   "id": "91c5f8a6-7b6a-4075-b0c9-9dd46bcf162a",
   "metadata": {},
   "outputs": [],
   "source": [
    "def fit_mod(space):\n",
    "    \n",
    "    # Read data\n",
    "    XTrain = pd.read_parquet(fn_x_train)\n",
    "    XTest  = pd.read_parquet(fn_x_test)\n",
    "    YTrain = pd.read_parquet(fn_y_train)\n",
    "    YTest  = pd.read_parquet(fn_y_test)\n",
    "    \n",
    "    # Package in training and testing objects\n",
    "    train_set = lgb.Dataset(XTrain, YTrain)\n",
    "    test_set  = lgb.Dataset(XTest,  YTest)\n",
    "\n",
    "    # Model\n",
    "    gbm = lgb.train(\n",
    "        space,\n",
    "        train_set,\n",
    "        valid_sets=[test_set]    \n",
    "    )\n",
    "    binary_logloss = gbm.best_score['valid_0']['binary_logloss']\n",
    "    auc = gbm.best_score['valid_0']['auc']\n",
    "    train.report(\n",
    "        {\n",
    "            \"binary_logloss\": binary_logloss,\n",
    "            \"auc\": auc\n",
    "        }\n",
    "    )"
   ]
  },
  {
   "cell_type": "code",
   "execution_count": null,
   "id": "86743235-c83e-4487-9177-cc66a6f2cdc2",
   "metadata": {},
   "outputs": [
    {
     "data": {
      "text/html": [
       "<div class=\"tuneStatus\">\n",
       "  <div style=\"display: flex;flex-direction: row\">\n",
       "    <div style=\"display: flex;flex-direction: column;\">\n",
       "      <h3>Tune Status</h3>\n",
       "      <table>\n",
       "<tbody>\n",
       "<tr><td>Current time:</td><td>2025-02-24 14:54:44</td></tr>\n",
       "<tr><td>Running for: </td><td>00:03:58.43        </td></tr>\n",
       "<tr><td>Memory:      </td><td>6.0/8.0 GiB        </td></tr>\n",
       "</tbody>\n",
       "</table>\n",
       "    </div>\n",
       "    <div class=\"vDivider\"></div>\n",
       "    <div class=\"systemInfo\">\n",
       "      <h3>System Info</h3>\n",
       "      Using FIFO scheduling algorithm.<br>Logical resource usage: 1.0/8 CPUs, 0/0 GPUs\n",
       "    </div>\n",
       "    \n",
       "  </div>\n",
       "  <div class=\"hDivider\"></div>\n",
       "  <div class=\"trialStatus\">\n",
       "    <h3>Trial Status</h3>\n",
       "    <table>\n",
       "<thead>\n",
       "<tr><th>Trial name      </th><th>status    </th><th>loc            </th><th style=\"text-align: right;\">  learning_rate</th><th style=\"text-align: right;\">  min_data_in_leaf</th><th style=\"text-align: right;\">  num_trees</th><th style=\"text-align: right;\">  iter</th><th style=\"text-align: right;\">  total time (s)</th><th style=\"text-align: right;\">  binary_logloss</th><th style=\"text-align: right;\">      auc</th></tr>\n",
       "</thead>\n",
       "<tbody>\n",
       "<tr><td>fit_mod_dc95e8d9</td><td>RUNNING   </td><td>127.0.0.1:26985</td><td style=\"text-align: right;\">       0.268088</td><td style=\"text-align: right;\">                75</td><td style=\"text-align: right;\">        217</td><td style=\"text-align: right;\">      </td><td style=\"text-align: right;\">                </td><td style=\"text-align: right;\">                </td><td style=\"text-align: right;\">         </td></tr>\n",
       "<tr><td>fit_mod_2d835cdc</td><td>TERMINATED</td><td>127.0.0.1:26934</td><td style=\"text-align: right;\">       0.311946</td><td style=\"text-align: right;\">               190</td><td style=\"text-align: right;\">        345</td><td style=\"text-align: right;\">     1</td><td style=\"text-align: right;\">         77.8929</td><td style=\"text-align: right;\">       0.0345043</td><td style=\"text-align: right;\">0.255716 </td></tr>\n",
       "<tr><td>fit_mod_d493975c</td><td>TERMINATED</td><td>127.0.0.1:26937</td><td style=\"text-align: right;\">       0.622545</td><td style=\"text-align: right;\">               153</td><td style=\"text-align: right;\">        290</td><td style=\"text-align: right;\">     1</td><td style=\"text-align: right;\">         69.4519</td><td style=\"text-align: right;\">      20.5223   </td><td style=\"text-align: right;\">0.0339882</td></tr>\n",
       "<tr><td>fit_mod_1e00158f</td><td>TERMINATED</td><td>127.0.0.1:26945</td><td style=\"text-align: right;\">       0.104603</td><td style=\"text-align: right;\">                63</td><td style=\"text-align: right;\">         61</td><td style=\"text-align: right;\">     1</td><td style=\"text-align: right;\">         32.9628</td><td style=\"text-align: right;\">       0.0339918</td><td style=\"text-align: right;\">0.851544 </td></tr>\n",
       "</tbody>\n",
       "</table>\n",
       "  </div>\n",
       "</div>\n",
       "<style>\n",
       ".tuneStatus {\n",
       "  color: var(--jp-ui-font-color1);\n",
       "}\n",
       ".tuneStatus .systemInfo {\n",
       "  display: flex;\n",
       "  flex-direction: column;\n",
       "}\n",
       ".tuneStatus td {\n",
       "  white-space: nowrap;\n",
       "}\n",
       ".tuneStatus .trialStatus {\n",
       "  display: flex;\n",
       "  flex-direction: column;\n",
       "}\n",
       ".tuneStatus h3 {\n",
       "  font-weight: bold;\n",
       "}\n",
       ".tuneStatus .hDivider {\n",
       "  border-bottom-width: var(--jp-border-width);\n",
       "  border-bottom-color: var(--jp-border-color0);\n",
       "  border-bottom-style: solid;\n",
       "}\n",
       ".tuneStatus .vDivider {\n",
       "  border-left-width: var(--jp-border-width);\n",
       "  border-left-color: var(--jp-border-color0);\n",
       "  border-left-style: solid;\n",
       "  margin: 0.5em 1em 0.5em 1em;\n",
       "}\n",
       "</style>\n"
      ],
      "text/plain": [
       "<IPython.core.display.HTML object>"
      ]
     },
     "metadata": {},
     "output_type": "display_data"
    },
    {
     "name": "stderr",
     "output_type": "stream",
     "text": [
      "\u001b[36m(fit_mod pid=26934)\u001b[0m /opt/miniconda3/lib/python3.12/site-packages/lightgbm/engine.py:204: UserWarning: Found `num_trees` in params. Will use it instead of argument\n",
      "\u001b[36m(fit_mod pid=26934)\u001b[0m   _log_warning(f\"Found `{alias}` in params. Will use it instead of argument\")\n",
      "\u001b[36m(fit_mod pid=26937)\u001b[0m /opt/miniconda3/lib/python3.12/site-packages/lightgbm/engine.py:204: UserWarning: Found `num_trees` in params. Will use it instead of argument\n",
      "\u001b[36m(fit_mod pid=26937)\u001b[0m   _log_warning(f\"Found `{alias}` in params. Will use it instead of argument\")\n",
      "\u001b[36m(fit_mod pid=26945)\u001b[0m /opt/miniconda3/lib/python3.12/site-packages/lightgbm/engine.py:204: UserWarning: Found `num_trees` in params. Will use it instead of argument\n",
      "\u001b[36m(fit_mod pid=26945)\u001b[0m   _log_warning(f\"Found `{alias}` in params. Will use it instead of argument\")\n",
      "\u001b[36m(fit_mod pid=26985)\u001b[0m /opt/miniconda3/lib/python3.12/site-packages/lightgbm/engine.py:204: UserWarning: Found `num_trees` in params. Will use it instead of argument\n",
      "\u001b[36m(fit_mod pid=26985)\u001b[0m   _log_warning(f\"Found `{alias}` in params. Will use it instead of argument\")\n"
     ]
    }
   ],
   "source": [
    "tuner = tune.Tuner(\n",
    "    fit_mod,\n",
    "    tune_config=tune.TuneConfig(\n",
    "        num_samples=250,\n",
    "        search_alg=search_alg,\n",
    "    ),\n",
    "    param_space=space,\n",
    "    run_config=train.RunConfig(\n",
    "        storage_path=dir_hyperparameters, \n",
    "        name=\"gb_ray_tune\"\n",
    "    )\n",
    ")\n",
    "results = tuner.fit()"
   ]
  },
  {
   "cell_type": "code",
   "execution_count": null,
   "id": "58861f23-f358-4940-b960-04ef5630f468",
   "metadata": {},
   "outputs": [],
   "source": [
    "Grid = results.get_dataframe().copy()"
   ]
  },
  {
   "cell_type": "code",
   "execution_count": null,
   "id": "9aea948b-6f08-4223-b6f1-b35d670f8f40",
   "metadata": {},
   "outputs": [],
   "source": [
    "Grid.index.name = 'order'\n",
    "RankedGrid = Grid.sort_values(['binary_logloss', 'auc'], ascending=[True, False]).reset_index()\n",
    "RankedGrid.index.name = 'rank'\n",
    "RankedGrid.to_csv(fn_hyperparameters)"
   ]
  },
  {
   "cell_type": "code",
   "execution_count": null,
   "id": "31b27385-9e02-4427-b086-863c2c3b2589",
   "metadata": {},
   "outputs": [],
   "source": [
    "RankedGrid.sort_values('binary_logloss').head(10)[['binary_logloss', 'auc', 'config/num_trees', 'config/learning_rate', 'config/min_data_in_leaf']]"
   ]
  }
 ],
 "metadata": {
  "kernelspec": {
   "display_name": "Python 3 (ipykernel)",
   "language": "python",
   "name": "python3"
  },
  "language_info": {
   "codemirror_mode": {
    "name": "ipython",
    "version": 3
   },
   "file_extension": ".py",
   "mimetype": "text/x-python",
   "name": "python",
   "nbconvert_exporter": "python",
   "pygments_lexer": "ipython3",
   "version": "3.12.2"
  }
 },
 "nbformat": 4,
 "nbformat_minor": 5
}
