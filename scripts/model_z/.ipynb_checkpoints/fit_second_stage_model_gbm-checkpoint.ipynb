{
 "cells": [
  {
   "cell_type": "code",
   "execution_count": 1,
   "id": "d2f4fe6b-9cff-429a-b452-ea2e869a2321",
   "metadata": {},
   "outputs": [],
   "source": [
    "import pandas as pd\n",
    "import numpy as np\n",
    "import os, re\n",
    "import lightgbm as lgb\n",
    "from scipy import stats"
   ]
  },
  {
   "cell_type": "code",
   "execution_count": 53,
   "id": "758a54bd-899d-4bb9-939d-18529e471c94",
   "metadata": {},
   "outputs": [],
   "source": [
    "def elt_y_fit(fn_y_fit, ID):\n",
    "    # Load the y_fit, group by record_id_ferc1, return ranks\n",
    "    \n",
    "    YFit = pd.read_parquet(fn_y_fit)\n",
    "    suffix = re.sub('y_fit_', '', YFit.columns[0])\n",
    "    YFit.columns = ['y_fit']\n",
    "    \n",
    "    Cte = ID[['record_id_ferc1']].copy()\n",
    "    Cte = pd.concat([Cte, YFit], axis=1)\n",
    "    Cte['y_fit_rank'] = Cte.groupby('record_id_ferc1')['y_fit'].rank(method='dense', ascending=False)\n",
    "    Cte = Cte[['y_fit', 'y_fit_rank']]\n",
    "    Cte = Cte.rename(columns={'y_fit':'y_fit__' + suffix, 'y_fit_rank':'y_fit_rank__' + suffix})\n",
    "    return Cte"
   ]
  },
  {
   "cell_type": "code",
   "execution_count": 3,
   "id": "262015a4-ba3c-4a83-a21b-987b0d34e5ed",
   "metadata": {},
   "outputs": [],
   "source": [
    "data_dir = '/Volumes/Extreme SSD/rematch_eia_ferc1_docker'\n",
    "\n",
    "fn_second_stage_model_gbm_hp = os.path.join(data_dir, 'working_data/model_second_stage/model_second_stage_training/model_second_stage_gbm_hp.csv')\n",
    "\n",
    "fn_model_out = os.path.join(data_dir, 'working_data/model_second_stage/model_second_stage_training/model_2.txt')\n",
    "fn_y_fit_2_out = os.path.join(data_dir, 'working_data/model_second_stage/model_second_stage_training/temp/y_fit_2.parquet')\n",
    "fn_mod2_feature_importance = os.path.join(data_dir, 'working_data/model_second_stage/model_second_stage_training/temp/mod2_feature_importance.parquet')"
   ]
  },
  {
   "cell_type": "code",
   "execution_count": 4,
   "id": "17d9fe74-493d-4696-8b87-7dc6cd707255",
   "metadata": {},
   "outputs": [
    {
     "name": "stdout",
     "output_type": "stream",
     "text": [
      "{'num_trees': 798, 'min_data_in_leaf': 161, 'learning_rate': 0.012805643986978}\n"
     ]
    }
   ],
   "source": [
    "hp = pd.read_csv(fn_second_stage_model_gbm_hp).to_dict('list')\n",
    "hp = {k:hp[k][0] for k in hp.keys()}\n",
    "print(hp)"
   ]
  },
  {
   "cell_type": "code",
   "execution_count": 58,
   "id": "19e3fc45-553b-4578-9bd5-987f5d7f900c",
   "metadata": {},
   "outputs": [],
   "source": [
    "fn_x_1_a = os.path.join(data_dir, 'working_data/model_second_stage/model_second_stage_training/temp/x_1_a.parquet')\n",
    "fn_x_1_b = os.path.join(data_dir, 'working_data/model_second_stage/model_second_stage_training/temp/x_1_b.parquet')\n",
    "\n",
    "fn_y_fit_1_a_ann = os.path.join(data_dir, 'working_data/model_second_stage/model_second_stage_training/temp/y_fit_1_a_ann.parquet')\n",
    "fn_y_fit_1_a_gbm = os.path.join(data_dir, 'working_data/model_second_stage/model_second_stage_training/temp/y_fit_1_a_gbm.parquet')\n",
    "fn_y_fit_1_b_ann = os.path.join(data_dir, 'working_data/model_second_stage/model_second_stage_training/temp/y_fit_1_b_ann.parquet')\n",
    "fn_y_fit_1_b_gbm = os.path.join(data_dir, 'working_data/model_second_stage/model_second_stage_training/temp/y_fit_1_b_gbm.parquet')\n",
    "\n",
    "fn_id = os.path.join(data_dir, 'working_data/model_a/model_a_training/id.parquet')\n",
    "fn_y = os.path.join(data_dir, 'working_data/model_a/model_a_training/y.parquet')"
   ]
  },
  {
   "cell_type": "code",
   "execution_count": 10,
   "id": "72ea57d0-27ca-446e-9b93-f5b262abe4b8",
   "metadata": {},
   "outputs": [],
   "source": [
    "y = pd.read_parquet(fn_y)\n",
    "ID = pd.read_parquet(fn_id)\n",
    "\n",
    "X1A = pd.read_parquet(fn_x_1_a).reset_index(drop=True)\n",
    "X1B = pd.read_parquet(fn_x_1_b).reset_index(drop=True)"
   ]
  },
  {
   "cell_type": "code",
   "execution_count": 59,
   "id": "9cf56163-e45e-458e-b55c-6e6dc520b93c",
   "metadata": {},
   "outputs": [],
   "source": [
    "# Load data, adding descending dense ranks to the y_fit\n",
    "X1A = pd.read_parquet(fn_x_1_a).reset_index(drop=True)\n",
    "X1B = pd.read_parquet(fn_x_1_b).reset_index(drop=True)\n",
    "\n",
    "YFit1AAnn = elt_y_fit(fn_y_fit=fn_y_fit_1_a_ann, ID=ID)\n",
    "YFit1AGbm = elt_y_fit(fn_y_fit=fn_y_fit_1_a_gbm, ID=ID)\n",
    "YFit1BAnn = elt_y_fit(fn_y_fit=fn_y_fit_1_b_ann, ID=ID)\n",
    "YFit1BGbm = elt_y_fit(fn_y_fit=fn_y_fit_1_b_gbm, ID=ID)"
   ]
  },
  {
   "cell_type": "code",
   "execution_count": 60,
   "id": "c5585cce-7f45-4859-bd0b-afb81ad51be5",
   "metadata": {},
   "outputs": [],
   "source": [
    "X2 = pd.concat([\n",
    "    X1A.add_prefix('x1a_').reset_index(drop=True), \n",
    "    X1B.add_prefix('x1b_').reset_index(drop=True), \n",
    "    YFit1AAnn.reset_index(drop=True), \n",
    "    YFit1AGbm.reset_index(drop=True), \n",
    "    YFit1BAnn.reset_index(drop=True), \n",
    "    YFit1BGbm.reset_index(drop=True)\n",
    "], axis=1)"
   ]
  },
  {
   "cell_type": "code",
   "execution_count": 61,
   "id": "94399195-3d01-4401-b7bd-9f7d161f0e5a",
   "metadata": {},
   "outputs": [
    {
     "name": "stderr",
     "output_type": "stream",
     "text": [
      "/opt/miniconda3/lib/python3.12/site-packages/lightgbm/engine.py:204: UserWarning: Found `num_trees` in params. Will use it instead of argument\n",
      "  _log_warning(f\"Found `{alias}` in params. Will use it instead of argument\")\n"
     ]
    },
    {
     "name": "stdout",
     "output_type": "stream",
     "text": [
      "[LightGBM] [Info] Auto-choosing row-wise multi-threading, the overhead of testing was 0.788744 seconds.\n",
      "You can set `force_row_wise=true` to remove the overhead.\n",
      "And if memory is not enough, you can set `force_col_wise=true`.\n",
      "[LightGBM] [Info] Total Bins 6427\n",
      "[LightGBM] [Info] Number of data points in the train set: 6374368, number of used features: 142\n",
      "[LightGBM] [Info] Start training from score 0.000999\n",
      "[LightGBM] [Warning] No further splits with positive gain, best gain: -inf\n"
     ]
    },
    {
     "data": {
      "text/plain": [
       "<lightgbm.basic.Booster at 0x12ac69670>"
      ]
     },
     "execution_count": 61,
     "metadata": {},
     "output_type": "execute_result"
    }
   ],
   "source": [
    "train_data = lgb.Dataset(X2, y)\n",
    "mod2 = lgb.train(params=hp, train_set=train_data)\n",
    "mod2.save_model(fn_model_out)"
   ]
  },
  {
   "cell_type": "code",
   "execution_count": 63,
   "id": "b768e740-5a4d-464d-a83b-12843f09a8e1",
   "metadata": {},
   "outputs": [],
   "source": [
    "y_fit = mod2.predict(X2)\n",
    "pd.DataFrame(y_fit).rename(columns={0:'y_fit_2'}).to_parquet(fn_y_fit_2_out)"
   ]
  },
  {
   "cell_type": "code",
   "execution_count": 64,
   "id": "6b230867-3f9f-4115-acfe-6e689d5f911e",
   "metadata": {},
   "outputs": [],
   "source": [
    "pd.DataFrame({'colnames':X2.columns.to_series(), 'feature_importance':mod2.feature_importance()}).reset_index(drop=True).to_parquet(fn_mod2_feature_importance)"
   ]
  },
  {
   "cell_type": "markdown",
   "id": "e9ef0f74-61a3-4f0a-8ff3-593a79369b47",
   "metadata": {},
   "source": [
    "todo:\n",
    "- train model2\n",
    "- save model2\n",
    "- save y_fit_2\n",
    "- show component importance for model2\n",
    "- manually qc mappings"
   ]
  },
  {
   "cell_type": "code",
   "execution_count": 65,
   "id": "8e21f8c1-e895-4dfc-8b8b-5aeaa4acc853",
   "metadata": {},
   "outputs": [
    {
     "name": "stdout",
     "output_type": "stream",
     "text": [
      "[NbConvertApp] Converting notebook fit_second_stage_model_gbm.ipynb to script\n",
      "[NbConvertApp] Writing 3913 bytes to fit_second_stage_model_gbm.py\n"
     ]
    }
   ],
   "source": [
    "!jupyter nbconvert --to script fit_second_stage_model_gbm.ipynb"
   ]
  }
 ],
 "metadata": {
  "kernelspec": {
   "display_name": "Python 3 (ipykernel)",
   "language": "python",
   "name": "python3"
  },
  "language_info": {
   "codemirror_mode": {
    "name": "ipython",
    "version": 3
   },
   "file_extension": ".py",
   "mimetype": "text/x-python",
   "name": "python",
   "nbconvert_exporter": "python",
   "pygments_lexer": "ipython3",
   "version": "3.12.2"
  }
 },
 "nbformat": 4,
 "nbformat_minor": 5
}
