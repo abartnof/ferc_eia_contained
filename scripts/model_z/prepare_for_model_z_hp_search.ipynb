{
 "cells": [
  {
   "cell_type": "markdown",
   "id": "eb935cb3-c5d4-412b-a6b1-3a8523526b11",
   "metadata": {},
   "source": [
    "Steps here:\n",
    "- Subset training data to 2/5 of the folds\n",
    "- fit all four first-order models on this 2/5\n",
    "- Subsequently, we'll need to train a GBM model on 2/5 of the (remaining) folds, and to test on the last 1/5\n",
    "    - These training and testing sets for the second-tier model will need the __feature-engineered__ input X files for each model (A and B), as well as the __y-fit__ for each of the input models (A, B x ANN, GBM). Also, add __descending-rank__ for each prediction, where 1.0 is 1\n",
    "    - It's easier if we pre-process this bit, and save these training and testing sets in a 'temp folder', and then in a second script...\n",
    "      \n",
    "Near future steps:\n",
    "- use raytune, get 250 models\n",
    "- Repeat, using more/less of the original data, as a sensitivity test"
   ]
  },
  {
   "cell_type": "code",
   "execution_count": 1,
   "id": "98c0b85d-84a1-435e-84a1-42da33fb38a8",
   "metadata": {},
   "outputs": [],
   "source": [
    "import pandas as pd\n",
    "import numpy as np\n",
    "import os\n",
    "\n",
    "from keras import models, layers, regularizers, optimizers, callbacks, utils, losses, metrics\n",
    "from tensorflow.keras.backend import clear_session\n",
    "from tensorflow import convert_to_tensor\n",
    "\n",
    "import lightgbm as lgb\n",
    "\n",
    "from sklearn.preprocessing import StandardScaler\n",
    "\n",
    "# from ray import train, tune\n",
    "# from ray.tune.search.optuna import OptunaSearch\n",
    "# from ray.tune.schedulers import ASHAScheduler\n",
    "# from ray.tune.search import ConcurrencyLimiter\n",
    "\n",
    "from scipy import stats"
   ]
  },
  {
   "cell_type": "markdown",
   "id": "33c17a1b-7726-437b-80e5-3e3d2d84ce3d",
   "metadata": {},
   "source": [
    "# Establish file locations, define functions"
   ]
  },
  {
   "cell_type": "code",
   "execution_count": 2,
   "id": "d0c9c4d4-0579-41d8-8e0e-6dd1bd6b7a80",
   "metadata": {},
   "outputs": [],
   "source": [
    "data_dir = '/Volumes/Extreme SSD/rematch_eia_ferc1_docker'\n",
    "dir_working_model_a_training = os.path.join(data_dir, 'working_data/model_a/model_a_training')\n",
    "dir_working_model_b_training = os.path.join(data_dir, 'working_data/model_b/model_b_training')"
   ]
  },
  {
   "cell_type": "code",
   "execution_count": 3,
   "id": "9c41a68f-b8f0-4797-8da1-e8bafc3c0493",
   "metadata": {},
   "outputs": [],
   "source": [
    "fn_x_a = os.path.join(dir_working_model_a_training, 'x.parquet')\n",
    "fn_y_a = os.path.join(dir_working_model_a_training, 'y.parquet')\n",
    "fn_id_a = os.path.join(dir_working_model_a_training, 'id.parquet')\n",
    "\n",
    "fn_x_b = os.path.join(dir_working_model_b_training, 'x.parquet')\n",
    "fn_y_b = os.path.join(dir_working_model_b_training, 'y.parquet')\n",
    "fn_id_b = os.path.join(dir_working_model_b_training, 'id.parquet')"
   ]
  },
  {
   "cell_type": "code",
   "execution_count": 4,
   "id": "b91ae643-7e6d-46a5-9163-091041e44d85",
   "metadata": {},
   "outputs": [],
   "source": [
    "# (pd.read_parquet(fn_id_a) == pd.read_parquet(fn_id_b)).mean()"
   ]
  },
  {
   "cell_type": "code",
   "execution_count": 5,
   "id": "d760612d-0f3e-4fe4-9a90-b07c4f3609f3",
   "metadata": {},
   "outputs": [],
   "source": [
    "dir_temp = os.path.join(data_dir, 'working_data/model_second_stage/model_second_stage_training/gbm_raytune_2025_03_21/temp_folder')\n",
    "\n",
    "fn_model_a_ann = os.path.join(dir_temp, 'model_a_ann.keras')\n",
    "fn_model_b_ann = os.path.join(dir_temp, 'model_b_ann.keras')\n",
    "fn_model_a_gbm = os.path.join(dir_temp, 'model_a_gbm.txt')\n",
    "fn_model_b_gbm = os.path.join(dir_temp, 'model_b_gbm.txt')\n",
    "\n",
    "fn_x_train = os.path.join(dir_temp, 'x_train.parquet')\n",
    "fn_x_test  = os.path.join(dir_temp, 'x_test.parquet')\n",
    "fn_y_train = os.path.join(dir_temp, 'y_train.parquet')\n",
    "fn_y_test  = os.path.join(dir_temp, 'y_test.parquet')\n",
    "\n",
    "fn_split_characteristics = os.path.join(dir_temp, 'split_characteristics.csv')"
   ]
  },
  {
   "cell_type": "code",
   "execution_count": 6,
   "id": "4b567de0-38e2-420d-8768-1f26dad84574",
   "metadata": {},
   "outputs": [],
   "source": [
    "def np_cleaning(X):\n",
    "    X = np.clip(X, a_min=-3, a_max=3)\n",
    "    X = np.nan_to_num(X, nan=0.0, posinf=0.0, neginf=0.0)\n",
    "    return X\n",
    "\n",
    "def prep_x(fit_scaler, X):\n",
    "    X = fit_scaler.transform(X)\n",
    "    X = np_cleaning(X)\n",
    "    # X = convert_to_tensor(X)\n",
    "    return(X)\n",
    "    \n",
    "def add_grouped_rank_to_y_fit(ID, mask, y_fit):\n",
    "    Cte = ID.loc[mask, ['record_id_ferc1']].copy()\n",
    "    Cte['y_fit'] = y_fit\n",
    "    Cte['rank'] = Cte.groupby('record_id_ferc1')['y_fit'].rank(method='dense', ascending=False)\n",
    "    Cte = Cte[['y_fit', 'rank']]\n",
    "    return Cte"
   ]
  },
  {
   "cell_type": "code",
   "execution_count": 7,
   "id": "9b92671c-96ff-4c11-9778-b5fbfe2d220a",
   "metadata": {},
   "outputs": [],
   "source": [
    "fn_model_a_ann_hp = os.path.join(data_dir, 'working_data/model_a/model_a_training/model_a_ann_hp.csv')\n",
    "params_a_ann = pd.read_csv(fn_model_a_ann_hp).to_dict(orient='list')\n",
    "params_a_ann = {k:params_a_ann[k][0] for k in params_a_ann.keys()}"
   ]
  },
  {
   "cell_type": "code",
   "execution_count": 8,
   "id": "aac933f4-180e-43c2-88f3-c3501ade9f14",
   "metadata": {},
   "outputs": [],
   "source": [
    "fn_model_a_gbm_hp = os.path.join(data_dir, 'working_data/model_a/model_a_training/model_a_gbm_hp.csv')\n",
    "params_a_gbm = pd.read_csv(fn_model_a_gbm_hp).to_dict(orient='list')\n",
    "params_a_gbm = {k:params_a_gbm[k][0] for k in params_a_gbm.keys()}\n",
    "params_a_gbm['metrics'] = ['binary_logloss', 'auc']"
   ]
  },
  {
   "cell_type": "code",
   "execution_count": 9,
   "id": "84a45250-cbbe-49af-aed2-fd90cc5b1a44",
   "metadata": {},
   "outputs": [],
   "source": [
    "fn_model_b_ann_hp = os.path.join(data_dir, 'working_data/model_b/model_b_training/model_b_ann_hp.csv')\n",
    "params_b_ann = pd.read_csv(fn_model_b_ann_hp).to_dict(orient='list')\n",
    "params_b_ann = {k:params_b_ann[k][0] for k in params_b_ann.keys()}"
   ]
  },
  {
   "cell_type": "code",
   "execution_count": 10,
   "id": "645ffff3-46a4-4406-9ad3-a7e09589ed62",
   "metadata": {},
   "outputs": [],
   "source": [
    "fn_model_b_gbm_hp = os.path.join(data_dir, 'working_data/model_b/model_b_training/model_b_gbm_hp.csv')\n",
    "params_b_gbm = pd.read_csv(fn_model_b_gbm_hp).to_dict(orient='list')\n",
    "params_b_gbm = {k:params_b_gbm[k][0] for k in params_b_gbm.keys()}\n",
    "params_b_gbm['metrics'] = ['binary_logloss', 'auc']"
   ]
  },
  {
   "cell_type": "markdown",
   "id": "f9046704-5abf-4a9b-a6e0-8b27018c6bc8",
   "metadata": {},
   "source": [
    "# Model A"
   ]
  },
  {
   "cell_type": "code",
   "execution_count": 11,
   "id": "f15bfd3f-80ad-45ad-86d7-09dd85df4b03",
   "metadata": {},
   "outputs": [],
   "source": [
    "# Model A- data prep\n",
    "\n",
    "X_a = pd.read_parquet(fn_x_a)\n",
    "Y_a = pd.read_parquet(fn_y_a)\n",
    "ID_a = pd.read_parquet(fn_id_a)"
   ]
  },
  {
   "cell_type": "code",
   "execution_count": 12,
   "id": "40418995-b8f4-4dee-8dd5-b613ca7e9590",
   "metadata": {},
   "outputs": [
    {
     "data": {
      "text/html": [
       "<div>\n",
       "<style scoped>\n",
       "    .dataframe tbody tr th:only-of-type {\n",
       "        vertical-align: middle;\n",
       "    }\n",
       "\n",
       "    .dataframe tbody tr th {\n",
       "        vertical-align: top;\n",
       "    }\n",
       "\n",
       "    .dataframe thead th {\n",
       "        text-align: right;\n",
       "    }\n",
       "</style>\n",
       "<table border=\"1\" class=\"dataframe\">\n",
       "  <thead>\n",
       "    <tr style=\"text-align: right;\">\n",
       "      <th></th>\n",
       "      <th>name</th>\n",
       "      <th>fold</th>\n",
       "    </tr>\n",
       "  </thead>\n",
       "  <tbody>\n",
       "    <tr>\n",
       "      <th>0</th>\n",
       "      <td>premier_model_fits</td>\n",
       "      <td>3</td>\n",
       "    </tr>\n",
       "    <tr>\n",
       "      <th>1</th>\n",
       "      <td>premier_model_fits</td>\n",
       "      <td>4</td>\n",
       "    </tr>\n",
       "    <tr>\n",
       "      <th>2</th>\n",
       "      <td>secondary_model_train</td>\n",
       "      <td>2</td>\n",
       "    </tr>\n",
       "    <tr>\n",
       "      <th>3</th>\n",
       "      <td>secondary_model_train</td>\n",
       "      <td>1</td>\n",
       "    </tr>\n",
       "    <tr>\n",
       "      <th>4</th>\n",
       "      <td>secondary_model_test</td>\n",
       "      <td>0</td>\n",
       "    </tr>\n",
       "  </tbody>\n",
       "</table>\n",
       "</div>"
      ],
      "text/plain": [
       "                    name  fold\n",
       "0     premier_model_fits     3\n",
       "1     premier_model_fits     4\n",
       "2  secondary_model_train     2\n",
       "3  secondary_model_train     1\n",
       "4   secondary_model_test     0"
      ]
     },
     "execution_count": 12,
     "metadata": {},
     "output_type": "execute_result"
    }
   ],
   "source": [
    "# Create 3 folds: fit premier models, train secondary model, test secondary model\n",
    "fold_values = ID_a.fold.unique().tolist()\n",
    "np.random.shuffle(fold_values)\n",
    "values_for_premier_model_fits = fold_values[0:2]\n",
    "values_for_secondary_model_train = fold_values[2:4]\n",
    "values_for_secondary_model_test = fold_values[4]\n",
    "\n",
    "is_premier_model_fits    = np.isin(element=ID_a.fold.values, test_elements=values_for_premier_model_fits)\n",
    "is_secondary_model_test  = np.isin(element=ID_a.fold.values, test_elements=values_for_secondary_model_test)\n",
    "is_secondary_model_train = np.isin(element=ID_a.fold.values, test_elements=values_for_secondary_model_train)\n",
    "\n",
    "frames = [\n",
    "    pd.DataFrame({'name':'premier_model_fits', 'fold':values_for_premier_model_fits}),\n",
    "    pd.DataFrame({'name':'secondary_model_train', 'fold':values_for_secondary_model_train}),\n",
    "    pd.DataFrame({'name':'secondary_model_test', 'fold':[values_for_secondary_model_test]})\n",
    "]\n",
    "SplitCharacteristics = pd.concat(frames, ignore_index=True)\n",
    "SplitCharacteristics"
   ]
  },
  {
   "cell_type": "code",
   "execution_count": 13,
   "id": "16ad9731-16b8-4e1b-88c8-d9db5b6c6cc1",
   "metadata": {},
   "outputs": [],
   "source": [
    "YPremierModelFits = Y_a.loc[is_premier_model_fits]\n",
    "\n",
    "YSecondaryModelTrain = Y_a.loc[is_secondary_model_train]\n",
    "YSecondaryModelTest = Y_a.loc[is_secondary_model_test]"
   ]
  },
  {
   "cell_type": "code",
   "execution_count": 14,
   "id": "fa4390a3-5219-4c79-87f6-10fb5e9b9b2a",
   "metadata": {},
   "outputs": [],
   "source": [
    "# Model A Premier Model, clean X\n",
    "\n",
    "XAPremierModelFits    = X_a.loc[is_premier_model_fits]\n",
    "XASecondaryModelTrain = X_a.loc[is_secondary_model_train]\n",
    "XASecondaryModelTest  = X_a.loc[is_secondary_model_test]\n",
    "\n",
    "standard_scaler_a = StandardScaler()\n",
    "standard_scaler_a = standard_scaler_a.fit(XAPremierModelFits)\n",
    "\n",
    "XAPremierModelFits    = prep_x(fit_scaler=standard_scaler_a, X=XAPremierModelFits)\n",
    "XASecondaryModelTrain = prep_x(fit_scaler=standard_scaler_a, X=XASecondaryModelTrain)\n",
    "XASecondaryModelTest  = prep_x(fit_scaler=standard_scaler_a, X=XASecondaryModelTest)"
   ]
  },
  {
   "cell_type": "markdown",
   "id": "73a4be3a-aff1-4bba-be4d-8cc0d467b00f",
   "metadata": {},
   "source": [
    "## ANN A"
   ]
  },
  {
   "cell_type": "code",
   "execution_count": 15,
   "id": "0b6d3dd1-70ca-47c4-88ea-698c3f4aa422",
   "metadata": {
    "scrolled": true
   },
   "outputs": [
    {
     "name": "stdout",
     "output_type": "stream",
     "text": [
      "Epoch 1/20\n",
      "\u001b[1m18504/19809\u001b[0m \u001b[32m━━━━━━━━━━━━━━━━━━\u001b[0m\u001b[37m━━\u001b[0m \u001b[1m0s\u001b[0m 407us/step - auc: 0.8713 - binary_accuracy: 0.9992 - binary_crossentropy: 0.0064 - loss: 0.0064"
     ]
    },
    {
     "ename": "KeyboardInterrupt",
     "evalue": "",
     "output_type": "error",
     "traceback": [
      "\u001b[0;31m---------------------------------------------------------------------------\u001b[0m",
      "\u001b[0;31mKeyboardInterrupt\u001b[0m                         Traceback (most recent call last)",
      "Cell \u001b[0;32mIn[15], line 18\u001b[0m\n\u001b[1;32m      7\u001b[0m model_a_ann\u001b[38;5;241m.\u001b[39madd(layers\u001b[38;5;241m.\u001b[39mDense(\u001b[38;5;241m1\u001b[39m, activation\u001b[38;5;241m=\u001b[39m\u001b[38;5;124m'\u001b[39m\u001b[38;5;124msigmoid\u001b[39m\u001b[38;5;124m'\u001b[39m))\n\u001b[1;32m      9\u001b[0m model_a_ann\u001b[38;5;241m.\u001b[39mcompile(\n\u001b[1;32m     10\u001b[0m     loss\u001b[38;5;241m=\u001b[39mlosses\u001b[38;5;241m.\u001b[39mBinaryCrossentropy(),\n\u001b[1;32m     11\u001b[0m     metrics\u001b[38;5;241m=\u001b[39m[\n\u001b[0;32m   (...)\u001b[0m\n\u001b[1;32m     15\u001b[0m     ]\n\u001b[1;32m     16\u001b[0m )\n\u001b[0;32m---> 18\u001b[0m history_a_ann \u001b[38;5;241m=\u001b[39m model_a_ann\u001b[38;5;241m.\u001b[39mfit(\n\u001b[1;32m     19\u001b[0m     convert_to_tensor(XAPremierModelFits), YPremierModelFits, epochs\u001b[38;5;241m=\u001b[39m\u001b[38;5;28mint\u001b[39m(params_a_ann[\u001b[38;5;124m'\u001b[39m\u001b[38;5;124mepochs\u001b[39m\u001b[38;5;124m'\u001b[39m]), batch_size\u001b[38;5;241m=\u001b[39m\u001b[38;5;241m128\u001b[39m,\n\u001b[1;32m     20\u001b[0m     verbose\u001b[38;5;241m=\u001b[39m\u001b[38;5;241m1\u001b[39m\n\u001b[1;32m     21\u001b[0m )\n",
      "File \u001b[0;32m/opt/miniconda3/lib/python3.12/site-packages/keras/src/utils/traceback_utils.py:117\u001b[0m, in \u001b[0;36mfilter_traceback.<locals>.error_handler\u001b[0;34m(*args, **kwargs)\u001b[0m\n\u001b[1;32m    115\u001b[0m filtered_tb \u001b[38;5;241m=\u001b[39m \u001b[38;5;28;01mNone\u001b[39;00m\n\u001b[1;32m    116\u001b[0m \u001b[38;5;28;01mtry\u001b[39;00m:\n\u001b[0;32m--> 117\u001b[0m     \u001b[38;5;28;01mreturn\u001b[39;00m fn(\u001b[38;5;241m*\u001b[39margs, \u001b[38;5;241m*\u001b[39m\u001b[38;5;241m*\u001b[39mkwargs)\n\u001b[1;32m    118\u001b[0m \u001b[38;5;28;01mexcept\u001b[39;00m \u001b[38;5;167;01mException\u001b[39;00m \u001b[38;5;28;01mas\u001b[39;00m e:\n\u001b[1;32m    119\u001b[0m     filtered_tb \u001b[38;5;241m=\u001b[39m _process_traceback_frames(e\u001b[38;5;241m.\u001b[39m__traceback__)\n",
      "File \u001b[0;32m/opt/miniconda3/lib/python3.12/site-packages/keras/src/backend/tensorflow/trainer.py:314\u001b[0m, in \u001b[0;36mTensorFlowTrainer.fit\u001b[0;34m(self, x, y, batch_size, epochs, verbose, callbacks, validation_split, validation_data, shuffle, class_weight, sample_weight, initial_epoch, steps_per_epoch, validation_steps, validation_batch_size, validation_freq)\u001b[0m\n\u001b[1;32m    312\u001b[0m \u001b[38;5;28;01mfor\u001b[39;00m step, iterator \u001b[38;5;129;01min\u001b[39;00m epoch_iterator\u001b[38;5;241m.\u001b[39menumerate_epoch():\n\u001b[1;32m    313\u001b[0m     callbacks\u001b[38;5;241m.\u001b[39mon_train_batch_begin(step)\n\u001b[0;32m--> 314\u001b[0m     logs \u001b[38;5;241m=\u001b[39m \u001b[38;5;28mself\u001b[39m\u001b[38;5;241m.\u001b[39mtrain_function(iterator)\n\u001b[1;32m    315\u001b[0m     logs \u001b[38;5;241m=\u001b[39m \u001b[38;5;28mself\u001b[39m\u001b[38;5;241m.\u001b[39m_pythonify_logs(logs)\n\u001b[1;32m    316\u001b[0m     callbacks\u001b[38;5;241m.\u001b[39mon_train_batch_end(step, logs)\n",
      "File \u001b[0;32m/opt/miniconda3/lib/python3.12/site-packages/tensorflow/python/util/traceback_utils.py:150\u001b[0m, in \u001b[0;36mfilter_traceback.<locals>.error_handler\u001b[0;34m(*args, **kwargs)\u001b[0m\n\u001b[1;32m    148\u001b[0m filtered_tb \u001b[38;5;241m=\u001b[39m \u001b[38;5;28;01mNone\u001b[39;00m\n\u001b[1;32m    149\u001b[0m \u001b[38;5;28;01mtry\u001b[39;00m:\n\u001b[0;32m--> 150\u001b[0m   \u001b[38;5;28;01mreturn\u001b[39;00m fn(\u001b[38;5;241m*\u001b[39margs, \u001b[38;5;241m*\u001b[39m\u001b[38;5;241m*\u001b[39mkwargs)\n\u001b[1;32m    151\u001b[0m \u001b[38;5;28;01mexcept\u001b[39;00m \u001b[38;5;167;01mException\u001b[39;00m \u001b[38;5;28;01mas\u001b[39;00m e:\n\u001b[1;32m    152\u001b[0m   filtered_tb \u001b[38;5;241m=\u001b[39m _process_traceback_frames(e\u001b[38;5;241m.\u001b[39m__traceback__)\n",
      "File \u001b[0;32m/opt/miniconda3/lib/python3.12/site-packages/tensorflow/python/eager/polymorphic_function/polymorphic_function.py:833\u001b[0m, in \u001b[0;36mFunction.__call__\u001b[0;34m(self, *args, **kwds)\u001b[0m\n\u001b[1;32m    830\u001b[0m compiler \u001b[38;5;241m=\u001b[39m \u001b[38;5;124m\"\u001b[39m\u001b[38;5;124mxla\u001b[39m\u001b[38;5;124m\"\u001b[39m \u001b[38;5;28;01mif\u001b[39;00m \u001b[38;5;28mself\u001b[39m\u001b[38;5;241m.\u001b[39m_jit_compile \u001b[38;5;28;01melse\u001b[39;00m \u001b[38;5;124m\"\u001b[39m\u001b[38;5;124mnonXla\u001b[39m\u001b[38;5;124m\"\u001b[39m\n\u001b[1;32m    832\u001b[0m \u001b[38;5;28;01mwith\u001b[39;00m OptionalXlaContext(\u001b[38;5;28mself\u001b[39m\u001b[38;5;241m.\u001b[39m_jit_compile):\n\u001b[0;32m--> 833\u001b[0m   result \u001b[38;5;241m=\u001b[39m \u001b[38;5;28mself\u001b[39m\u001b[38;5;241m.\u001b[39m_call(\u001b[38;5;241m*\u001b[39margs, \u001b[38;5;241m*\u001b[39m\u001b[38;5;241m*\u001b[39mkwds)\n\u001b[1;32m    835\u001b[0m new_tracing_count \u001b[38;5;241m=\u001b[39m \u001b[38;5;28mself\u001b[39m\u001b[38;5;241m.\u001b[39mexperimental_get_tracing_count()\n\u001b[1;32m    836\u001b[0m without_tracing \u001b[38;5;241m=\u001b[39m (tracing_count \u001b[38;5;241m==\u001b[39m new_tracing_count)\n",
      "File \u001b[0;32m/opt/miniconda3/lib/python3.12/site-packages/tensorflow/python/eager/polymorphic_function/polymorphic_function.py:878\u001b[0m, in \u001b[0;36mFunction._call\u001b[0;34m(self, *args, **kwds)\u001b[0m\n\u001b[1;32m    875\u001b[0m \u001b[38;5;28mself\u001b[39m\u001b[38;5;241m.\u001b[39m_lock\u001b[38;5;241m.\u001b[39mrelease()\n\u001b[1;32m    876\u001b[0m \u001b[38;5;66;03m# In this case we have not created variables on the first call. So we can\u001b[39;00m\n\u001b[1;32m    877\u001b[0m \u001b[38;5;66;03m# run the first trace but we should fail if variables are created.\u001b[39;00m\n\u001b[0;32m--> 878\u001b[0m results \u001b[38;5;241m=\u001b[39m tracing_compilation\u001b[38;5;241m.\u001b[39mcall_function(\n\u001b[1;32m    879\u001b[0m     args, kwds, \u001b[38;5;28mself\u001b[39m\u001b[38;5;241m.\u001b[39m_variable_creation_config\n\u001b[1;32m    880\u001b[0m )\n\u001b[1;32m    881\u001b[0m \u001b[38;5;28;01mif\u001b[39;00m \u001b[38;5;28mself\u001b[39m\u001b[38;5;241m.\u001b[39m_created_variables:\n\u001b[1;32m    882\u001b[0m   \u001b[38;5;28;01mraise\u001b[39;00m \u001b[38;5;167;01mValueError\u001b[39;00m(\u001b[38;5;124m\"\u001b[39m\u001b[38;5;124mCreating variables on a non-first call to a function\u001b[39m\u001b[38;5;124m\"\u001b[39m\n\u001b[1;32m    883\u001b[0m                    \u001b[38;5;124m\"\u001b[39m\u001b[38;5;124m decorated with tf.function.\u001b[39m\u001b[38;5;124m\"\u001b[39m)\n",
      "File \u001b[0;32m/opt/miniconda3/lib/python3.12/site-packages/tensorflow/python/eager/polymorphic_function/tracing_compilation.py:139\u001b[0m, in \u001b[0;36mcall_function\u001b[0;34m(args, kwargs, tracing_options)\u001b[0m\n\u001b[1;32m    137\u001b[0m bound_args \u001b[38;5;241m=\u001b[39m function\u001b[38;5;241m.\u001b[39mfunction_type\u001b[38;5;241m.\u001b[39mbind(\u001b[38;5;241m*\u001b[39margs, \u001b[38;5;241m*\u001b[39m\u001b[38;5;241m*\u001b[39mkwargs)\n\u001b[1;32m    138\u001b[0m flat_inputs \u001b[38;5;241m=\u001b[39m function\u001b[38;5;241m.\u001b[39mfunction_type\u001b[38;5;241m.\u001b[39munpack_inputs(bound_args)\n\u001b[0;32m--> 139\u001b[0m \u001b[38;5;28;01mreturn\u001b[39;00m function\u001b[38;5;241m.\u001b[39m_call_flat(  \u001b[38;5;66;03m# pylint: disable=protected-access\u001b[39;00m\n\u001b[1;32m    140\u001b[0m     flat_inputs, captured_inputs\u001b[38;5;241m=\u001b[39mfunction\u001b[38;5;241m.\u001b[39mcaptured_inputs\n\u001b[1;32m    141\u001b[0m )\n",
      "File \u001b[0;32m/opt/miniconda3/lib/python3.12/site-packages/tensorflow/python/eager/polymorphic_function/concrete_function.py:1322\u001b[0m, in \u001b[0;36mConcreteFunction._call_flat\u001b[0;34m(self, tensor_inputs, captured_inputs)\u001b[0m\n\u001b[1;32m   1318\u001b[0m possible_gradient_type \u001b[38;5;241m=\u001b[39m gradients_util\u001b[38;5;241m.\u001b[39mPossibleTapeGradientTypes(args)\n\u001b[1;32m   1319\u001b[0m \u001b[38;5;28;01mif\u001b[39;00m (possible_gradient_type \u001b[38;5;241m==\u001b[39m gradients_util\u001b[38;5;241m.\u001b[39mPOSSIBLE_GRADIENT_TYPES_NONE\n\u001b[1;32m   1320\u001b[0m     \u001b[38;5;129;01mand\u001b[39;00m executing_eagerly):\n\u001b[1;32m   1321\u001b[0m   \u001b[38;5;66;03m# No tape is watching; skip to running the function.\u001b[39;00m\n\u001b[0;32m-> 1322\u001b[0m   \u001b[38;5;28;01mreturn\u001b[39;00m \u001b[38;5;28mself\u001b[39m\u001b[38;5;241m.\u001b[39m_inference_function\u001b[38;5;241m.\u001b[39mcall_preflattened(args)\n\u001b[1;32m   1323\u001b[0m forward_backward \u001b[38;5;241m=\u001b[39m \u001b[38;5;28mself\u001b[39m\u001b[38;5;241m.\u001b[39m_select_forward_and_backward_functions(\n\u001b[1;32m   1324\u001b[0m     args,\n\u001b[1;32m   1325\u001b[0m     possible_gradient_type,\n\u001b[1;32m   1326\u001b[0m     executing_eagerly)\n\u001b[1;32m   1327\u001b[0m forward_function, args_with_tangents \u001b[38;5;241m=\u001b[39m forward_backward\u001b[38;5;241m.\u001b[39mforward()\n",
      "File \u001b[0;32m/opt/miniconda3/lib/python3.12/site-packages/tensorflow/python/eager/polymorphic_function/atomic_function.py:216\u001b[0m, in \u001b[0;36mAtomicFunction.call_preflattened\u001b[0;34m(self, args)\u001b[0m\n\u001b[1;32m    214\u001b[0m \u001b[38;5;28;01mdef\u001b[39;00m \u001b[38;5;21mcall_preflattened\u001b[39m(\u001b[38;5;28mself\u001b[39m, args: Sequence[core\u001b[38;5;241m.\u001b[39mTensor]) \u001b[38;5;241m-\u001b[39m\u001b[38;5;241m>\u001b[39m Any:\n\u001b[1;32m    215\u001b[0m \u001b[38;5;250m  \u001b[39m\u001b[38;5;124;03m\"\"\"Calls with flattened tensor inputs and returns the structured output.\"\"\"\u001b[39;00m\n\u001b[0;32m--> 216\u001b[0m   flat_outputs \u001b[38;5;241m=\u001b[39m \u001b[38;5;28mself\u001b[39m\u001b[38;5;241m.\u001b[39mcall_flat(\u001b[38;5;241m*\u001b[39margs)\n\u001b[1;32m    217\u001b[0m   \u001b[38;5;28;01mreturn\u001b[39;00m \u001b[38;5;28mself\u001b[39m\u001b[38;5;241m.\u001b[39mfunction_type\u001b[38;5;241m.\u001b[39mpack_output(flat_outputs)\n",
      "File \u001b[0;32m/opt/miniconda3/lib/python3.12/site-packages/tensorflow/python/eager/polymorphic_function/atomic_function.py:251\u001b[0m, in \u001b[0;36mAtomicFunction.call_flat\u001b[0;34m(self, *args)\u001b[0m\n\u001b[1;32m    249\u001b[0m \u001b[38;5;28;01mwith\u001b[39;00m record\u001b[38;5;241m.\u001b[39mstop_recording():\n\u001b[1;32m    250\u001b[0m   \u001b[38;5;28;01mif\u001b[39;00m \u001b[38;5;28mself\u001b[39m\u001b[38;5;241m.\u001b[39m_bound_context\u001b[38;5;241m.\u001b[39mexecuting_eagerly():\n\u001b[0;32m--> 251\u001b[0m     outputs \u001b[38;5;241m=\u001b[39m \u001b[38;5;28mself\u001b[39m\u001b[38;5;241m.\u001b[39m_bound_context\u001b[38;5;241m.\u001b[39mcall_function(\n\u001b[1;32m    252\u001b[0m         \u001b[38;5;28mself\u001b[39m\u001b[38;5;241m.\u001b[39mname,\n\u001b[1;32m    253\u001b[0m         \u001b[38;5;28mlist\u001b[39m(args),\n\u001b[1;32m    254\u001b[0m         \u001b[38;5;28mlen\u001b[39m(\u001b[38;5;28mself\u001b[39m\u001b[38;5;241m.\u001b[39mfunction_type\u001b[38;5;241m.\u001b[39mflat_outputs),\n\u001b[1;32m    255\u001b[0m     )\n\u001b[1;32m    256\u001b[0m   \u001b[38;5;28;01melse\u001b[39;00m:\n\u001b[1;32m    257\u001b[0m     outputs \u001b[38;5;241m=\u001b[39m make_call_op_in_graph(\n\u001b[1;32m    258\u001b[0m         \u001b[38;5;28mself\u001b[39m,\n\u001b[1;32m    259\u001b[0m         \u001b[38;5;28mlist\u001b[39m(args),\n\u001b[1;32m    260\u001b[0m         \u001b[38;5;28mself\u001b[39m\u001b[38;5;241m.\u001b[39m_bound_context\u001b[38;5;241m.\u001b[39mfunction_call_options\u001b[38;5;241m.\u001b[39mas_attrs(),\n\u001b[1;32m    261\u001b[0m     )\n",
      "File \u001b[0;32m/opt/miniconda3/lib/python3.12/site-packages/tensorflow/python/eager/context.py:1500\u001b[0m, in \u001b[0;36mContext.call_function\u001b[0;34m(self, name, tensor_inputs, num_outputs)\u001b[0m\n\u001b[1;32m   1498\u001b[0m cancellation_context \u001b[38;5;241m=\u001b[39m cancellation\u001b[38;5;241m.\u001b[39mcontext()\n\u001b[1;32m   1499\u001b[0m \u001b[38;5;28;01mif\u001b[39;00m cancellation_context \u001b[38;5;129;01mis\u001b[39;00m \u001b[38;5;28;01mNone\u001b[39;00m:\n\u001b[0;32m-> 1500\u001b[0m   outputs \u001b[38;5;241m=\u001b[39m execute\u001b[38;5;241m.\u001b[39mexecute(\n\u001b[1;32m   1501\u001b[0m       name\u001b[38;5;241m.\u001b[39mdecode(\u001b[38;5;124m\"\u001b[39m\u001b[38;5;124mutf-8\u001b[39m\u001b[38;5;124m\"\u001b[39m),\n\u001b[1;32m   1502\u001b[0m       num_outputs\u001b[38;5;241m=\u001b[39mnum_outputs,\n\u001b[1;32m   1503\u001b[0m       inputs\u001b[38;5;241m=\u001b[39mtensor_inputs,\n\u001b[1;32m   1504\u001b[0m       attrs\u001b[38;5;241m=\u001b[39mattrs,\n\u001b[1;32m   1505\u001b[0m       ctx\u001b[38;5;241m=\u001b[39m\u001b[38;5;28mself\u001b[39m,\n\u001b[1;32m   1506\u001b[0m   )\n\u001b[1;32m   1507\u001b[0m \u001b[38;5;28;01melse\u001b[39;00m:\n\u001b[1;32m   1508\u001b[0m   outputs \u001b[38;5;241m=\u001b[39m execute\u001b[38;5;241m.\u001b[39mexecute_with_cancellation(\n\u001b[1;32m   1509\u001b[0m       name\u001b[38;5;241m.\u001b[39mdecode(\u001b[38;5;124m\"\u001b[39m\u001b[38;5;124mutf-8\u001b[39m\u001b[38;5;124m\"\u001b[39m),\n\u001b[1;32m   1510\u001b[0m       num_outputs\u001b[38;5;241m=\u001b[39mnum_outputs,\n\u001b[0;32m   (...)\u001b[0m\n\u001b[1;32m   1514\u001b[0m       cancellation_manager\u001b[38;5;241m=\u001b[39mcancellation_context,\n\u001b[1;32m   1515\u001b[0m   )\n",
      "File \u001b[0;32m/opt/miniconda3/lib/python3.12/site-packages/tensorflow/python/eager/execute.py:53\u001b[0m, in \u001b[0;36mquick_execute\u001b[0;34m(op_name, num_outputs, inputs, attrs, ctx, name)\u001b[0m\n\u001b[1;32m     51\u001b[0m \u001b[38;5;28;01mtry\u001b[39;00m:\n\u001b[1;32m     52\u001b[0m   ctx\u001b[38;5;241m.\u001b[39mensure_initialized()\n\u001b[0;32m---> 53\u001b[0m   tensors \u001b[38;5;241m=\u001b[39m pywrap_tfe\u001b[38;5;241m.\u001b[39mTFE_Py_Execute(ctx\u001b[38;5;241m.\u001b[39m_handle, device_name, op_name,\n\u001b[1;32m     54\u001b[0m                                       inputs, attrs, num_outputs)\n\u001b[1;32m     55\u001b[0m \u001b[38;5;28;01mexcept\u001b[39;00m core\u001b[38;5;241m.\u001b[39m_NotOkStatusException \u001b[38;5;28;01mas\u001b[39;00m e:\n\u001b[1;32m     56\u001b[0m   \u001b[38;5;28;01mif\u001b[39;00m name \u001b[38;5;129;01mis\u001b[39;00m \u001b[38;5;129;01mnot\u001b[39;00m \u001b[38;5;28;01mNone\u001b[39;00m:\n",
      "\u001b[0;31mKeyboardInterrupt\u001b[0m: "
     ]
    }
   ],
   "source": [
    "clear_session()\n",
    "model_a_ann = models.Sequential()\n",
    "model_a_ann.add(layers.Dropout(rate=params_a_ann[\"dropout_1\"]))\n",
    "model_a_ann.add(layers.Dense(units=int(params_a_ann[\"relu_1\"]), activation='relu'))    \n",
    "model_a_ann.add(layers.Dropout(rate=params_a_ann[\"dropout_2\"]))\n",
    "model_a_ann.add(layers.Dense(units=int(params_a_ann[\"relu_2\"]), activation='relu'))   \n",
    "model_a_ann.add(layers.Dense(1, activation='sigmoid'))\n",
    "\n",
    "model_a_ann.compile(\n",
    "    loss=losses.BinaryCrossentropy(),\n",
    "    metrics=[\n",
    "        metrics.BinaryCrossentropy(),\n",
    "        metrics.BinaryAccuracy(), \n",
    "        metrics.AUC()\n",
    "    ]\n",
    ")\n",
    "    \n",
    "history_a_ann = model_a_ann.fit(\n",
    "    convert_to_tensor(XAPremierModelFits), YPremierModelFits, epochs=int(params_a_ann['epochs']), batch_size=128,\n",
    "    verbose=1\n",
    ")"
   ]
  },
  {
   "cell_type": "markdown",
   "id": "5317527f-f022-45f2-83d5-ecc69970b417",
   "metadata": {},
   "source": [
    "## GBM A"
   ]
  },
  {
   "cell_type": "code",
   "execution_count": null,
   "id": "1a38062d-2b3a-4fdb-824a-52a2dd7afe12",
   "metadata": {},
   "outputs": [],
   "source": [
    "train_set = lgb.Dataset(XAPremierModelFits, YPremierModelFits)\n",
    "model_a_gbm = lgb.train(\n",
    "        params = params_a_gbm,\n",
    "        train_set=train_set   \n",
    "    )"
   ]
  },
  {
   "cell_type": "markdown",
   "id": "02e03bc8-b8cd-45ae-98d3-3314481fe919",
   "metadata": {},
   "source": [
    "# Model B"
   ]
  },
  {
   "cell_type": "code",
   "execution_count": null,
   "id": "252013f6-b083-4b52-a934-7eb2179c4b1e",
   "metadata": {},
   "outputs": [],
   "source": [
    "# Model B- data prep\n",
    "\n",
    "X_b = pd.read_parquet(fn_x_b)\n",
    "Y_b = pd.read_parquet(fn_y_b)\n",
    "ID_b = pd.read_parquet(fn_id_b)\n",
    "\n",
    "XBPremierModelFits = X_b.loc[is_premier_model_fits]\n",
    "XBSecondaryModelTest = X_b.loc[is_secondary_model_test]\n",
    "XBSecondaryModelTrain = X_b.loc[is_secondary_model_train]"
   ]
  },
  {
   "cell_type": "code",
   "execution_count": null,
   "id": "1b0af1c1-c42d-4d33-9a6f-ff9c673a17ea",
   "metadata": {},
   "outputs": [],
   "source": [
    "# Model B Premier Model, clean X\n",
    "\n",
    "XBPremierModelFits    = X_b.loc[is_premier_model_fits]\n",
    "XBSecondaryModelTrain = X_b.loc[is_secondary_model_train]\n",
    "XBSecondaryModelTest  = X_b.loc[is_secondary_model_test]\n",
    "\n",
    "standard_scaler_b = StandardScaler()\n",
    "standard_scaler_b = standard_scaler_b.fit(XBPremierModelFits)\n",
    "\n",
    "XBPremierModelFits    = prep_x(fit_scaler=standard_scaler_b, X=XBPremierModelFits)\n",
    "XBSecondaryModelTrain = prep_x(fit_scaler=standard_scaler_b, X=XBSecondaryModelTrain)\n",
    "XBSecondaryModelTest  = prep_x(fit_scaler=standard_scaler_b, X=XBSecondaryModelTest)"
   ]
  },
  {
   "cell_type": "markdown",
   "id": "cc5f3cd2-8cc4-4c68-b787-0c05c9b22f91",
   "metadata": {},
   "source": [
    "## ANN B"
   ]
  },
  {
   "cell_type": "code",
   "execution_count": null,
   "id": "ac25a41a-3dd8-44e8-909a-bc632b923013",
   "metadata": {
    "scrolled": true
   },
   "outputs": [],
   "source": [
    "clear_session()\n",
    "model_b_ann = models.Sequential()\n",
    "model_b_ann.add(layers.Dropout(rate=params_b_ann[\"dropout_1\"]))\n",
    "model_b_ann.add(layers.Dense(units=int(params_b_ann[\"relu_1\"]), activation='relu'))    \n",
    "model_b_ann.add(layers.Dropout(rate=params_b_ann[\"dropout_2\"]))\n",
    "model_b_ann.add(layers.Dense(units=int(params_b_ann[\"relu_2\"]), activation='relu'))   \n",
    "model_b_ann.add(layers.Dense(1, activation='sigmoid'))\n",
    "\n",
    "model_b_ann.compile(\n",
    "    loss=losses.BinaryCrossentropy(),\n",
    "    metrics=[\n",
    "        metrics.BinaryCrossentropy(),\n",
    "        metrics.BinaryAccuracy(), \n",
    "        metrics.AUC()\n",
    "    ]\n",
    ")\n",
    "    \n",
    "history_b_ann = model_b_ann.fit(\n",
    "    convert_to_tensor(XBPremierModelFits), YPremierModelFits, epochs=int(params_b_ann['epochs']), batch_size=128,\n",
    "    verbose=1\n",
    ")"
   ]
  },
  {
   "cell_type": "markdown",
   "id": "28ac7156-ca4d-4e4d-b755-240907228d47",
   "metadata": {},
   "source": [
    "## GBM B"
   ]
  },
  {
   "cell_type": "code",
   "execution_count": null,
   "id": "3fc378bf-06d0-4753-b1ed-e38dc746b20a",
   "metadata": {},
   "outputs": [],
   "source": [
    "train_set = lgb.Dataset(XBPremierModelFits, YPremierModelFits)\n",
    "model_b_gbm = lgb.train(\n",
    "        params = params_b_gbm,\n",
    "        train_set=train_set   \n",
    "    )"
   ]
  },
  {
   "cell_type": "markdown",
   "id": "653c193b-033b-4be9-92e0-f08d8bf11d88",
   "metadata": {},
   "source": [
    "# Save data to temporary folder"
   ]
  },
  {
   "cell_type": "code",
   "execution_count": null,
   "id": "f39aa997-0f28-4b00-8e10-86079b17b5b2",
   "metadata": {},
   "outputs": [],
   "source": [
    "# Write models, split characteristics to disk\n",
    "\n",
    "SplitCharacteristics.to_csv(fn_split_characteristics)\n",
    "model_a_ann.save(filepath=fn_model_a_ann)\n",
    "model_b_ann.save(filepath=fn_model_b_ann)\n",
    "model_a_gbm.save_model(fn_model_a_gbm)\n",
    "model_b_gbm.save_model(fn_model_b_gbm)"
   ]
  },
  {
   "cell_type": "code",
   "execution_count": null,
   "id": "e08f4e78-a9c4-4c49-b888-429228c2e537",
   "metadata": {},
   "outputs": [],
   "source": [
    "y_fit_train_a_ann = model_a_ann.predict(convert_to_tensor(XASecondaryModelTrain))\n",
    "y_fit_train_b_ann = model_b_ann.predict(convert_to_tensor(XBSecondaryModelTrain))\n",
    "\n",
    "y_fit_test_a_ann = model_a_ann.predict(convert_to_tensor(XASecondaryModelTest))\n",
    "y_fit_test_b_ann = model_b_ann.predict(convert_to_tensor(XBSecondaryModelTest))"
   ]
  },
  {
   "cell_type": "code",
   "execution_count": null,
   "id": "fea552c2-b69f-4210-8c77-e540f2bb80ae",
   "metadata": {},
   "outputs": [],
   "source": [
    "y_fit_train_a_gbm = model_a_gbm.predict(XASecondaryModelTrain)\n",
    "y_fit_train_b_gbm = model_b_gbm.predict(XBSecondaryModelTrain)\n",
    "\n",
    "y_fit_test_a_gbm = model_a_gbm.predict(XASecondaryModelTest)\n",
    "y_fit_test_b_gbm = model_b_gbm.predict(XBSecondaryModelTest)"
   ]
  },
  {
   "cell_type": "code",
   "execution_count": null,
   "id": "10d422a6-1414-419d-8245-d130811c2dc7",
   "metadata": {},
   "outputs": [],
   "source": [
    "XSecondaryModelTrain = np.hstack([\n",
    "    XASecondaryModelTrain, \n",
    "    XBSecondaryModelTrain,\n",
    "    \n",
    "    add_grouped_rank_to_y_fit(ID=ID_a, mask=is_secondary_model_train, y_fit=y_fit_train_a_ann),\n",
    "    add_grouped_rank_to_y_fit(ID=ID_a, mask=is_secondary_model_train, y_fit=y_fit_train_a_gbm),\n",
    "    \n",
    "    add_grouped_rank_to_y_fit(ID=ID_b, mask=is_secondary_model_train, y_fit=y_fit_train_b_ann),\n",
    "    add_grouped_rank_to_y_fit(ID=ID_b, mask=is_secondary_model_train, y_fit=y_fit_train_b_gbm),\n",
    "\n",
    "])"
   ]
  },
  {
   "cell_type": "code",
   "execution_count": null,
   "id": "1b79efa4-6fa7-4c29-87e7-6d4fbab5df53",
   "metadata": {},
   "outputs": [],
   "source": [
    "XSecondaryModelTest = np.hstack([\n",
    "    XASecondaryModelTest, \n",
    "    XBSecondaryModelTest,\n",
    "    \n",
    "    add_grouped_rank_to_y_fit(ID=ID_a, mask=is_secondary_model_test, y_fit=y_fit_test_a_ann),\n",
    "    add_grouped_rank_to_y_fit(ID=ID_a, mask=is_secondary_model_test, y_fit=y_fit_test_a_gbm),\n",
    "    \n",
    "    add_grouped_rank_to_y_fit(ID=ID_b, mask=is_secondary_model_test, y_fit=y_fit_test_b_ann),\n",
    "    add_grouped_rank_to_y_fit(ID=ID_b, mask=is_secondary_model_test, y_fit=y_fit_test_b_gbm),\n",
    "\n",
    "])"
   ]
  },
  {
   "cell_type": "code",
   "execution_count": null,
   "id": "5b8b1e23-cf73-44a8-a536-6c9d98531fdc",
   "metadata": {},
   "outputs": [],
   "source": [
    "# XSecondaryModelTrain = np.hstack([\n",
    "#     XASecondaryModelTrain, \n",
    "#     XBSecondaryModelTrain,\n",
    "    \n",
    "#     y_fit_train_a_ann,\n",
    "#     np.array( [get_dense_desc_rank( y_fit_train_a_ann )] ).T,\n",
    "    \n",
    "#     y_fit_train_b_ann,\n",
    "#     np.array( [get_dense_desc_rank( y_fit_train_b_ann )] ).T,\n",
    "\n",
    "#     np.array([y_fit_train_a_gbm]).T,\n",
    "#     np.array( [get_dense_desc_rank( y_fit_train_a_gbm )] ).T,\n",
    "\n",
    "#     np.array([y_fit_train_b_gbm]).T,\n",
    "#     np.array( [get_dense_desc_rank( y_fit_train_b_gbm )] ).T\n",
    "# ])"
   ]
  },
  {
   "cell_type": "code",
   "execution_count": null,
   "id": "2337145c-256b-4bee-9be7-454fc6809292",
   "metadata": {},
   "outputs": [],
   "source": [
    "# XSecondaryModelTest = np.hstack([\n",
    "#     XASecondaryModelTest, \n",
    "#     XBSecondaryModelTest,\n",
    "    \n",
    "#     y_fit_test_a_ann,\n",
    "#     np.array( [get_dense_desc_rank( y_fit_test_a_ann )] ).T,\n",
    "    \n",
    "#     y_fit_test_b_ann,\n",
    "#     np.array( [get_dense_desc_rank( y_fit_test_b_ann )] ).T,\n",
    "\n",
    "#     np.array([y_fit_test_a_gbm]).T,\n",
    "#     np.array( [get_dense_desc_rank( y_fit_test_a_gbm )] ).T,\n",
    "\n",
    "#     np.array([y_fit_test_b_gbm]).T,\n",
    "#     np.array( [get_dense_desc_rank( y_fit_test_b_gbm )] ).T\n",
    "# ])"
   ]
  },
  {
   "cell_type": "code",
   "execution_count": null,
   "id": "cbeabc77-c031-4ec8-b981-383e770d9d33",
   "metadata": {},
   "outputs": [],
   "source": [
    "# Write tables to disk\n",
    "YSecondaryModelTrain.to_parquet(fn_y_train)\n",
    "YSecondaryModelTest.to_parquet(fn_y_test)\n",
    "\n",
    "pd.DataFrame(XSecondaryModelTrain).to_parquet(fn_x_train)\n",
    "pd.DataFrame(XSecondaryModelTest).to_parquet(fn_x_test)"
   ]
  },
  {
   "cell_type": "code",
   "execution_count": null,
   "id": "c00e496c-a4d5-47c5-b840-f01d12c6e38e",
   "metadata": {},
   "outputs": [],
   "source": []
  }
 ],
 "metadata": {
  "kernelspec": {
   "display_name": "Python 3 (ipykernel)",
   "language": "python",
   "name": "python3"
  },
  "language_info": {
   "codemirror_mode": {
    "name": "ipython",
    "version": 3
   },
   "file_extension": ".py",
   "mimetype": "text/x-python",
   "name": "python",
   "nbconvert_exporter": "python",
   "pygments_lexer": "ipython3",
   "version": "3.12.2"
  }
 },
 "nbformat": 4,
 "nbformat_minor": 5
}
