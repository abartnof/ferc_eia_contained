{
 "cells": [
  {
   "cell_type": "code",
   "execution_count": 10,
   "id": "d2f4fe6b-9cff-429a-b452-ea2e869a2321",
   "metadata": {},
   "outputs": [],
   "source": [
    "import pandas as pd\n",
    "import numpy as np\n",
    "# from glob import glob\n",
    "import os, re\n",
    "\n",
    "# from keras import models, layers, regularizers, optimizers, callbacks, utils, losses, metrics\n",
    "# from tensorflow.keras.backend import clear_session\n",
    "# from tensorflow import convert_to_tensor\n",
    "\n",
    "import lightgbm as lgb\n",
    "\n",
    "# from sklearn.preprocessing import StandardScaler\n",
    "# from sklearn import metrics as sklearn_metrics\n",
    "from scipy import stats\n",
    "# from tqdm.notebook import tqdm"
   ]
  },
  {
   "cell_type": "code",
   "execution_count": 22,
   "id": "758a54bd-899d-4bb9-939d-18529e471c94",
   "metadata": {},
   "outputs": [],
   "source": [
    "# def get_dense_desc_rank(nn):\n",
    "#     # will be used for ranking y_fits\n",
    "#     return( stats.rankdata(-nn, method='dense') )\n",
    "\n",
    "def add_rank_column(xx):\n",
    "    y_fit_colname = xx.columns[0]\n",
    "    rank_colname = re.sub('y_fit', 'rank', y_fit_colname)\n",
    "    xx[rank_colname] = xx[y_fit_colname].rank(method='dense', ascending=False)\n",
    "    return(xx)"
   ]
  },
  {
   "cell_type": "code",
   "execution_count": 61,
   "id": "262015a4-ba3c-4a83-a21b-987b0d34e5ed",
   "metadata": {},
   "outputs": [],
   "source": [
    "data_dir = '/Volumes/Extreme SSD/rematch_eia_ferc1_docker'\n",
    "\n",
    "fn_second_stage_model_gbm_hp = os.path.join(data_dir, 'working_data/model_second_stage/model_second_stage_training/model_second_stage_gbm_hp.csv')\n",
    "\n",
    "fn_model_out = os.path.join(data_dir, 'working_data/model_second_stage/model_second_stage_training/model_2.txt')\n",
    "fn_y_fit_2_out = os.path.join(data_dir, 'working_data/model_second_stage/model_second_stage_training/temp/y_fit_2.parquet')\n",
    "fn_mod2_feature_importance = os.path.join(data_dir, 'working_data/model_second_stage/model_second_stage_training/temp/mod2_feature_importance.parquet')"
   ]
  },
  {
   "cell_type": "code",
   "execution_count": 36,
   "id": "17d9fe74-493d-4696-8b87-7dc6cd707255",
   "metadata": {},
   "outputs": [
    {
     "name": "stdout",
     "output_type": "stream",
     "text": [
      "{'num_trees': 958, 'min_data_in_leaf': 124, 'learning_rate': 0.0100476095713998}\n"
     ]
    }
   ],
   "source": [
    "hp = pd.read_csv(fn_second_stage_model_gbm_hp).to_dict('list')\n",
    "hp = {k:hp[k][0] for k in hp.keys()}\n",
    "print(hp)"
   ]
  },
  {
   "cell_type": "code",
   "execution_count": 27,
   "id": "19e3fc45-553b-4578-9bd5-987f5d7f900c",
   "metadata": {},
   "outputs": [],
   "source": [
    "fn_x_1_a = os.path.join(data_dir, 'working_data/model_second_stage/model_second_stage_training/temp/x_1_a.parquet')\n",
    "fn_x_1_b = os.path.join(data_dir, 'working_data/model_second_stage/model_second_stage_training/temp/x_1_b.parquet')\n",
    "\n",
    "fn_y_fit_1_a_ann = os.path.join(data_dir, 'working_data/model_second_stage/model_second_stage_training/temp/y_fit_1_a_ann.parquet')\n",
    "fn_y_fit_1_a_gbm = os.path.join(data_dir, 'working_data/model_second_stage/model_second_stage_training/temp/y_fit_1_a_gbm.parquet')\n",
    "fn_y_fit_1_b_ann = os.path.join(data_dir, 'working_data/model_second_stage/model_second_stage_training/temp/y_fit_1_b_ann.parquet')\n",
    "fn_y_fit_1_b_gbm = os.path.join(data_dir, 'working_data/model_second_stage/model_second_stage_training/temp/y_fit_1_b_gbm.parquet')\n",
    "\n",
    "fn_y = os.path.join(data_dir, 'working_data/model_a/model_a_training/y.parquet')"
   ]
  },
  {
   "cell_type": "code",
   "execution_count": 38,
   "id": "72ea57d0-27ca-446e-9b93-f5b262abe4b8",
   "metadata": {},
   "outputs": [],
   "source": [
    "y = pd.read_parquet(fn_y)"
   ]
  },
  {
   "cell_type": "code",
   "execution_count": 24,
   "id": "9cf56163-e45e-458e-b55c-6e6dc520b93c",
   "metadata": {},
   "outputs": [],
   "source": [
    "# Load data, adding descending dense ranks to the y_fit\n",
    "X1A = pd.read_parquet(fn_x_1_a).reset_index(drop=True)\n",
    "X1B = pd.read_parquet(fn_x_1_b).reset_index(drop=True)\n",
    "YFit1AAnn = add_rank_column(pd.read_parquet(fn_y_fit_1_a_ann).reset_index(drop=True))\n",
    "YFit1AGbm = add_rank_column(pd.read_parquet(fn_y_fit_1_a_gbm).reset_index(drop=True))\n",
    "YFit1BAnn = add_rank_column(pd.read_parquet(fn_y_fit_1_b_ann).reset_index(drop=True))\n",
    "YFit1BGbm = add_rank_column(pd.read_parquet(fn_y_fit_1_b_gbm).reset_index(drop=True))"
   ]
  },
  {
   "cell_type": "code",
   "execution_count": 25,
   "id": "c5585cce-7f45-4859-bd0b-afb81ad51be5",
   "metadata": {},
   "outputs": [],
   "source": [
    "X2 = pd.concat([\n",
    "    X1A.add_prefix('x1a_'), \n",
    "    X1B.add_prefix('x1b_'), \n",
    "    YFit1AAnn, \n",
    "    YFit1AGbm, \n",
    "    YFit1BAnn, \n",
    "    YFit1BGbm\n",
    "], axis=1)"
   ]
  },
  {
   "cell_type": "code",
   "execution_count": null,
   "id": "94399195-3d01-4401-b7bd-9f7d161f0e5a",
   "metadata": {},
   "outputs": [],
   "source": [
    "train_data = lgb.Dataset(X2, y)\n",
    "mod2 = lgb.train(params=hp, train_set=train_data)\n",
    "mod2.save_model(fn_model_out)"
   ]
  },
  {
   "cell_type": "code",
   "execution_count": 51,
   "id": "b768e740-5a4d-464d-a83b-12843f09a8e1",
   "metadata": {},
   "outputs": [],
   "source": [
    "y_fit = mod2.predict(X2)\n",
    "pd.DataFrame(y_fit).rename(columns={0:'y_fit_2'}).to_parquet(fn_y_fit_2_out)"
   ]
  },
  {
   "cell_type": "code",
   "execution_count": 63,
   "id": "6b230867-3f9f-4115-acfe-6e689d5f911e",
   "metadata": {},
   "outputs": [],
   "source": [
    "pd.DataFrame({'colnames':X2.columns.to_series(), 'feature_importance':mod2.feature_importance()}).reset_index(drop=True).to_parquet(fn_mod2_feature_importance)"
   ]
  },
  {
   "cell_type": "markdown",
   "id": "e9ef0f74-61a3-4f0a-8ff3-593a79369b47",
   "metadata": {},
   "source": [
    "todo:\n",
    "- train model2\n",
    "- save model2\n",
    "- save y_fit_2\n",
    "- show component importance for model2\n",
    "- manually qc mappings"
   ]
  },
  {
   "cell_type": "code",
   "execution_count": 64,
   "id": "8e21f8c1-e895-4dfc-8b8b-5aeaa4acc853",
   "metadata": {},
   "outputs": [
    {
     "name": "stdout",
     "output_type": "stream",
     "text": [
      "[NbConvertApp] Converting notebook fit_second_stage_model_gbm.ipynb to script\n",
      "[NbConvertApp] Writing 3921 bytes to fit_second_stage_model_gbm.py\n"
     ]
    }
   ],
   "source": [
    "!jupyter nbconvert --to script fit_second_stage_model_gbm.ipynb"
   ]
  }
 ],
 "metadata": {
  "kernelspec": {
   "display_name": "Python 3 (ipykernel)",
   "language": "python",
   "name": "python3"
  },
  "language_info": {
   "codemirror_mode": {
    "name": "ipython",
    "version": 3
   },
   "file_extension": ".py",
   "mimetype": "text/x-python",
   "name": "python",
   "nbconvert_exporter": "python",
   "pygments_lexer": "ipython3",
   "version": "3.12.2"
  }
 },
 "nbformat": 4,
 "nbformat_minor": 5
}
