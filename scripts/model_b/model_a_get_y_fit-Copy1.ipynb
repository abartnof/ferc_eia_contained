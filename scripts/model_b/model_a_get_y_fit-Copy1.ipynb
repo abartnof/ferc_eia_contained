{
 "cells": [
  {
   "cell_type": "code",
   "execution_count": 1,
   "id": "c1314772-f552-4cc6-9c2a-a2b6b56c284b",
   "metadata": {},
   "outputs": [],
   "source": [
    "import pandas as pd\n",
    "import numpy as np\n",
    "import os\n",
    "import re\n",
    "import glob\n",
    "import keras\n",
    "import lightgbm as lgb\n",
    "from tqdm.notebook import tqdm\n",
    "# from tqdm import tqdm"
   ]
  },
  {
   "cell_type": "code",
   "execution_count": 3,
   "id": "97cf9ac4-36af-4575-baf6-6fb382429fce",
   "metadata": {},
   "outputs": [],
   "source": [
    "data_dir = '/Volumes/Extreme SSD/rematch_eia_ferc1_docker'\n",
    "dir_working_model_b_training = os.path.join(data_dir, 'working_data/model_b/model_b_training')\n",
    "# dir_working_model_b_training"
   ]
  },
  {
   "cell_type": "code",
   "execution_count": 4,
   "id": "b0256714-d5e0-446f-ad0e-eed57eea252f",
   "metadata": {},
   "outputs": [],
   "source": [
    "# Load models\n",
    "fn_model_b_ann = os.path.join(dir_working_model_b_training, 'model_b_ann.keras')\n",
    "fn_model_b_gbm = os.path.join(dir_working_model_b_training, 'model_b_gbm.txt')\n",
    "\n",
    "model_b_ann = keras.saving.load_model(fn_model_b_ann)\n",
    "model_b_gbm = lgb.Booster(model_file=fn_model_b_gbm)"
   ]
  },
  {
   "cell_type": "code",
   "execution_count": 7,
   "id": "54fa6cfb-86e7-4916-8479-ac16602dfa57",
   "metadata": {},
   "outputs": [],
   "source": [
    "# work out each filename we'll need, for the X and y_fit datafiles\n",
    "\n",
    "dir_x = os.path.join(data_dir, 'working_data/model_b/model_b_x')\n",
    "dir_id = os.path.join(data_dir, 'working_data/model_b/model_b_id')\n",
    "dir_y_fit = os.path.join(data_dir, 'working_data/model_b/model_b_y_fit')\n",
    "\n",
    "fn_mappings = os.path.join(data_dir, 'working_data/model_b/model_b_mappings.parquet')\n",
    "# dir_mappings = os.path.join(data_dir, 'working_data/model_b/model_b_mappings')"
   ]
  },
  {
   "cell_type": "code",
   "execution_count": 8,
   "id": "06388588-7c23-42ff-877b-833c5e3cf917",
   "metadata": {},
   "outputs": [],
   "source": [
    "# Note X files, concatenate with directory\n",
    "fn_x_list = glob.glob(pathname='*.parquet', root_dir=dir_x)\n",
    "dir_fn_x_list = [os.path.join(dir_x, f) for f in fn_x_list]\n",
    "\n",
    "# Extract the tranche names\n",
    "tranche_list = [ re.sub('x__', '', f) for f in fn_x_list ]\n",
    "tranche_list = [ re.sub('\\\\.parquet', '', f) for f in tranche_list ]\n",
    "\n",
    "# Create the list of y, id filenames\n",
    "fn_y_fit_list = [ re.sub('x__', 'y__', f) for f in fn_x_list ]\n",
    "fn_id_list = [ re.sub('x__', 'id__', f) for f in fn_x_list ]\n",
    "\n",
    "# Concatenate the y, id filenames with directories\n",
    "dir_fn_y_fit_list = [os.path.join(dir_y_fit, f) for f in fn_y_fit_list]\n",
    "dir_fn_id_list = [os.path.join(dir_id, f) for f in fn_id_list]\n",
    "\n",
    "# Collect all full filenames + directories\n",
    "FN = pd.DataFrame({\n",
    "    'tranche':tranche_list,\n",
    "    'x':dir_fn_x_list,\n",
    "    'id':dir_fn_id_list,\n",
    "    'y_fit':dir_fn_y_fit_list\n",
    "    })\n",
    "# FN.head()"
   ]
  },
  {
   "cell_type": "code",
   "execution_count": 9,
   "id": "a79e2a64-a427-4f63-8349-8f85c59b33db",
   "metadata": {},
   "outputs": [
    {
     "data": {
      "application/vnd.jupyter.widget-view+json": {
       "model_id": "8f0ead74f64b46398fb735568c7364ac",
       "version_major": 2,
       "version_minor": 0
      },
      "text/plain": [
       "  0%|          | 0/1128 [00:00<?, ?it/s]"
      ]
     },
     "metadata": {},
     "output_type": "display_data"
    },
    {
     "ename": "FileNotFoundError",
     "evalue": "[Errno 2] No such file or directory: '/Volumes/Extreme SSD/rematch_eia_ferc1_docker/working_data/model_b/model_b_id/id__2001_009.parquet'",
     "output_type": "error",
     "traceback": [
      "\u001b[0;31m---------------------------------------------------------------------------\u001b[0m",
      "\u001b[0;31mFileNotFoundError\u001b[0m                         Traceback (most recent call last)",
      "Cell \u001b[0;32mIn[9], line 5\u001b[0m\n\u001b[1;32m      3\u001b[0m \u001b[38;5;28;01mfor\u001b[39;00m i \u001b[38;5;129;01min\u001b[39;00m tqdm(FN\u001b[38;5;241m.\u001b[39mindex):\n\u001b[1;32m      4\u001b[0m     X \u001b[38;5;241m=\u001b[39m pd\u001b[38;5;241m.\u001b[39mread_parquet(FN\u001b[38;5;241m.\u001b[39mloc[i, \u001b[38;5;124m'\u001b[39m\u001b[38;5;124mx\u001b[39m\u001b[38;5;124m'\u001b[39m])\n\u001b[0;32m----> 5\u001b[0m     ID \u001b[38;5;241m=\u001b[39m pd\u001b[38;5;241m.\u001b[39mread_parquet(FN\u001b[38;5;241m.\u001b[39mloc[i, \u001b[38;5;124m'\u001b[39m\u001b[38;5;124mid\u001b[39m\u001b[38;5;124m'\u001b[39m])\n\u001b[1;32m      7\u001b[0m     y_fit_gbm \u001b[38;5;241m=\u001b[39m model_b_gbm\u001b[38;5;241m.\u001b[39mpredict(X)\n\u001b[1;32m      8\u001b[0m     y_fit_ann \u001b[38;5;241m=\u001b[39m model_b_ann\u001b[38;5;241m.\u001b[39mpredict(X, verbose\u001b[38;5;241m=\u001b[39m\u001b[38;5;241m0\u001b[39m)\u001b[38;5;241m.\u001b[39mreshape(\u001b[38;5;241m-\u001b[39m\u001b[38;5;241m1\u001b[39m,)\n",
      "File \u001b[0;32m/opt/miniconda3/lib/python3.12/site-packages/pandas/io/parquet.py:667\u001b[0m, in \u001b[0;36mread_parquet\u001b[0;34m(path, engine, columns, storage_options, use_nullable_dtypes, dtype_backend, filesystem, filters, **kwargs)\u001b[0m\n\u001b[1;32m    664\u001b[0m     use_nullable_dtypes \u001b[38;5;241m=\u001b[39m \u001b[38;5;28;01mFalse\u001b[39;00m\n\u001b[1;32m    665\u001b[0m check_dtype_backend(dtype_backend)\n\u001b[0;32m--> 667\u001b[0m \u001b[38;5;28;01mreturn\u001b[39;00m impl\u001b[38;5;241m.\u001b[39mread(\n\u001b[1;32m    668\u001b[0m     path,\n\u001b[1;32m    669\u001b[0m     columns\u001b[38;5;241m=\u001b[39mcolumns,\n\u001b[1;32m    670\u001b[0m     filters\u001b[38;5;241m=\u001b[39mfilters,\n\u001b[1;32m    671\u001b[0m     storage_options\u001b[38;5;241m=\u001b[39mstorage_options,\n\u001b[1;32m    672\u001b[0m     use_nullable_dtypes\u001b[38;5;241m=\u001b[39muse_nullable_dtypes,\n\u001b[1;32m    673\u001b[0m     dtype_backend\u001b[38;5;241m=\u001b[39mdtype_backend,\n\u001b[1;32m    674\u001b[0m     filesystem\u001b[38;5;241m=\u001b[39mfilesystem,\n\u001b[1;32m    675\u001b[0m     \u001b[38;5;241m*\u001b[39m\u001b[38;5;241m*\u001b[39mkwargs,\n\u001b[1;32m    676\u001b[0m )\n",
      "File \u001b[0;32m/opt/miniconda3/lib/python3.12/site-packages/pandas/io/parquet.py:267\u001b[0m, in \u001b[0;36mPyArrowImpl.read\u001b[0;34m(self, path, columns, filters, use_nullable_dtypes, dtype_backend, storage_options, filesystem, **kwargs)\u001b[0m\n\u001b[1;32m    264\u001b[0m \u001b[38;5;28;01mif\u001b[39;00m manager \u001b[38;5;241m==\u001b[39m \u001b[38;5;124m\"\u001b[39m\u001b[38;5;124marray\u001b[39m\u001b[38;5;124m\"\u001b[39m:\n\u001b[1;32m    265\u001b[0m     to_pandas_kwargs[\u001b[38;5;124m\"\u001b[39m\u001b[38;5;124msplit_blocks\u001b[39m\u001b[38;5;124m\"\u001b[39m] \u001b[38;5;241m=\u001b[39m \u001b[38;5;28;01mTrue\u001b[39;00m  \u001b[38;5;66;03m# type: ignore[assignment]\u001b[39;00m\n\u001b[0;32m--> 267\u001b[0m path_or_handle, handles, filesystem \u001b[38;5;241m=\u001b[39m _get_path_or_handle(\n\u001b[1;32m    268\u001b[0m     path,\n\u001b[1;32m    269\u001b[0m     filesystem,\n\u001b[1;32m    270\u001b[0m     storage_options\u001b[38;5;241m=\u001b[39mstorage_options,\n\u001b[1;32m    271\u001b[0m     mode\u001b[38;5;241m=\u001b[39m\u001b[38;5;124m\"\u001b[39m\u001b[38;5;124mrb\u001b[39m\u001b[38;5;124m\"\u001b[39m,\n\u001b[1;32m    272\u001b[0m )\n\u001b[1;32m    273\u001b[0m \u001b[38;5;28;01mtry\u001b[39;00m:\n\u001b[1;32m    274\u001b[0m     pa_table \u001b[38;5;241m=\u001b[39m \u001b[38;5;28mself\u001b[39m\u001b[38;5;241m.\u001b[39mapi\u001b[38;5;241m.\u001b[39mparquet\u001b[38;5;241m.\u001b[39mread_table(\n\u001b[1;32m    275\u001b[0m         path_or_handle,\n\u001b[1;32m    276\u001b[0m         columns\u001b[38;5;241m=\u001b[39mcolumns,\n\u001b[0;32m   (...)\u001b[0m\n\u001b[1;32m    279\u001b[0m         \u001b[38;5;241m*\u001b[39m\u001b[38;5;241m*\u001b[39mkwargs,\n\u001b[1;32m    280\u001b[0m     )\n",
      "File \u001b[0;32m/opt/miniconda3/lib/python3.12/site-packages/pandas/io/parquet.py:140\u001b[0m, in \u001b[0;36m_get_path_or_handle\u001b[0;34m(path, fs, storage_options, mode, is_dir)\u001b[0m\n\u001b[1;32m    130\u001b[0m handles \u001b[38;5;241m=\u001b[39m \u001b[38;5;28;01mNone\u001b[39;00m\n\u001b[1;32m    131\u001b[0m \u001b[38;5;28;01mif\u001b[39;00m (\n\u001b[1;32m    132\u001b[0m     \u001b[38;5;129;01mnot\u001b[39;00m fs\n\u001b[1;32m    133\u001b[0m     \u001b[38;5;129;01mand\u001b[39;00m \u001b[38;5;129;01mnot\u001b[39;00m is_dir\n\u001b[0;32m   (...)\u001b[0m\n\u001b[1;32m    138\u001b[0m     \u001b[38;5;66;03m# fsspec resources can also point to directories\u001b[39;00m\n\u001b[1;32m    139\u001b[0m     \u001b[38;5;66;03m# this branch is used for example when reading from non-fsspec URLs\u001b[39;00m\n\u001b[0;32m--> 140\u001b[0m     handles \u001b[38;5;241m=\u001b[39m get_handle(\n\u001b[1;32m    141\u001b[0m         path_or_handle, mode, is_text\u001b[38;5;241m=\u001b[39m\u001b[38;5;28;01mFalse\u001b[39;00m, storage_options\u001b[38;5;241m=\u001b[39mstorage_options\n\u001b[1;32m    142\u001b[0m     )\n\u001b[1;32m    143\u001b[0m     fs \u001b[38;5;241m=\u001b[39m \u001b[38;5;28;01mNone\u001b[39;00m\n\u001b[1;32m    144\u001b[0m     path_or_handle \u001b[38;5;241m=\u001b[39m handles\u001b[38;5;241m.\u001b[39mhandle\n",
      "File \u001b[0;32m/opt/miniconda3/lib/python3.12/site-packages/pandas/io/common.py:882\u001b[0m, in \u001b[0;36mget_handle\u001b[0;34m(path_or_buf, mode, encoding, compression, memory_map, is_text, errors, storage_options)\u001b[0m\n\u001b[1;32m    873\u001b[0m         handle \u001b[38;5;241m=\u001b[39m \u001b[38;5;28mopen\u001b[39m(\n\u001b[1;32m    874\u001b[0m             handle,\n\u001b[1;32m    875\u001b[0m             ioargs\u001b[38;5;241m.\u001b[39mmode,\n\u001b[0;32m   (...)\u001b[0m\n\u001b[1;32m    878\u001b[0m             newline\u001b[38;5;241m=\u001b[39m\u001b[38;5;124m\"\u001b[39m\u001b[38;5;124m\"\u001b[39m,\n\u001b[1;32m    879\u001b[0m         )\n\u001b[1;32m    880\u001b[0m     \u001b[38;5;28;01melse\u001b[39;00m:\n\u001b[1;32m    881\u001b[0m         \u001b[38;5;66;03m# Binary mode\u001b[39;00m\n\u001b[0;32m--> 882\u001b[0m         handle \u001b[38;5;241m=\u001b[39m \u001b[38;5;28mopen\u001b[39m(handle, ioargs\u001b[38;5;241m.\u001b[39mmode)\n\u001b[1;32m    883\u001b[0m     handles\u001b[38;5;241m.\u001b[39mappend(handle)\n\u001b[1;32m    885\u001b[0m \u001b[38;5;66;03m# Convert BytesIO or file objects passed with an encoding\u001b[39;00m\n",
      "\u001b[0;31mFileNotFoundError\u001b[0m: [Errno 2] No such file or directory: '/Volumes/Extreme SSD/rematch_eia_ferc1_docker/working_data/model_b/model_b_id/id__2001_009.parquet'"
     ]
    }
   ],
   "source": [
    "results_list = []\n",
    "\n",
    "for i in tqdm(FN.index):\n",
    "    X = pd.read_parquet(FN.loc[i, 'x'])\n",
    "    ID = pd.read_parquet(FN.loc[i, 'id'])\n",
    "\n",
    "    y_fit_gbm = model_b_gbm.predict(X)\n",
    "    y_fit_ann = model_b_ann.predict(X, verbose=0).reshape(-1,)\n",
    "\n",
    "    # Save two columns- y-fit for each model\n",
    "    Framework = ID.copy()\n",
    "    Framework['y_fit_model_b_gbm'] = y_fit_gbm\n",
    "    Framework['y_fit_model_b_ann'] = y_fit_ann\n",
    "    Framework[['y_fit_model_b_gbm', 'y_fit_model_b_ann']].to_parquet(FN.loc[i, 'y_fit'])\n",
    "\n",
    "    # Also, note the best mappings per record_id_ferc1\n",
    "    FrameworkLong = Framework.melt(id_vars=['record_id_ferc1', 'record_id_eia'], var_name='variable', value_name='y_fit')\n",
    "    mask = FrameworkLong.groupby(['record_id_ferc1', 'variable'])['y_fit'].idxmax()\n",
    "    Results = FrameworkLong.loc[mask]\n",
    "    Results.reset_index(drop=True, inplace=True)\n",
    "    Results['tranche'] = FN.loc[i, 'tranche']\n",
    "    Results = Results[['tranche', 'record_id_ferc1', 'record_id_eia', 'variable', 'y_fit']]\n",
    "    results_list.append(Results)"
   ]
  },
  {
   "cell_type": "code",
   "execution_count": 85,
   "id": "b359b4c6-7740-4e63-a86d-2b3b57be34c5",
   "metadata": {},
   "outputs": [],
   "source": [
    "pd.concat(results_list, ignore_index=True).to_parquet(fn_mappings)"
   ]
  },
  {
   "cell_type": "code",
   "execution_count": 89,
   "id": "fe44c436-afcb-4e85-8495-7d385b92010e",
   "metadata": {},
   "outputs": [
    {
     "name": "stdout",
     "output_type": "stream",
     "text": [
      "[NbConvertApp] Converting notebook model_a_get_y_fit.ipynb to script\n",
      "[NbConvertApp] Writing 3123 bytes to model_a_get_y_fit.py\n"
     ]
    }
   ],
   "source": [
    "!jupyter nbconvert --to script model_b_get_y_fit.ipynb"
   ]
  }
 ],
 "metadata": {
  "kernelspec": {
   "display_name": "Python 3 (ipykernel)",
   "language": "python",
   "name": "python3"
  },
  "language_info": {
   "codemirror_mode": {
    "name": "ipython",
    "version": 3
   },
   "file_extension": ".py",
   "mimetype": "text/x-python",
   "name": "python",
   "nbconvert_exporter": "python",
   "pygments_lexer": "ipython3",
   "version": "3.12.2"
  }
 },
 "nbformat": 4,
 "nbformat_minor": 5
}
