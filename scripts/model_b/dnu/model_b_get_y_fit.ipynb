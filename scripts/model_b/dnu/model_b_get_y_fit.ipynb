{
 "cells": [
  {
   "cell_type": "code",
   "execution_count": 1,
   "id": "c1314772-f552-4cc6-9c2a-a2b6b56c284b",
   "metadata": {},
   "outputs": [],
   "source": [
    "import pandas as pd\n",
    "import numpy as np\n",
    "import os\n",
    "import re\n",
    "import glob\n",
    "import keras\n",
    "import lightgbm as lgb\n",
    "from tqdm.notebook import tqdm\n",
    "# from tqdm import tqdm"
   ]
  },
  {
   "cell_type": "code",
   "execution_count": 3,
   "id": "97cf9ac4-36af-4575-baf6-6fb382429fce",
   "metadata": {},
   "outputs": [],
   "source": [
    "data_dir = '/Volumes/Extreme SSD/rematch_eia_ferc1_docker'\n",
    "dir_working_model_b_training = os.path.join(data_dir, 'working_data/model_b/model_b_training')\n",
    "# dir_working_model_b_training"
   ]
  },
  {
   "cell_type": "code",
   "execution_count": 4,
   "id": "b0256714-d5e0-446f-ad0e-eed57eea252f",
   "metadata": {},
   "outputs": [],
   "source": [
    "# Load models\n",
    "fn_model_b_ann = os.path.join(dir_working_model_b_training, 'model_b_ann.keras')\n",
    "fn_model_b_gbm = os.path.join(dir_working_model_b_training, 'model_b_gbm.txt')\n",
    "\n",
    "model_b_ann = keras.saving.load_model(fn_model_b_ann)\n",
    "model_b_gbm = lgb.Booster(model_file=fn_model_b_gbm)"
   ]
  },
  {
   "cell_type": "code",
   "execution_count": 10,
   "id": "2ac141ad-d315-405d-99b8-d7fc4184144d",
   "metadata": {},
   "outputs": [],
   "source": [
    "fn_tranches = os.path.join(data_dir, 'working_data/tranches_ferc_to_eia')"
   ]
  },
  {
   "cell_type": "code",
   "execution_count": 11,
   "id": "54fa6cfb-86e7-4916-8479-ac16602dfa57",
   "metadata": {},
   "outputs": [],
   "source": [
    "# work out each filename we'll need, for the X and y_fit datafiles\n",
    "\n",
    "dir_x = os.path.join(data_dir, 'working_data/model_b/model_b_x')\n",
    "# dir_id = os.path.join(data_dir, 'working_data/model_b/model_b_id')\n",
    "dir_tranches = fn_tranches = os.path.join(data_dir, 'working_data/tranches_ferc_to_eia')\n",
    "dir_y_fit = os.path.join(data_dir, 'working_data/model_b/model_b_y_fit')\n",
    "\n",
    "fn_mappings = os.path.join(data_dir, 'working_data/model_b/model_b_mappings.parquet')\n",
    "# dir_mappings = os.path.join(data_dir, 'working_data/model_b/model_b_mappings')"
   ]
  },
  {
   "cell_type": "markdown",
   "id": "5e30beea-6bfc-4556-ae94-df9fc2cae256",
   "metadata": {},
   "source": [
    "For each type of information (X, y_fit, tranche in lieu of ID), we'll note the full export filename, and the tranche that this corresponds to. Once we've done this all 3 times, join them into an ur-table."
   ]
  },
  {
   "cell_type": "code",
   "execution_count": 87,
   "id": "412b4dc4-d0df-427e-b137-b31dce601301",
   "metadata": {},
   "outputs": [],
   "source": [
    "# Note X files, concatenate with directory\n",
    "fn_x_list = glob.glob(pathname='*.parquet', root_dir=dir_x)\n",
    "dir_fn_x_list = [os.path.join(dir_x, f) for f in fn_x_list]\n",
    "\n",
    "fn_id_list = [ re.sub('^.*x__', '', f) for f in fn_x_list ]\n",
    "fn_id_list = [ re.sub('\\\\.parquet$', '', f) for f in fn_id_list ]\n",
    "\n",
    "CteX = pd.DataFrame({'x':dir_fn_x_list, 'fn_id':fn_id_list}).set_index('fn_id')"
   ]
  },
  {
   "cell_type": "code",
   "execution_count": 88,
   "id": "8f8750b3-a8b3-4d04-9e17-e5c88ab698af",
   "metadata": {},
   "outputs": [],
   "source": [
    "fn_tranche_list = glob.glob(pathname='*.parquet', root_dir=dir_tranches)\n",
    "dir_fn_tranche_list = [os.path.join(dir_tranches, f) for f in fn_tranche_list]\n",
    "\n",
    "fn_id_list = [ re.sub('^.*tranche__', '', f) for f in fn_tranche_list ]\n",
    "fn_id_list = [ re.sub('\\\\.parquet$', '', f) for f in fn_id_list ]\n",
    "\n",
    "CteTranche = pd.DataFrame({'tranche':dir_fn_tranche_list, 'fn_id':fn_id_list}).set_index('fn_id')"
   ]
  },
  {
   "cell_type": "code",
   "execution_count": 89,
   "id": "1265982b-7c94-4797-a2a4-f27b60ae87ff",
   "metadata": {},
   "outputs": [],
   "source": [
    "# Create the list of y, id filenames\n",
    "fn_y_fit_list = [ re.sub('x__', 'y__', f) for f in fn_x_list ]\n",
    "dir_fn_y_fit_list = [os.path.join(dir_y_fit, f) for f in fn_y_fit_list]\n",
    "\n",
    "fn_id_list = [ re.sub('^.*y__', '', f) for f in fn_y_fit_list ]\n",
    "fn_id_list = [ re.sub('\\\\.parquet$', '', f) for f in fn_id_list ]\n",
    "\n",
    "CteYFit = pd.DataFrame({'y_fit':dir_fn_y_fit_list, 'fn_id':fn_id_list}).set_index('fn_id')"
   ]
  },
  {
   "cell_type": "code",
   "execution_count": 90,
   "id": "527036cf-b5cd-471f-96e7-f1aedd3d54e1",
   "metadata": {},
   "outputs": [],
   "source": [
    "FN = CteX.join(CteTranche, how='inner').join(CteYFit, how='inner')\n",
    "# FN.head()"
   ]
  },
  {
   "cell_type": "code",
   "execution_count": 99,
   "id": "70a287ee-17a6-41b8-a64e-6446487cb5e0",
   "metadata": {},
   "outputs": [
    {
     "data": {
      "application/vnd.jupyter.widget-view+json": {
       "model_id": "382509a510864750a9523a1f40f345b1",
       "version_major": 2,
       "version_minor": 0
      },
      "text/plain": [
       "  0%|          | 0/1128 [00:00<?, ?it/s]"
      ]
     },
     "metadata": {},
     "output_type": "display_data"
    }
   ],
   "source": [
    "results_list = []\n",
    "\n",
    "for i in tqdm(FN.index):\n",
    "# i = FN.index[0]\n",
    "    X = pd.read_parquet(FN.loc[i, 'x'])\n",
    "    ID = pd.read_parquet(FN.loc[i, 'tranche'])\n",
    "    \n",
    "    y_fit_gbm = model_b_gbm.predict(X)\n",
    "    y_fit_ann = model_b_ann.predict(X, verbose=0).reshape(-1,)\n",
    "    \n",
    "    # Save two columns- y-fit for each model\n",
    "    Framework = ID.copy()\n",
    "    Framework['y_fit_model_b_gbm'] = y_fit_gbm\n",
    "    Framework['y_fit_model_b_ann'] = y_fit_ann\n",
    "    Framework[['y_fit_model_b_gbm', 'y_fit_model_b_ann']].to_parquet(FN.loc[i, 'y_fit'])\n",
    "    \n",
    "    # Also, note the best mappings per record_id_ferc1\n",
    "    FrameworkLong = Framework.melt(id_vars=['record_id_ferc1', 'record_id_eia'], var_name='variable', value_name='y_fit')\n",
    "    mask = FrameworkLong.groupby(['record_id_ferc1', 'variable'])['y_fit'].idxmax()\n",
    "    Results = FrameworkLong.loc[mask]\n",
    "    Results.reset_index(drop=True, inplace=True)\n",
    "    Results['tranche'] = FN.loc[i, 'tranche']\n",
    "    Results = Results[['tranche', 'record_id_ferc1', 'record_id_eia', 'variable', 'y_fit']]\n",
    "    results_list.append(Results)"
   ]
  },
  {
   "cell_type": "code",
   "execution_count": 103,
   "id": "b359b4c6-7740-4e63-a86d-2b3b57be34c5",
   "metadata": {},
   "outputs": [],
   "source": [
    "pd.concat(results_list, ignore_index=True).to_parquet(fn_mappings)"
   ]
  },
  {
   "cell_type": "code",
   "execution_count": 105,
   "id": "fe44c436-afcb-4e85-8495-7d385b92010e",
   "metadata": {},
   "outputs": [
    {
     "name": "stdout",
     "output_type": "stream",
     "text": [
      "[NbConvertApp] Converting notebook model_b_get_y_fit.ipynb to script\n",
      "[NbConvertApp] Writing 5592 bytes to model_b_get_y_fit.py\n"
     ]
    }
   ],
   "source": [
    "!jupyter nbconvert --to script model_b_get_y_fit.ipynb"
   ]
  }
 ],
 "metadata": {
  "kernelspec": {
   "display_name": "Python 3 (ipykernel)",
   "language": "python",
   "name": "python3"
  },
  "language_info": {
   "codemirror_mode": {
    "name": "ipython",
    "version": 3
   },
   "file_extension": ".py",
   "mimetype": "text/x-python",
   "name": "python",
   "nbconvert_exporter": "python",
   "pygments_lexer": "ipython3",
   "version": "3.12.2"
  }
 },
 "nbformat": 4,
 "nbformat_minor": 5
}
