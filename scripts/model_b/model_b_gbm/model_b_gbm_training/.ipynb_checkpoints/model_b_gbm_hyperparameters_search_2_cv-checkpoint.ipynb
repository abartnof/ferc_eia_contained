{
 "cells": [
  {
   "cell_type": "markdown",
   "id": "1b820135-1552-445a-9327-55329b8b156b",
   "metadata": {},
   "source": [
    "# Perform cross-validation to dig into the most promising hyperparameters# \n",
    "\n",
    "__author__: Andrew Bartnof\n",
    "\n",
    "__copyright__: Copyright 2025, Rocky Mountain Institute\n",
    "\n",
    "__credits__: Alex Engel, Andrew Bartnof"
   ]
  },
  {
   "cell_type": "code",
   "execution_count": 7,
   "id": "4106c744-5a93-43c7-ae2c-fb55f0531ccc",
   "metadata": {},
   "outputs": [],
   "source": [
    "import lightgbm as lgb\n",
    "import numpy as np\n",
    "import pandas as pd\n",
    "import os\n",
    "\n",
    "from sklearn.metrics import accuracy_score, roc_auc_score, precision_score, recall_score, log_loss\n",
    "from tqdm.notebook import tqdm\n",
    "import itertools\n",
    "import matplotlib.pyplot as plt\n",
    "from sklearn.preprocessing import StandardScaler"
   ]
  },
  {
   "cell_type": "code",
   "execution_count": 8,
   "id": "5e8ed1e0-00e3-4e2d-8758-fd4925ca9097",
   "metadata": {},
   "outputs": [],
   "source": [
    "def np_cleaning(X):\n",
    "    X = np.clip(X, a_min=-3, a_max=3)\n",
    "    X = np.nan_to_num(X, nan=0.0, posinf=0.0, neginf=0.0)\n",
    "    return X"
   ]
  },
  {
   "cell_type": "code",
   "execution_count": 9,
   "id": "e5e2f8f3-ccef-47d8-b708-106cdb70ed32",
   "metadata": {},
   "outputs": [
    {
     "data": {
      "text/plain": [
       "'/Volumes/Extreme SSD/rematch_eia_ferc1_docker/working_data/model_b/model_b_training'"
      ]
     },
     "execution_count": 9,
     "metadata": {},
     "output_type": "execute_result"
    }
   ],
   "source": [
    "data_dir = '/Volumes/Extreme SSD/rematch_eia_ferc1_docker'\n",
    "dir_working_model_b_training = os.path.join(data_dir, 'working_data/model_b/model_b_training')\n",
    "dir_working_model_b_training"
   ]
  },
  {
   "cell_type": "code",
   "execution_count": 10,
   "id": "4ca70a8c-6c70-452b-a1c1-26ff0f7b315c",
   "metadata": {},
   "outputs": [],
   "source": [
    "fn_x = os.path.join(dir_working_model_b_training, 'x.parquet')\n",
    "fn_y = os.path.join(dir_working_model_b_training, 'y.parquet')\n",
    "fn_id = os.path.join(dir_working_model_b_training, 'id.parquet')\n",
    "\n",
    "dir_hyperparameters = dir_working_model_b_training\n",
    "fn_grid = os.path.join(dir_working_model_b_training, 'gb_ray_tune/model_b_ann_hp_search.csv')\n",
    "fn_cv = os.path.join(dir_working_model_b_training, 'gb_ray_tune/model_b_ann_hp_search_2_cv.csv')"
   ]
  },
  {
   "cell_type": "code",
   "execution_count": 11,
   "id": "c81a603a-a4ee-4ce4-9742-7314cc9857ac",
   "metadata": {},
   "outputs": [],
   "source": [
    "X = pd.read_parquet(fn_x)\n",
    "Y = pd.read_parquet(fn_y)\n",
    "ID = pd.read_parquet(fn_id)"
   ]
  },
  {
   "cell_type": "code",
   "execution_count": 12,
   "id": "d39c5999-4d71-43cc-b2a9-9be29c4849c7",
   "metadata": {},
   "outputs": [
    {
     "data": {
      "text/plain": [
       "{'num_trees': 289,\n",
       " 'learning_rate': 0.0132879024075759,\n",
       " 'min_data_in_leaf': 56,\n",
       " 'objective': 'binary',\n",
       " 'early_stopping_round': -1}"
      ]
     },
     "execution_count": 12,
     "metadata": {},
     "output_type": "execute_result"
    }
   ],
   "source": [
    "rename_dict = {'config/num_trees':'num_trees', 'config/learning_rate':'learning_rate', 'config/min_data_in_leaf':'min_data_in_leaf', 'config/objective':'objective', 'config/early_stopping_round':'early_stopping_round'} #, 'config/metrics':'metrics'}\n",
    "\n",
    "Grid = pd.read_csv(fn_grid, index_col='rank')\n",
    "Grid = Grid.rename(columns=rename_dict)[list(rename_dict.values())]\n",
    "\n",
    "# Create a dictionary: punch in the rank of the model we want to use, and get the parameters back, as a dictionary\n",
    "param_dict = {i:Grid.loc[i].to_dict() for i in Grid.index}\n",
    "param_dict[0]"
   ]
  },
  {
   "cell_type": "markdown",
   "id": "4f1cc802-2b32-4ee2-b369-064ec6e06b0e",
   "metadata": {},
   "source": [
    "Each record_id_ferc1 is mapped to a number, 0:num_folds. \n",
    "\n",
    "This means that for any fold, we can say that any record_id_ferc1 that corresponds to that number is testing data, and all others are training data"
   ]
  },
  {
   "cell_type": "code",
   "execution_count": null,
   "id": "4f044d86-2d54-4524-bee1-cb181a8c742d",
   "metadata": {},
   "outputs": [],
   "source": [
    "variables = [\n",
    "    range(15),  # num hyperparameters to test\n",
    "    range(5)  # number of folds in the ID table\n",
    "]\n",
    "\n",
    "metrics_list = []\n",
    "for (hp_rank, fold) in tqdm(list(itertools.product(*variables))):\n",
    "\n",
    "    # Split data into training, testing\n",
    "    is_training_data_mask = (ID['fold'] != fold).values\n",
    "    XTrain = X.loc[is_training_data_mask]\n",
    "    XTest = X.loc[~is_training_data_mask]\n",
    "\n",
    "    # Scale data\n",
    "    standard_scaler = StandardScaler()\n",
    "    standard_scaler.fit(XTrain)\n",
    "    \n",
    "    XTrain = standard_scaler.transform(XTrain)\n",
    "    XTest  = standard_scaler.transform(XTest)\n",
    "    \n",
    "    XTrain = np_cleaning(XTrain)\n",
    "    XTest  = np_cleaning(XTest)\n",
    "    \n",
    "    # Package in training and testing objects\n",
    "    train_set = lgb.Dataset(XTrain, Y.loc[is_training_data_mask])\n",
    "    YTest = Y.loc[~is_training_data_mask]\n",
    "\n",
    "    # Fit the model, get probabilities (ie y_fit)\n",
    "    mod_fit = lgb.train(params=param_dict[hp_rank], train_set=train_set)\n",
    "    y_fit = mod_fit.predict(XTest)\n",
    "\n",
    "    # Pull together y_fit along with the record_id_ferc1, which allows us to see which y_fit is the \n",
    "    # highest per record_id_ferc1\n",
    "    Framework = ID[~is_training_data_mask].copy()\n",
    "    Framework['y_true'] = YTest['is_match']\n",
    "    Framework['y_fit'] = y_fit\n",
    "    Framework = Framework[['record_id_ferc1', 'y_fit', 'y_true']]\n",
    "\n",
    "    # groupwise best prediction, for each record_id_ferc1\n",
    "    Framework['groupwise_max_y_fit'] = Framework.groupby('record_id_ferc1')['y_fit'].transform('max')\n",
    "    Framework['y_fit_adj'] = Framework['y_fit'] == Framework['groupwise_max_y_fit']\n",
    "\n",
    "    y_true = Framework['y_true'].astype(bool).values\n",
    "    y_fit_adj = Framework['y_fit_adj'].values\n",
    "\n",
    "    # compute metrics\n",
    "    metric_dict = {'hp_rank':hp_rank,\n",
    "        'fold':fold,\n",
    "        'accuracy':accuracy_score(y_true, y_fit_adj),\n",
    "        'roc_auc':roc_auc_score(y_true, y_fit_adj),\n",
    "        'log_loss':log_loss(y_true, y_fit_adj),\n",
    "        'precision':precision_score(y_true, y_fit_adj),\n",
    "        'recall':recall_score(y_true, y_fit_adj)\n",
    "    }\n",
    "    Metrics = pd.DataFrame(metric_dict, index=range(1))\n",
    "    metrics_list.append(Metrics)"
   ]
  },
  {
   "cell_type": "code",
   "execution_count": 20,
   "id": "7e2d527c-a72c-4d55-9e72-165111baeac9",
   "metadata": {},
   "outputs": [],
   "source": [
    "CollectedMetrics = pd.concat(metrics_list).reset_index()\n",
    "CollectedMetrics.drop('index',axis=1, inplace=True)\n",
    "CollectedMetrics.to_csv(fn_cv, index=False)"
   ]
  },
  {
   "cell_type": "code",
   "execution_count": 21,
   "id": "6ea98b35-983a-4165-9230-c9154464be36",
   "metadata": {},
   "outputs": [
    {
     "data": {
      "text/plain": [
       "array([[<Axes: title={'center': 'accuracy'}, xlabel='[hp_rank]'>,\n",
       "        <Axes: title={'center': 'log_loss'}, xlabel='[hp_rank]'>],\n",
       "       [<Axes: title={'center': 'precision'}, xlabel='[hp_rank]'>,\n",
       "        <Axes: title={'center': 'recall'}, xlabel='[hp_rank]'>],\n",
       "       [<Axes: title={'center': 'roc_auc'}, xlabel='[hp_rank]'>,\n",
       "        <Axes: >]], dtype=object)"
      ]
     },
     "execution_count": 21,
     "metadata": {},
     "output_type": "execute_result"
    },
    {
     "data": {
      "image/png": "[encoded data removed]",
      "text/plain": [
       "<Figure size 1000x600 with 6 Axes>"
      ]
     },
     "metadata": {},
     "output_type": "display_data"
    }
   ],
   "source": [
    "CollectedMetrics.drop('fold', axis=1).boxplot(by='hp_rank', sharey=False, grid=False, figsize=(10, 6))"
   ]
  },
  {
   "cell_type": "code",
   "execution_count": 22,
   "id": "eb26e547-52c0-4164-ab46-784437ebf04a",
   "metadata": {},
   "outputs": [
    {
     "data": {
      "text/html": [
       "<div>\n",
       "<style scoped>\n",
       "    .dataframe tbody tr th:only-of-type {\n",
       "        vertical-align: middle;\n",
       "    }\n",
       "\n",
       "    .dataframe tbody tr th {\n",
       "        vertical-align: top;\n",
       "    }\n",
       "\n",
       "    .dataframe thead th {\n",
       "        text-align: right;\n",
       "    }\n",
       "</style>\n",
       "<table border=\"1\" class=\"dataframe\">\n",
       "  <thead>\n",
       "    <tr style=\"text-align: right;\">\n",
       "      <th></th>\n",
       "      <th></th>\n",
       "      <th>mean</th>\n",
       "      <th>median</th>\n",
       "      <th>std</th>\n",
       "    </tr>\n",
       "    <tr>\n",
       "      <th>hp_rank</th>\n",
       "      <th>variable</th>\n",
       "      <th></th>\n",
       "      <th></th>\n",
       "      <th></th>\n",
       "    </tr>\n",
       "  </thead>\n",
       "  <tbody>\n",
       "    <tr>\n",
       "      <th rowspan=\"5\" valign=\"top\">0</th>\n",
       "      <th>accuracy</th>\n",
       "      <td>0.999960</td>\n",
       "      <td>0.999959</td>\n",
       "      <td>0.000007</td>\n",
       "    </tr>\n",
       "    <tr>\n",
       "      <th>log_loss</th>\n",
       "      <td>0.001429</td>\n",
       "      <td>0.001496</td>\n",
       "      <td>0.000265</td>\n",
       "    </tr>\n",
       "    <tr>\n",
       "      <th>precision</th>\n",
       "      <td>0.979716</td>\n",
       "      <td>0.978495</td>\n",
       "      <td>0.003878</td>\n",
       "    </tr>\n",
       "    <tr>\n",
       "      <th>recall</th>\n",
       "      <td>0.980632</td>\n",
       "      <td>0.980000</td>\n",
       "      <td>0.003541</td>\n",
       "    </tr>\n",
       "    <tr>\n",
       "      <th>roc_auc</th>\n",
       "      <td>0.990306</td>\n",
       "      <td>0.989989</td>\n",
       "      <td>0.001772</td>\n",
       "    </tr>\n",
       "    <tr>\n",
       "      <th>...</th>\n",
       "      <th>...</th>\n",
       "      <td>...</td>\n",
       "      <td>...</td>\n",
       "      <td>...</td>\n",
       "    </tr>\n",
       "    <tr>\n",
       "      <th rowspan=\"5\" valign=\"top\">14</th>\n",
       "      <th>accuracy</th>\n",
       "      <td>0.999951</td>\n",
       "      <td>0.999952</td>\n",
       "      <td>0.000004</td>\n",
       "    </tr>\n",
       "    <tr>\n",
       "      <th>log_loss</th>\n",
       "      <td>0.001761</td>\n",
       "      <td>0.001717</td>\n",
       "      <td>0.000135</td>\n",
       "    </tr>\n",
       "    <tr>\n",
       "      <th>precision</th>\n",
       "      <td>0.974138</td>\n",
       "      <td>0.973258</td>\n",
       "      <td>0.002031</td>\n",
       "    </tr>\n",
       "    <tr>\n",
       "      <th>recall</th>\n",
       "      <td>0.977050</td>\n",
       "      <td>0.976923</td>\n",
       "      <td>0.003084</td>\n",
       "    </tr>\n",
       "    <tr>\n",
       "      <th>roc_auc</th>\n",
       "      <td>0.988512</td>\n",
       "      <td>0.988449</td>\n",
       "      <td>0.001542</td>\n",
       "    </tr>\n",
       "  </tbody>\n",
       "</table>\n",
       "<p>75 rows × 3 columns</p>\n",
       "</div>"
      ],
      "text/plain": [
       "                       mean    median       std\n",
       "hp_rank variable                               \n",
       "0       accuracy   0.999960  0.999959  0.000007\n",
       "        log_loss   0.001429  0.001496  0.000265\n",
       "        precision  0.979716  0.978495  0.003878\n",
       "        recall     0.980632  0.980000  0.003541\n",
       "        roc_auc    0.990306  0.989989  0.001772\n",
       "...                     ...       ...       ...\n",
       "14      accuracy   0.999951  0.999952  0.000004\n",
       "        log_loss   0.001761  0.001717  0.000135\n",
       "        precision  0.974138  0.973258  0.002031\n",
       "        recall     0.977050  0.976923  0.003084\n",
       "        roc_auc    0.988512  0.988449  0.001542\n",
       "\n",
       "[75 rows x 3 columns]"
      ]
     },
     "execution_count": 22,
     "metadata": {},
     "output_type": "execute_result"
    }
   ],
   "source": [
    "CollectedMetrics.drop('fold', axis=1).melt(id_vars=['hp_rank']).groupby(['hp_rank', 'variable'])['value'].agg(['mean', 'median', 'std'])"
   ]
  },
  {
   "cell_type": "code",
   "execution_count": 23,
   "id": "c71354b5-6f4e-4ac6-9439-e01e4c742aba",
   "metadata": {},
   "outputs": [
    {
     "name": "stderr",
     "output_type": "stream",
     "text": [
      "/var/folders/zh/p6wj0vfs3qq684w4b1m0_tvr0000gn/T/ipykernel_61982/1342183298.py:1: FutureWarning: The provided callable <function mean at 0x10581bce0> is currently using SeriesGroupBy.mean. In a future version of pandas, the provided callable will be used directly. To keep current behavior pass the string \"mean\" instead.\n",
      "  CollectedMetrics.groupby('hp_rank').agg(\n"
     ]
    },
    {
     "data": {
      "text/html": [
       "<div>\n",
       "<style scoped>\n",
       "    .dataframe tbody tr th:only-of-type {\n",
       "        vertical-align: middle;\n",
       "    }\n",
       "\n",
       "    .dataframe tbody tr th {\n",
       "        vertical-align: top;\n",
       "    }\n",
       "\n",
       "    .dataframe thead th {\n",
       "        text-align: right;\n",
       "    }\n",
       "</style>\n",
       "<table border=\"1\" class=\"dataframe\">\n",
       "  <thead>\n",
       "    <tr style=\"text-align: right;\">\n",
       "      <th></th>\n",
       "      <th>mean</th>\n",
       "    </tr>\n",
       "    <tr>\n",
       "      <th>hp_rank</th>\n",
       "      <th></th>\n",
       "    </tr>\n",
       "  </thead>\n",
       "  <tbody>\n",
       "    <tr>\n",
       "      <th>3</th>\n",
       "      <td>0.001195</td>\n",
       "    </tr>\n",
       "    <tr>\n",
       "      <th>2</th>\n",
       "      <td>0.001197</td>\n",
       "    </tr>\n",
       "    <tr>\n",
       "      <th>0</th>\n",
       "      <td>0.001429</td>\n",
       "    </tr>\n",
       "    <tr>\n",
       "      <th>1</th>\n",
       "      <td>0.001481</td>\n",
       "    </tr>\n",
       "    <tr>\n",
       "      <th>5</th>\n",
       "      <td>0.001681</td>\n",
       "    </tr>\n",
       "  </tbody>\n",
       "</table>\n",
       "</div>"
      ],
      "text/plain": [
       "             mean\n",
       "hp_rank          \n",
       "3        0.001195\n",
       "2        0.001197\n",
       "0        0.001429\n",
       "1        0.001481\n",
       "5        0.001681"
      ]
     },
     "execution_count": 23,
     "metadata": {},
     "output_type": "execute_result"
    }
   ],
   "source": [
    "CollectedMetrics.groupby('hp_rank').agg(\n",
    "    mean=('log_loss', np.mean),\n",
    "    ).sort_values('mean').head(5)"
   ]
  },
  {
   "cell_type": "code",
   "execution_count": 24,
   "id": "af7eb70c-f0a4-413e-b6b1-d8e653b8b566",
   "metadata": {},
   "outputs": [
    {
     "name": "stderr",
     "output_type": "stream",
     "text": [
      "/var/folders/zh/p6wj0vfs3qq684w4b1m0_tvr0000gn/T/ipykernel_61982/1022900596.py:1: FutureWarning: The provided callable <function median at 0x10596eac0> is currently using SeriesGroupBy.median. In a future version of pandas, the provided callable will be used directly. To keep current behavior pass the string \"median\" instead.\n",
      "  CollectedMetrics.groupby('hp_rank').agg(\n"
     ]
    },
    {
     "data": {
      "text/html": [
       "<div>\n",
       "<style scoped>\n",
       "    .dataframe tbody tr th:only-of-type {\n",
       "        vertical-align: middle;\n",
       "    }\n",
       "\n",
       "    .dataframe tbody tr th {\n",
       "        vertical-align: top;\n",
       "    }\n",
       "\n",
       "    .dataframe thead th {\n",
       "        text-align: right;\n",
       "    }\n",
       "</style>\n",
       "<table border=\"1\" class=\"dataframe\">\n",
       "  <thead>\n",
       "    <tr style=\"text-align: right;\">\n",
       "      <th></th>\n",
       "      <th>median</th>\n",
       "    </tr>\n",
       "    <tr>\n",
       "      <th>hp_rank</th>\n",
       "      <th></th>\n",
       "    </tr>\n",
       "  </thead>\n",
       "  <tbody>\n",
       "    <tr>\n",
       "      <th>3</th>\n",
       "      <td>0.001236</td>\n",
       "    </tr>\n",
       "    <tr>\n",
       "      <th>2</th>\n",
       "      <td>0.001246</td>\n",
       "    </tr>\n",
       "    <tr>\n",
       "      <th>0</th>\n",
       "      <td>0.001496</td>\n",
       "    </tr>\n",
       "    <tr>\n",
       "      <th>1</th>\n",
       "      <td>0.001496</td>\n",
       "    </tr>\n",
       "    <tr>\n",
       "      <th>6</th>\n",
       "      <td>0.001606</td>\n",
       "    </tr>\n",
       "  </tbody>\n",
       "</table>\n",
       "</div>"
      ],
      "text/plain": [
       "           median\n",
       "hp_rank          \n",
       "3        0.001236\n",
       "2        0.001246\n",
       "0        0.001496\n",
       "1        0.001496\n",
       "6        0.001606"
      ]
     },
     "execution_count": 24,
     "metadata": {},
     "output_type": "execute_result"
    }
   ],
   "source": [
    "CollectedMetrics.groupby('hp_rank').agg(\n",
    "    median=('log_loss', np.median),\n",
    "    ).sort_values('median').head(5)"
   ]
  },
  {
   "cell_type": "code",
   "execution_count": 25,
   "id": "3f97a7a3-1c88-4669-81cc-d44e8fda2ed1",
   "metadata": {},
   "outputs": [
    {
     "data": {
      "text/plain": [
       "{'num_trees': 266,\n",
       " 'learning_rate': 0.0105456660775919,\n",
       " 'min_data_in_leaf': 42,\n",
       " 'objective': 'binary',\n",
       " 'early_stopping_round': -1}"
      ]
     },
     "execution_count": 25,
     "metadata": {},
     "output_type": "execute_result"
    }
   ],
   "source": [
    "param_dict[3]"
   ]
  }
 ],
 "metadata": {
  "kernelspec": {
   "display_name": "Python 3 (ipykernel)",
   "language": "python",
   "name": "python3"
  },
  "language_info": {
   "codemirror_mode": {
    "name": "ipython",
    "version": 3
   },
   "file_extension": ".py",
   "mimetype": "text/x-python",
   "name": "python",
   "nbconvert_exporter": "python",
   "pygments_lexer": "ipython3",
   "version": "3.12.2"
  }
 },
 "nbformat": 4,
 "nbformat_minor": 5
}
