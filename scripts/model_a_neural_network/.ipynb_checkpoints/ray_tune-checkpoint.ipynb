{
 "cells": [
  {
   "cell_type": "code",
   "execution_count": 6,
   "id": "4106c744-5a93-43c7-ae2c-fb55f0531ccc",
   "metadata": {},
   "outputs": [],
   "source": [
    "import lightgbm as lgb\n",
    "import numpy as np\n",
    "import pandas as pd\n",
    "from ray import train, tune\n",
    "from ray.tune.search.optuna import OptunaSearch\n",
    "# from ray.tune.schedulers import ASHAScheduler\n",
    "from ray.tune.search import ConcurrencyLimiter"
   ]
  },
  {
   "cell_type": "code",
   "execution_count": 7,
   "id": "bbe7ee40-8d8e-4f21-9477-69795210dd7e",
   "metadata": {},
   "outputs": [],
   "source": [
    "def fit_mod(space):\n",
    "\n",
    "    # ELT\n",
    "    X = pd.read_parquet('/Volumes/Extreme SSD/rematch1_predictor/full_training_data/train_x.parquet')\n",
    "    Y = pd.read_parquet('/Volumes/Extreme SSD/rematch1_predictor/full_training_data/full_data_y.parquet')\n",
    "    \n",
    "    size_of_train_set = round(0.8 * X.shape[0])\n",
    "    rows_for_train_set = np.random.choice(a=X.index, size=size_of_train_set, replace=False)\n",
    "    rows_for_test_set = np.setdiff1d(X.index, rows_for_train_set)\n",
    "    \n",
    "    train_set = lgb.Dataset(X.loc[rows_for_train_set], Y.loc[rows_for_train_set])\n",
    "    test_set = lgb.Dataset(X.loc[rows_for_test_set], Y.loc[rows_for_test_set])\n",
    "\n",
    "    # Model\n",
    "    gbm = lgb.train(\n",
    "        space,\n",
    "        train_set,\n",
    "        valid_sets=[test_set],\n",
    "    )\n",
    "    binary_logloss = gbm.best_score['valid_0']['binary_logloss']\n",
    "    auc = gbm.best_score['valid_0']['auc']\n",
    "    train.report(\n",
    "        {\n",
    "            \"binary_logloss\": binary_logloss,\n",
    "            \"auc\": auc\n",
    "        }\n",
    "    )"
   ]
  },
  {
   "cell_type": "code",
   "execution_count": 8,
   "id": "8c205b97-589d-4eac-a8a5-78e63fbdfd9e",
   "metadata": {},
   "outputs": [],
   "source": [
    "space = {\n",
    "    'num_rounds': tune.randint(1, 500),\n",
    "    'learning_rate': tune.uniform(0.0001, 1),\n",
    "    'min_data_in_leaf': tune.randint(1, 200),\n",
    "    'objective':'binary', \n",
    "    'early_stopping_round':2,\n",
    "    'metrics':['binary_logloss', 'auc']\n",
    "    }"
   ]
  },
  {
   "cell_type": "code",
   "execution_count": 9,
   "id": "874491e2-bdab-4591-8651-ec4635185a90",
   "metadata": {},
   "outputs": [],
   "source": [
    "# asha_scheduler = ASHAScheduler(\n",
    "#     time_attr='training_iteration',\n",
    "#     metric='binary_logloss',\n",
    "#     mode='min',\n",
    "#     max_t=1000,\n",
    "#     grace_period=50,\n",
    "#     reduction_factor=3,\n",
    "#     brackets=1,\n",
    "# )\n",
    "\n",
    "search_alg = OptunaSearch(metric=\"binary_logloss\", mode=\"min\")\n",
    "search_alg = ConcurrencyLimiter(search_alg, max_concurrent=1)"
   ]
  },
  {
   "cell_type": "code",
   "execution_count": 5,
   "id": "a258cd81-5cb2-4fae-bc80-0fdcd4225b25",
   "metadata": {},
   "outputs": [
    {
     "ename": "AssertionError",
     "evalue": "Optuna must be installed! Run `pip install optuna`.",
     "output_type": "error",
     "traceback": [
      "\u001b[0;31m---------------------------------------------------------------------------\u001b[0m",
      "\u001b[0;31mAssertionError\u001b[0m                            Traceback (most recent call last)",
      "Cell \u001b[0;32mIn[5], line 9\u001b[0m\n\u001b[1;32m      1\u001b[0m space \u001b[38;5;241m=\u001b[39m {\n\u001b[1;32m      2\u001b[0m     \u001b[38;5;124m'\u001b[39m\u001b[38;5;124mnum_rounds\u001b[39m\u001b[38;5;124m'\u001b[39m: tune\u001b[38;5;241m.\u001b[39mrandint(\u001b[38;5;241m1\u001b[39m, \u001b[38;5;241m300\u001b[39m),\n\u001b[1;32m      3\u001b[0m     \u001b[38;5;124m'\u001b[39m\u001b[38;5;124mlearning_rate\u001b[39m\u001b[38;5;124m'\u001b[39m: tune\u001b[38;5;241m.\u001b[39muniform(\u001b[38;5;241m0.0001\u001b[39m, \u001b[38;5;241m1\u001b[39m),\n\u001b[0;32m   (...)\u001b[0m\n\u001b[1;32m      7\u001b[0m     \u001b[38;5;124m'\u001b[39m\u001b[38;5;124mmetrics\u001b[39m\u001b[38;5;124m'\u001b[39m:[\u001b[38;5;124m'\u001b[39m\u001b[38;5;124mbinary_logloss\u001b[39m\u001b[38;5;124m'\u001b[39m, \u001b[38;5;124m'\u001b[39m\u001b[38;5;124mauc\u001b[39m\u001b[38;5;124m'\u001b[39m]\n\u001b[1;32m      8\u001b[0m     }\n\u001b[0;32m----> 9\u001b[0m optuna_search \u001b[38;5;241m=\u001b[39m OptunaSearch(metric\u001b[38;5;241m=\u001b[39m\u001b[38;5;124m\"\u001b[39m\u001b[38;5;124mbinary_logloss\u001b[39m\u001b[38;5;124m\"\u001b[39m, mode\u001b[38;5;241m=\u001b[39m\u001b[38;5;124m\"\u001b[39m\u001b[38;5;124mmin\u001b[39m\u001b[38;5;124m\"\u001b[39m)\n\u001b[1;32m     11\u001b[0m tuner \u001b[38;5;241m=\u001b[39m tune\u001b[38;5;241m.\u001b[39mTuner(\n\u001b[1;32m     12\u001b[0m     fit_mod,\n\u001b[1;32m     13\u001b[0m     tune_config\u001b[38;5;241m=\u001b[39mtune\u001b[38;5;241m.\u001b[39mTuneConfig(search_alg\u001b[38;5;241m=\u001b[39moptuna_search),\n\u001b[0;32m   (...)\u001b[0m\n\u001b[1;32m     18\u001b[0m     )\n\u001b[1;32m     19\u001b[0m )\n\u001b[1;32m     20\u001b[0m results \u001b[38;5;241m=\u001b[39m tuner\u001b[38;5;241m.\u001b[39mfit()\n",
      "File \u001b[0;32m/opt/miniconda3/lib/python3.12/site-packages/ray/tune/search/optuna/optuna_search.py:328\u001b[0m, in \u001b[0;36mOptunaSearch.__init__\u001b[0;34m(self, space, metric, mode, points_to_evaluate, sampler, seed, evaluated_rewards)\u001b[0m\n\u001b[1;32m    312\u001b[0m \u001b[38;5;28;01mdef\u001b[39;00m \u001b[38;5;21m__init__\u001b[39m(\n\u001b[1;32m    313\u001b[0m     \u001b[38;5;28mself\u001b[39m,\n\u001b[1;32m    314\u001b[0m     space: Optional[\n\u001b[0;32m   (...)\u001b[0m\n\u001b[1;32m    326\u001b[0m     evaluated_rewards: Optional[List] \u001b[38;5;241m=\u001b[39m \u001b[38;5;28;01mNone\u001b[39;00m,\n\u001b[1;32m    327\u001b[0m ):\n\u001b[0;32m--> 328\u001b[0m     \u001b[38;5;28;01massert\u001b[39;00m ot \u001b[38;5;129;01mis\u001b[39;00m \u001b[38;5;129;01mnot\u001b[39;00m \u001b[38;5;28;01mNone\u001b[39;00m, \u001b[38;5;124m\"\u001b[39m\u001b[38;5;124mOptuna must be installed! Run `pip install optuna`.\u001b[39m\u001b[38;5;124m\"\u001b[39m\n\u001b[1;32m    329\u001b[0m     \u001b[38;5;28msuper\u001b[39m(OptunaSearch, \u001b[38;5;28mself\u001b[39m)\u001b[38;5;241m.\u001b[39m\u001b[38;5;21m__init__\u001b[39m(metric\u001b[38;5;241m=\u001b[39mmetric, mode\u001b[38;5;241m=\u001b[39mmode)\n\u001b[1;32m    331\u001b[0m     \u001b[38;5;28;01mif\u001b[39;00m \u001b[38;5;28misinstance\u001b[39m(space, \u001b[38;5;28mdict\u001b[39m) \u001b[38;5;129;01mand\u001b[39;00m space:\n",
      "\u001b[0;31mAssertionError\u001b[0m: Optuna must be installed! Run `pip install optuna`."
     ]
    }
   ],
   "source": [
    "tuner = tune.Tuner(\n",
    "    fit_mod,\n",
    "    tune_config=tune.TuneConfig(\n",
    "        # scheduler=asha_scheduler,\n",
    "        search_alg=search_alg,\n",
    "        num_samples=1000\n",
    "    ),\n",
    "    param_space=space,\n",
    "    run_config=train.RunConfig(\n",
    "        storage_path=\"/Users/andrewbartnof/Documents/rmi/rematch_ferc_eia1/clean_data/model_full_gradient_boost/ray_tune\", \n",
    "        name=\"gb_ray_tune\"\n",
    "    )\n",
    ")\n",
    "results = tuner.fit()"
   ]
  },
  {
   "cell_type": "code",
   "execution_count": null,
   "id": "0530a636-edca-466d-bd97-2cc743cafdc7",
   "metadata": {},
   "outputs": [],
   "source": [
    "# experiment_path = \"/Users/andrewbartnof/Documents/rmi/rematch_ferc_eia1/clean_data/model_full_gradient_boost/ray_tune/gb_ray_tune\"\n",
    "# restored_tuner = tune.Tuner.restore(experiment_path, trainable=fit_mod)"
   ]
  },
  {
   "cell_type": "code",
   "execution_count": null,
   "id": "0c865454-c5f1-452f-a4eb-a0b46be8f113",
   "metadata": {},
   "outputs": [],
   "source": [
    "# fn_results = '/Users/andrewbartnof/Documents/rmi/rematch_ferc_eia1/clean_data/model_full_gradient_boost/ray_tune/ray_tune_dataframe.csv'\n",
    "# restored_tuner.get_results().get_dataframe().to_csv(fn_results)"
   ]
  },
  {
   "cell_type": "code",
   "execution_count": 11,
   "id": "87caa34e-16e8-4b41-9a34-64cf0773ab49",
   "metadata": {},
   "outputs": [
    {
     "name": "stdout",
     "output_type": "stream",
     "text": [
      "[NbConvertApp] Converting notebook ray_tune.ipynb to script\n",
      "[NbConvertApp] Writing 2760 bytes to ray_tune.py\n"
     ]
    }
   ],
   "source": [
    "# !jupyter nbconvert --to script ray_tune.ipynb"
   ]
  }
 ],
 "metadata": {
  "kernelspec": {
   "display_name": "Python 3 (ipykernel)",
   "language": "python",
   "name": "python3"
  },
  "language_info": {
   "codemirror_mode": {
    "name": "ipython",
    "version": 3
   },
   "file_extension": ".py",
   "mimetype": "text/x-python",
   "name": "python",
   "nbconvert_exporter": "python",
   "pygments_lexer": "ipython3",
   "version": "3.12.2"
  }
 },
 "nbformat": 4,
 "nbformat_minor": 5
}
